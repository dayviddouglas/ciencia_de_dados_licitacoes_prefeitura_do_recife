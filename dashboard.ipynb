{
  "nbformat": 4,
  "nbformat_minor": 0,
  "metadata": {
    "colab": {
      "provenance": [],
      "include_colab_link": true
    },
    "kernelspec": {
      "name": "python3",
      "display_name": "Python 3"
    },
    "language_info": {
      "name": "python"
    }
  },
  "cells": [
    {
      "cell_type": "markdown",
      "metadata": {
        "id": "view-in-github",
        "colab_type": "text"
      },
      "source": [
        "<a href=\"https://colab.research.google.com/github/dayviddouglas/ciencia_de_dados_licitacoes_prefeitura_do_recife/blob/test/dashboard.ipynb\" target=\"_parent\"><img src=\"https://colab.research.google.com/assets/colab-badge.svg\" alt=\"Open In Colab\"/></a>"
      ]
    },
    {
      "cell_type": "code",
      "source": [
        "!pip install dash\n",
        "!pip install plotly-express"
      ],
      "metadata": {
        "id": "iGBHgXSWMYum"
      },
      "execution_count": null,
      "outputs": []
    },
    {
      "cell_type": "code",
      "execution_count": 2,
      "metadata": {
        "id": "Gc9DznByI81V"
      },
      "outputs": [],
      "source": [
        "import pandas as pd\n",
        "import requests as req\n",
        "from io import StringIO\n",
        "import urllib\n",
        "import matplotlib.pyplot as plt\n",
        "import plotly.subplots as sp\n",
        "from plotly.subplots import make_subplots\n",
        "import plotly.graph_objects as go\n",
        "import dash as dsh\n",
        "from dash import Dash, html,dcc,Input,Output\n",
        "import plotly.express as px\n",
        "\n",
        "file_id= \"1-0_rPre-v9jjAg1hwdK_mbfYUQqfCvYS\"\n",
        "url =  f\"https://drive.google.com/uc?id={file_id}\"\n",
        "\n",
        "\n",
        "try:\n",
        "    response = req.get(url)\n",
        "    response.encoding = 'utf-8'\n",
        "    response.raise_for_status()  # Lança um erro para respostas não-sucedidas\n",
        "    # Usando StringIO para converter o texto em um arquivo em memória e, então, lendo com o Pandas\n",
        "    csv_raw = StringIO(response.text)\n",
        "    base = pd.read_csv(csv_raw, encoding='utf-8')\n",
        "\n",
        "\n",
        "\n",
        "except req.RequestException as e:\n",
        "    print(f\"Erro ao acessar o arquivo: {e}\")\n",
        "\n",
        "\n"
      ]
    },
    {
      "cell_type": "code",
      "source": [
        "base"
      ],
      "metadata": {
        "id": "-yq3Eis9JV1Q"
      },
      "execution_count": null,
      "outputs": []
    },
    {
      "cell_type": "code",
      "source": [
        "base2 = base.copy()\n",
        "\n",
        "def abreviar_coluna_especifica(base2, coluna_especifica):\n",
        "    # Verifica se a coluna especificada existe no DataFrame\n",
        "    if coluna_especifica in base2.columns:\n",
        "        # Aplica a função de abreviação somente na coluna especificada\n",
        "        base2[coluna_especifica] = base2[coluna_especifica].apply(lambda x: abreviar_apos_primeiro_nome(x) if isinstance(x, str) else x)\n",
        "    return base2\n",
        "\n",
        "def abreviar_apos_primeiro_nome(s):\n",
        "    partes = s.split(maxsplit=1)\n",
        "    # Mantém o primeiro nome e abrevia o restante das palavras em grupos de 3 caracteres\n",
        "    if len(partes) > 1:\n",
        "        # Abrevia cada palavra do restante da string em grupos de 3 caracteres\n",
        "        abreviacao = ' '.join([palavra[:3] for palavra in partes[1].split()])\n",
        "        return partes[0] + ' ' + abreviacao\n",
        "    else:\n",
        "        return s\n",
        "\n",
        "# Supondo que base2 seja um DataFrame do pandas, a função agora será aplicada somente na coluna 'orgao_licitante'.\n",
        "# O código a seguir é apenas para demonstração e não será executado aqui.\n",
        "base2['orgao_abreviado'] = base2['orgao_licitante']\n",
        "base2['comissao_abreviado'] = base2['comissao_licitacao']\n",
        "base2['objeto_abreviado'] = base2['objeto']\n",
        "\n",
        "base2 = abreviar_coluna_especifica(base2, 'orgao_abreviado')\n",
        "base2 = abreviar_coluna_especifica(base2, 'comissao_abreviado')\n",
        "base2 = abreviar_coluna_especifica(base2, 'objeto_abreviado')\n",
        "base2.head()"
      ],
      "metadata": {
        "id": "GSXH2Vo0Jrd3"
      },
      "execution_count": null,
      "outputs": []
    },
    {
      "cell_type": "markdown",
      "source": [
        "<h2> Criando Dataframe de Processos Licitatórios por Estado.</h2>"
      ],
      "metadata": {
        "id": "lDy6kBLl7NEG"
      }
    },
    {
      "cell_type": "code",
      "source": [
        "process_uf= pd.DataFrame(base[\"uf_endcontratado\"].value_counts())\n",
        "process_uf.reset_index(inplace=True)\n",
        "process_uf.columns = ['uf_endcontratado', 'count']\n",
        "cinco_mais_estados=process_uf.head(5)\n",
        "\n",
        "\n",
        "\n"
      ],
      "metadata": {
        "id": "Xv2-dhgs57tM"
      },
      "execution_count": null,
      "outputs": []
    },
    {
      "cell_type": "markdown",
      "source": [
        "<h2> Criando gráfico de licitações por estado.</h2>"
      ],
      "metadata": {
        "id": "Y3LC2g1P7yfa"
      }
    },
    {
      "cell_type": "code",
      "source": [
        "# graf_process_uf= go.Figure(data=[go.Pie(labels=cinco_mais_estados['uf_endcontratado'], values=cinco_mais_estados['count'], name=\"Licitações por estado\")])\n",
        "# graf_process_uf\n",
        "\n"
      ],
      "metadata": {
        "id": "Rb0eiESC7o-C"
      },
      "execution_count": null,
      "outputs": []
    },
    {
      "cell_type": "code",
      "source": [
        "\n",
        "process_pe=base[base[\"uf_endcontratado\"]== \"PE\"]\n",
        "process_pe[\"cidade_endcontratado\"].value_counts()\n",
        "\n",
        "# Criando o dataframe Quantidade de processos por cidade\n",
        "\n",
        "df_process_cidade = pd.DataFrame(process_pe[\"cidade_endcontratado\"].value_counts())\n",
        "df_process_cidade.reset_index(inplace=True)\n",
        "df_process_cidade.columns = ['cidade_endcontratado', 'count']\n",
        "\n",
        "\n",
        "\n",
        "\n"
      ],
      "metadata": {
        "id": "u-OvCznkvp7a"
      },
      "execution_count": 5,
      "outputs": []
    },
    {
      "cell_type": "code",
      "source": [
        "# Transformando a filtragem cidades cujos os produtos ou serviços participaram de licitações em dataframe.\n",
        "df_process_cidade = pd.DataFrame(process_pe[\"cidade_endcontratado\"].value_counts())\n",
        "df_process_cidade.reset_index(inplace=True)\n",
        "df_process_cidade.columns = ['cidade_endcontratado', 'count']\n",
        "cincos_cidades_com_mais_process=df_process_cidade.iloc[0:5]\n"
      ],
      "metadata": {
        "id": "EMqu7J8IUPve"
      },
      "execution_count": 6,
      "outputs": []
    },
    {
      "cell_type": "code",
      "source": [
        "# Criando o gráfico dos processos por cidade.\n",
        "graf_process_cidade2 = go.Figure(data=[go.Pie(labels=cincos_cidades_com_mais_process['cidade_endcontratado'], values=cincos_cidades_com_mais_process['count'], name=\"Licitações por cidade\")])\n",
        "graf_process_cidade2"
      ],
      "metadata": {
        "id": "rETJozYdQRCA"
      },
      "execution_count": null,
      "outputs": []
    },
    {
      "cell_type": "code",
      "source": [
        "# Transformando a filtragem sobre as 5 comissões que mais participaram de solicitações em dataframe.\n",
        "comissoes_licitantes= pd.DataFrame(base2[\"comissao_abreviado\"].value_counts())\n",
        "comissoes_licitantes.reset_index(inplace=True)\n",
        "comissoes_licitantes.columns = ['comissao_licitacao', 'count']\n",
        "comissoes_value=[\n",
        "    \"CPLMSA\",\n",
        "    \"CPLSSA\",\n",
        "    \"CPLM\",\n",
        "    \"EQUIPE DE PREGÃO - EMLURB\",\n",
        "    \"COMISSÃO DE LICITAÇÃO - EMLURB\"\n",
        "]\n",
        "cinco_mais_comissoes=comissoes_licitantes.iloc[0:5]\n",
        "cinco_mais_comissoes['comissao_licitacao'] = comissoes_value\n",
        "cinco_mais_comissoes\n",
        "\n"
      ],
      "metadata": {
        "id": "QLViXxBJa6sz"
      },
      "execution_count": null,
      "outputs": []
    },
    {
      "cell_type": "code",
      "source": [
        "# Criando gráfico das 5 comissões que mais participaram de licitações.\n",
        "graf_comissoes_licitantes=px.bar(cinco_mais_comissoes, x=\"comissao_licitacao\", y=\"count\", labels={\n",
        "                     \"comissao_licitacao\": \"Comissão\",\n",
        "                     \"count\": \"Quantidade\"}, barmode=\"group\", title=\"Quantidade de processos por comissão.\")"
      ],
      "metadata": {
        "id": "w5npbPQheV4I"
      },
      "execution_count": 9,
      "outputs": []
    },
    {
      "cell_type": "code",
      "source": [
        "freq_orgao_licitantes=pd.DataFrame(base2['orgao_abreviado'].value_counts())\n",
        "freq_orgao_licitantes.reset_index(inplace=True)\n",
        "freq_orgao_licitantes.columns = ['orgao_licitante', 'count']\n",
        "orgao_values = [\n",
        "    \"FUNDO MUN. DE SAÚDE\",\n",
        "    \"EMLURB\",\n",
        "    \"FUNDAÇÃO DE CULTURA\",\n",
        "    \"SEC. DE EDUCAÇÃO\",\n",
        "    \"FMAS\"\n",
        "]\n",
        "cinco_mais_orgaos=freq_orgao_licitantes.iloc[0:5]\n",
        "cinco_mais_orgaos['orgao_licitante'] = orgao_values\n",
        "cinco_mais_orgaos"
      ],
      "metadata": {
        "id": "MnNCPFOojEQ2"
      },
      "execution_count": null,
      "outputs": []
    },
    {
      "cell_type": "code",
      "source": [
        "# Criando gráfico dos 5 orgãos que mais participaram de licitações.\n",
        "graf_orgao_licitantes=px.bar(cinco_mais_orgaos, x=\"orgao_licitante\", y=\"count\", labels={\n",
        "                     \"orgao_licitante\": \"Orgão\",\n",
        "                     \"count\": \"Quantidade\"}, barmode=\"group\", title=\"Quantidade de processos por orgão.\")"
      ],
      "metadata": {
        "id": "HLnkk2h4l7Ah"
      },
      "execution_count": 11,
      "outputs": []
    },
    {
      "cell_type": "code",
      "source": [
        "# Transformando a filtragem sobre os 5 objetos que mais participaram de solicitações em dataframe.\n",
        "freq_objeto=pd.DataFrame(base2[\"objeto_abreviado\"].value_counts().head(5))\n",
        "freq_objeto.reset_index(inplace=True)\n",
        "freq_objeto.columns = ['objeto', 'count']\n",
        "\n",
        "objeto_values = [\n",
        "    \"AQUISICAO DE MATERIAL HOSPITALAR\",\n",
        "    \"AQUISIÇÃO DE MEDICAMENTOS\",\n",
        "    \"REGISTRO DE PREÇO DE MATERIAL HOSPITALAR\",\n",
        "    \"REGISTRO DE PREÇO DE MATERIAIS ELÉTRICOS\",\n",
        "    \"REGISTRO DE PREÇOS PARA AQUISIÇÃO DE MEDICAMENTOS\"\n",
        "]\n",
        "\n",
        "\n",
        "freq_objeto['objeto'] = objeto_values\n",
        "freq_objeto['contador'] = freq_objeto.index"
      ],
      "metadata": {
        "id": "2EsmvAuD0eXp"
      },
      "execution_count": 12,
      "outputs": []
    },
    {
      "cell_type": "code",
      "source": [
        "# Criando o Gráfico de objetos que mais participaram de licitações.\n",
        "graf_objeto=px.bar(freq_objeto, x=\"objeto\", y=\"count\", labels={\n",
        "                     \"objeto\": \"Objeto\",\n",
        "                     \"count\": \"Quantidade\"}, barmode=\"group\", title=\"Quantidade de licitações por objeto.\")"
      ],
      "metadata": {
        "id": "ny6gW-5P54L8"
      },
      "execution_count": 13,
      "outputs": []
    },
    {
      "cell_type": "code",
      "source": [
        "# Transformando a filtragem sobre os 5 valores homologados que mais participaram de solicitações em dataframe.\n",
        "freq_val_homologados=pd.DataFrame(base[\"valor_totalhomologadolicitacao\"].value_counts().head(5))\n",
        "freq_val_homologados.reset_index(inplace=True)\n",
        "freq_val_homologados.columns = ['valor_totalhomologadolicitacao', 'count']\n",
        "\n"
      ],
      "metadata": {
        "id": "Ff59fpNor1v4"
      },
      "execution_count": 14,
      "outputs": []
    },
    {
      "cell_type": "code",
      "source": [
        "# Criando o Gráfico de valores Homologados que mais participaram de licitações.\n",
        "graf_valor_homolog = go.Figure(data=[go.Bar(x=freq_val_homologados[\"valor_totalhomologadolicitacao\"], y=freq_val_homologados[\"count\"], name='Quantidade de licitações homologadas')])\n",
        "graf_valor_homolog.update_layout(title='Frequência de valores homologados', xaxis_title='Valor homologado', yaxis_title='Quantidade',template=\"plotly_dark\")\n",
        "\n",
        "\n",
        "\n"
      ],
      "metadata": {
        "id": "DiafwbXzu_Hb"
      },
      "execution_count": null,
      "outputs": []
    },
    {
      "cell_type": "code",
      "source": [
        "# Transformando a filtragem sobre os 5 valores por lote que mais participaram de licitações em dataframe.\n",
        "freq_val_lote=pd.DataFrame(base[\"valor_licitacao_lote\"].value_counts().head(5))\n",
        "freq_val_lote.reset_index(inplace=True)\n",
        "freq_val_lote.columns = ['valor_licitacao_lote', 'count']\n",
        "\n"
      ],
      "metadata": {
        "id": "Sn8QPSwM1TjM"
      },
      "execution_count": 16,
      "outputs": []
    },
    {
      "cell_type": "code",
      "source": [
        "# Criando o Gráfico de licitações por lote.\n",
        "graf_valor_lote = go.Figure(data=[go.Bar(x=freq_val_lote[\"valor_licitacao_lote\"], y=freq_val_lote[\"count\"], name='Quantidade de licitações por lote')])\n",
        "\n",
        "\n",
        "graf_valor_lote.update_layout(title='Frequência de valores de licitação por lote', xaxis_title='Valor por lote', yaxis_title='Quantidade',template=\"plotly_dark\")"
      ],
      "metadata": {
        "id": "8cQmkzPW2EO8"
      },
      "execution_count": null,
      "outputs": []
    },
    {
      "cell_type": "code",
      "source": [
        "lista_grafico = [\n",
        "\n",
        "             {'id_grafico':'gráfico-processos-pe-por-cidade','df':cincos_cidades_com_mais_process, 'x_grafico':'cidade_endcontratado',\n",
        "             'y_grafico':'count', 'label1':'Cidade', 'label2':'Quantidade','titulo':\"Quantidade de processos por cidade.\"},\n",
        "\n",
        "            {'id_grafico':'gráfico-comissao-licitacao','df':cinco_mais_comissoes, 'x_grafico':'comissao_licitacao',\n",
        "             'y_grafico':'count', 'label1':'Comissão', 'label2':'Quantidade','titulo':\"Quantidade de processos por comissão.\"},\n",
        "\n",
        "            {'id_grafico':'gráfico-orgao-licitante','df':cinco_mais_orgaos,'x_grafico':'orgao_licitante','y_grafico':'count',\n",
        "             'label1':'Orgão','label2':'Quantidade','titulo':\"Quantidade de processos por orgão.\"},\n",
        "\n",
        "             {'id_grafico':'gráfico-objeto','df':freq_objeto,'x_grafico':'objeto',\n",
        "             'y_grafico':'count', 'label1':'objeto', 'label2':'Quantidade','titulo':\"Quantidade de processos por objeto\"},\n",
        "           ]"
      ],
      "metadata": {
        "id": "a3cV_2zQx3oe"
      },
      "execution_count": 18,
      "outputs": []
    },
    {
      "cell_type": "code",
      "source": [
        "from binascii import hexlify\n",
        "app= Dash(__name__)\n",
        "\n",
        "opcoes=[{'label': 'Processos de Licitação em Pernambuco', 'value': 'gráfico-processos-pe-por-cidade'},\n",
        "        {'label': 'Comissões que participaram de Licitação', 'value': 'gráfico-comissao-licitacao'},\n",
        "        {'label': 'Orgãos que participaram de licitação', 'value': 'gráfico-orgao-licitante'},\n",
        "        {'label': 'Objetos que participaram de licitação', 'value': 'gráfico-objeto'},]\n",
        "\n",
        "\n",
        "\n",
        "opcoes.append({'label': 'Todos os gráficos', 'value': 'todos_os_graficos'})\n",
        "\n",
        "\n",
        "app.layout=html.Div(children=[\n",
        "\n",
        "        html.Div([\n",
        "            html.H1(id=\"texto_principal\", children=\"Processos de Licitação no Estado de Pernambuco\"),\n",
        "        html.A([\n",
        "      html.Button(\"analise de dados\",style={'border':'none','border':'solid','cursor':'pointer','color':'white','padding':'1rem','backgroundColor':'rgb( 63 63 70)'}),\n",
        "   ],href=\"#grafico_s\",target=\"_self\"),\n",
        "    html.A([\n",
        "        html.Button(\"valores por lote\",style={'border':'none','border':'solid','cursor':'pointer','color':'white','padding':'1rem','backgroundColor':'rgb( 63 63 70)'}),\n",
        "    ],href=\"#valor_lote\",target=\"_self\"),\n",
        "    html.A([\n",
        "        html.Button(\"valores homologados\",style={'border':'none','border':'solid','cursor':'pointer','color':'white','padding':'1rem','backgroundColor':'rgb( 63 63 70)'}),\n",
        "    ],href=\"#valor_homolog\",target=\"_self\"),\n",
        "    ],style={'display':'flex','flex':'column','alignItems':'center','justifyContent':'space-around'}),\n",
        "    html.Div([\n",
        "      html.H3(children=\"O presente dashboard faz uma análise dos processos licitatórios, visto que as licitações ocorrem em sua maioria no seu próprio estado.\"),\n",
        "      html.H3(children=\"Foram abordados os seguintes pontos: a quantidade de licitações por cidades, comissão, orgãos e objetos.\"),\n",
        "    ],style={'textAlign':'center','marginTop':'5rem'}),\n",
        "\n",
        "    dcc.Dropdown(opcoes,'todos_os_graficos', id='drop_down',style={'width':'50vw','color':'black','margin':'auto','marginTop':'5rem'}),\n",
        "\n",
        "        dcc.Graph(id= \"grafico_s\"),\n",
        "\n",
        "        html.H3(children=\"Outro tópico abordado, foi os processos licitátorios por lote, observando a frequência foi constatado os valores que tiveram maior constância sendo assim, entende-se os padrões de comportamento das licitações por lote\",style={'textAlign':'center','marginTop':'5rem'}),\n",
        "\n",
        "        dcc.Graph(id=\"valor_lote\",figure=graf_valor_lote),\n",
        "\n",
        "        html.H3(children=\"Análise estátistica dos válores por lote homologados:\"),\n",
        "\n",
        "        html.Div([html.P(children=\"Moda:\"+str(base['valor_licitacao_lote'].mode()[0]),style={'border':'solid','borderRadius':'15px','padding':'1rem'}),\n",
        "\n",
        "        html.P(children=\"Média:\"+str(base['valor_licitacao_lote'].mean()),style={'border':'solid','borderRadius':'15px','padding':'1rem'}),\n",
        "\n",
        "        html.P(children=\"Mediana:\"+str(base['valor_licitacao_lote'].median()),style={'border':'solid','borderRadius':'15px','padding':'1rem'}),\n",
        "\n",
        "        html.P(children=\"Desvio Padrão:\"+str(base['valor_licitacao_lote'].std()),style={'border':'solid','borderRadius':'15px','padding':'1rem'}),\n",
        "\n",
        "        html.P(children=\"Variância:\"+str(base['valor_licitacao_lote'].var()),style={'border':'solid','borderRadius':'15px','padding':'1rem'}),\n",
        "\n",
        "        html.Div([html.P(children=\"Assimetria: Positiva, indicando uma cauda mais longa ou mais espessa à direita.\"),\n",
        "        html.P(children=\"Assimetria:\"+str(base['valor_licitacao_lote'].skew()))],style={'border':'solid','borderRadius':'15px','padding':'1rem'}),\n",
        "\n",
        "\n",
        "        html.Div([html.P(children=\"Curtose: Leptocúrtica,pois tem um excesso de curtose positiva.\"),\n",
        "        html.P(children=\"Curtose:\"+str(base['valor_licitacao_lote'].kurtosis()))],style={'border':'solid','borderRadius':'15px','padding':'1rem'}),\n",
        "\n",
        "        ],style={'display':'flex','flexDirection':'row','flexWrap':'wrap','justifyContent':'center','alignItems':'center','gap':'1rem'}),\n",
        "\n",
        "\n",
        "        html.H3(children=\"Outro ponto foram os valores totais homologados onde foi analisado que a grande maioria dos valores que foram homologados tinham seus valores entre 47 E 48 milhões de reais.\",style={'textAlign':'center','marginTop':'8rem'}),\n",
        "\n",
        "        dcc.Graph(id=\"valor_homolog\",figure=graf_valor_homolog),\n",
        "\n",
        "        html.H3(children=\"Análise estatistica dos valores totais homologados:\"),\n",
        "\n",
        "        html.Div([\n",
        "\n",
        "\n",
        "        html.P(children=\"Moda:\"+str(base['valor_totalhomologadolicitacao'].mode()[0]),style={'border':'solid','borderRadius':'15px','padding':'1rem'}),\n",
        "\n",
        "        html.P(children=\"Média:\"+str(base['valor_totalhomologadolicitacao'].mean()),style={'border':'solid','borderRadius':'15px','padding':'1rem'}),\n",
        "\n",
        "        html.P(children=\"Mediana:\"+str(base['valor_totalhomologadolicitacao'].median()),style={'border':'solid','borderRadius':'15px','padding':'1rem'}),\n",
        "\n",
        "        html.P(children=\"Desvio Padrão:\"+str(base['valor_totalhomologadolicitacao'].std()),style={'border':'solid','borderRadius':'15px','padding':'1rem'}),\n",
        "\n",
        "        html.P(children=\"Variância:\"+str(base['valor_totalhomologadolicitacao'].var()),style={'border':'solid','borderRadius':'15px','padding':'1rem'}),\n",
        "\n",
        "        html.Div(\n",
        "            [\n",
        "        html.P(children=\"Assimetria: Positiva, indicando uma cauda mais longa ou mais espessa à direita.\"),\n",
        "        html.P(children=\"Assimetria:\"+str(base['valor_totalhomologadolicitacao'].skew()))\n",
        "        ],style={'border':'solid','borderRadius':'15px','padding':'1rem'}\n",
        "                 ),\n",
        "\n",
        "        html.Div([\n",
        "        html.P(children=\"Curtose: Leptocúrtica,pois tem um excesso de curtose positiva.\"),\n",
        "        html.P(children=\"Curtose:\"+str(base['valor_totalhomologadolicitacao'].kurtosis()))]\n",
        "                 ,style={'border':'solid','borderRadius':'15px','padding':'1rem'})\n",
        "        ],style={'display':'flex','flexDirection':'row','flexWrap':'wrap','justifyContent':'center','alignItems':'center','gap':'1rem','paddingBottom':'2rem'}\n",
        "\n",
        "                 ),\n",
        "\n",
        "\n",
        "],style={'color':'white','backgroundColor':'rgb(24 24 27)'})\n",
        "\n",
        "\n",
        "@app.callback(\n",
        "    Output('grafico_s', 'figure'),\n",
        "    Input('drop_down', 'value')\n",
        ")\n",
        "def update_output(value):\n",
        "    if value == 'todos_os_graficos':\n",
        "        specs = [[{'type':'domain'},{'type':'domain'}],\n",
        "                [{'type':'bar'}, {'type':'bar'}],\n",
        "                [{\"colspan\": 2}, None]]\n",
        "\n",
        "        fig = make_subplots(rows=3, cols=2, specs=specs, horizontal_spacing=0.25,subplot_titles=(\"Porcentagem de processos por Estado\",\n",
        "                                                                                                 \"Porcentagem de processos por cidade\",\n",
        "                                                                                                \"Quantidade de processos por comissão\",\n",
        "                                                                         \"Quantidade de processos por orgão\",\n",
        "                                                                         \"Quantidade de processos por objeto\"))\n",
        "        fig.add_trace(go.Pie(labels=cinco_mais_estados['uf_endcontratado'],\n",
        "                             textinfo='label+percent',\n",
        "                             insidetextorientation='radial',\n",
        "                             values=cinco_mais_estados['count'],\n",
        "                             marker=dict(colors=['#1f77b4', '#ff7f0e', '#2ca02c', '#d62728', '#9467bd'],\n",
        "                             line=dict(color='#000000', width=2))),\n",
        "                             row=1,col=1)\n",
        "\n",
        "\n",
        "        fig.add_trace(go.Pie(labels=cincos_cidades_com_mais_process['cidade_endcontratado'],\n",
        "                             textinfo='label+percent',\n",
        "                             insidetextorientation='radial',\n",
        "                             values=cincos_cidades_com_mais_process['count'],\n",
        "                             marker=dict(colors=['#1f77b4', '#ff7f0e', '#2ca02c', '#d62728', '#9467bd'],\n",
        "                                         line=dict(color='#000000', width=2))),\n",
        "                      row=1, col=2)\n",
        "\n",
        "        # Add horizontal Bar charts with reversed x-axis\n",
        "        fig.add_trace(go.Bar(x=cinco_mais_comissoes['count'],\n",
        "                             y=cinco_mais_comissoes['comissao_licitacao'],\n",
        "                             orientation='h',\n",
        "                             name=\"Quantidade de processos por comissão\"),\n",
        "                      row=2, col=1)\n",
        "\n",
        "        fig.add_trace(go.Bar(x=cinco_mais_orgaos['count'],\n",
        "                             y=cinco_mais_orgaos['orgao_licitante'],\n",
        "                             orientation='h',\n",
        "                             name=\"Quantidade de processos por orgão\"),\n",
        "                      row=2, col=2)\n",
        "\n",
        "        fig.add_trace(go.Bar(x=freq_objeto['count'],\n",
        "                             y=freq_objeto['objeto'],\n",
        "                             orientation='h',\n",
        "                             name=\"Quantidade de processos por objeto\"),\n",
        "                      row=3, col=1)\n",
        "\n",
        "        # Update layout with reversed x-axes for bar charts and move y-axis to the right\n",
        "        fig.update_layout(showlegend=False,\n",
        "                          title_text=\"Todos os gráficos\",\n",
        "                          template=\"plotly_dark\",\n",
        "                          height=900,\n",
        "                          xaxis1=dict(autorange='reversed'),\n",
        "                          xaxis2=dict(autorange='reversed'),\n",
        "                          xaxis3=dict(autorange='reversed'),\n",
        "                          xaxis4=dict(autorange='reversed'),\n",
        "                          xaxis5=dict(autorange='reversed'),\n",
        "                          yaxis1=dict(side='right'),\n",
        "                          yaxis2=dict(side='right'),\n",
        "                          yaxis3=dict(side='right'),\n",
        "                          yaxis4=dict(side='right'),\n",
        "                          yaxis5=dict(side='right')\n",
        "                          )\n",
        "\n",
        "\n",
        "        return fig\n",
        "\n",
        "    else:\n",
        "        for i in lista_grafico:\n",
        "            if i['id_grafico'] == value:\n",
        "                fig = go.Figure(data=[\n",
        "                    go.Bar(x=i['df'][i['x_grafico']], y=i['df'][i['y_grafico']],\n",
        "                           name=\"Quantidade de processos por cidade\")\n",
        "                ])\n",
        "                fig.update_layout(title=i['titulo'],\n",
        "                                  xaxis_title=i['label1'],\n",
        "                                  yaxis_title=i['label2'],\n",
        "                                  template=\"plotly_dark\",\n",
        "                                  height=400,\n",
        "                                  )\n",
        "                return fig\n",
        "\n",
        "\n",
        "if __name__=='__main__':\n",
        "    app.run(jupyter_mode=\"external\")"
      ],
      "metadata": {
        "id": "fDA0aYffR3sD"
      },
      "execution_count": null,
      "outputs": []
    }
  ]
}
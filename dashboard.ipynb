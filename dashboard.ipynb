{
  "nbformat": 4,
  "nbformat_minor": 0,
  "metadata": {
    "colab": {
      "provenance": [],
      "include_colab_link": true
    },
    "kernelspec": {
      "name": "python3",
      "display_name": "Python 3"
    },
    "language_info": {
      "name": "python"
    }
  },
  "cells": [
    {
      "cell_type": "markdown",
      "metadata": {
        "id": "view-in-github",
        "colab_type": "text"
      },
      "source": [
        "<a href=\"https://colab.research.google.com/github/dayviddouglas/ciencia_de_dados_licitacoes_prefeitura_do_recife/blob/test/dashboard.ipynb\" target=\"_parent\"><img src=\"https://colab.research.google.com/assets/colab-badge.svg\" alt=\"Open In Colab\"/></a>"
      ]
    },
    {
      "cell_type": "code",
      "source": [
        "!pip install dash\n",
        "!pip install plotly-express"
      ],
      "metadata": {
        "id": "iGBHgXSWMYum",
        "collapsed": true
      },
      "execution_count": null,
      "outputs": []
    },
    {
      "cell_type": "code",
      "execution_count": 19,
      "metadata": {
        "id": "Gc9DznByI81V"
      },
      "outputs": [],
      "source": [
        "import pandas as pd\n",
        "import requests as req\n",
        "from io import StringIO\n",
        "import urllib\n",
        "import matplotlib.pyplot as plt\n",
        "import dash as dsh\n",
        "from dash import Dash, html,dcc,Input,Output\n",
        "import plotly.express as px\n",
        "\n",
        "file_id= \"1-0_rPre-v9jjAg1hwdK_mbfYUQqfCvYS\"\n",
        "url =  f\"https://drive.google.com/uc?id={file_id}\"\n",
        "\n",
        "\n",
        "try:\n",
        "    response = req.get(url)\n",
        "    response.encoding = 'utf-8'\n",
        "    response.raise_for_status()  # Lança um erro para respostas não-sucedidas\n",
        "    # Usando StringIO para converter o texto em um arquivo em memória e, então, lendo com o Pandas\n",
        "    csv_raw = StringIO(response.text)\n",
        "    base = pd.read_csv(csv_raw, encoding='utf-8')\n",
        "\n",
        "\n",
        "\n",
        "except req.RequestException as e:\n",
        "    print(f\"Erro ao acessar o arquivo: {e}\")\n",
        "\n",
        "\n"
      ]
    },
    {
      "cell_type": "code",
      "source": [
        "base"
      ],
      "metadata": {
        "id": "-yq3Eis9JV1Q"
      },
      "execution_count": null,
      "outputs": []
    },
    {
      "cell_type": "code",
      "source": [
        "\n",
        "\n",
        "process_pe=base[base[\"uf_endcontratado\"]== \"PE\"]\n",
        "process_pe[\"cidade_endcontratado\"].value_counts()\n",
        "\n",
        "# Criando o dataframe Quantidade de processos por cidade\n",
        "\n",
        "df_process_cidade = pd.DataFrame(process_pe[\"cidade_endcontratado\"].value_counts())\n",
        "df_process_cidade.reset_index(inplace=True)\n",
        "df_process_cidade.columns = ['cidade_endcontratado', 'count']\n",
        "\n",
        "\n",
        "\n",
        "\n"
      ],
      "metadata": {
        "id": "u-OvCznkvp7a"
      },
      "execution_count": 21,
      "outputs": []
    },
    {
      "cell_type": "code",
      "source": [
        "# Transformando a filtragem cidades cujos os produtos ou serviços participaram de licitações em dataframe.\n",
        "df_process_cidade = pd.DataFrame(process_pe[\"cidade_endcontratado\"].value_counts())\n",
        "df_process_cidade.reset_index(inplace=True)\n",
        "df_process_cidade.columns = ['cidade_endcontratado', 'count']\n",
        "cincos_cidades_com_mais_process=df_process_cidade.iloc[0:5]\n"
      ],
      "metadata": {
        "id": "EMqu7J8IUPve"
      },
      "execution_count": 22,
      "outputs": []
    },
    {
      "cell_type": "code",
      "source": [
        "# Criando o gráfico dos processos por cidade.\n",
        "graf_process_cidade = px.bar(cincos_cidades_com_mais_process, x=\"cidade_endcontratado\", y=\"count\", labels={\n",
        "                     \"cidade_endcontratado\": \"Cidade\",\n",
        "                     \"count\": \"Quantidade\"}, barmode=\"group\", title=\"Quantidade de processos por cidade.\")\n",
        "\n",
        "\n"
      ],
      "metadata": {
        "id": "rETJozYdQRCA"
      },
      "execution_count": 23,
      "outputs": []
    },
    {
      "cell_type": "code",
      "source": [
        "# Transformando a filtragem sobre as 5 comissões que mais participaram de solicitações em dataframe.\n",
        "comissoes_licitantes= pd.DataFrame(base[\"comissao_licitacao\"].value_counts())\n",
        "comissoes_licitantes.reset_index(inplace=True)\n",
        "comissoes_licitantes.columns = ['comissao_licitacao', 'count']\n",
        "cinco_mais_comissoes=comissoes_licitantes.iloc[0:5]\n",
        "\n"
      ],
      "metadata": {
        "id": "QLViXxBJa6sz"
      },
      "execution_count": 24,
      "outputs": []
    },
    {
      "cell_type": "code",
      "source": [
        "# Criando gráfico das 5 comissões que mais participaram de licitações.\n",
        "graf_comissoes_licitantes=px.bar(cinco_mais_comissoes, x=\"comissao_licitacao\", y=\"count\", labels={\n",
        "                     \"comissao_licitacao\": \"Comissão\",\n",
        "                     \"count\": \"Quantidade\"}, barmode=\"group\", title=\"Quantidade de processos por comissão.\")"
      ],
      "metadata": {
        "id": "w5npbPQheV4I"
      },
      "execution_count": 25,
      "outputs": []
    },
    {
      "cell_type": "code",
      "source": [
        "freq_orgao_licitantes=pd.DataFrame(base['orgao_licitante'].value_counts())\n",
        "freq_orgao_licitantes.reset_index(inplace=True)\n",
        "freq_orgao_licitantes.columns = ['orgao_licitante', 'count']\n",
        "cinco_mais_orgaos=freq_orgao_licitantes.iloc[0:5]"
      ],
      "metadata": {
        "id": "MnNCPFOojEQ2"
      },
      "execution_count": 26,
      "outputs": []
    },
    {
      "cell_type": "code",
      "source": [
        "# Criando gráfico dos 5 orgãos que mais participaram de licitações.\n",
        "graf_orgao_licitantes=px.bar(cinco_mais_orgaos, x=\"orgao_licitante\", y=\"count\", labels={\n",
        "                     \"orgao_licitante\": \"Orgão\",\n",
        "                     \"count\": \"Quantidade\"}, barmode=\"group\", title=\"Quantidade de processos por orgão.\")"
      ],
      "metadata": {
        "id": "HLnkk2h4l7Ah"
      },
      "execution_count": 27,
      "outputs": []
    },
    {
      "cell_type": "code",
      "source": [
        "# Transformando a filtragem sobre os 5 objetos que mais participaram de solicitações em dataframe.\n",
        "freq_objeto=pd.DataFrame(base[\"objeto\"].value_counts().head(5))\n",
        "freq_objeto.reset_index(inplace=True)\n",
        "freq_objeto.columns = ['objeto', 'count']\n",
        "\n",
        "\n"
      ],
      "metadata": {
        "id": "2EsmvAuD0eXp"
      },
      "execution_count": 28,
      "outputs": []
    },
    {
      "cell_type": "code",
      "source": [
        "# Criando o Gráfico de objetos que mais participaram de licitações.\n",
        "graf_objeto=px.bar(freq_objeto, x=\"objeto\", y=\"count\", labels={\n",
        "                     \"objeto\": \"Objeto\",\n",
        "                     \"count\": \"Quantidade\"}, barmode=\"group\", title=\"Quantidade de licitações por objeto.\")"
      ],
      "metadata": {
        "id": "ny6gW-5P54L8"
      },
      "execution_count": 29,
      "outputs": []
    },
    {
      "cell_type": "code",
      "source": [
        "# Transformando a filtragem sobre os 5 valores homologados que mais participaram de solicitações em dataframe.\n",
        "freq_val_homologados=pd.DataFrame(base[\"valor_totalhomologadolicitacao\"].value_counts().head(5))\n",
        "freq_val_homologados.reset_index(inplace=True)\n",
        "freq_val_homologados.columns = ['valor_totalhomologadolicitacao', 'count']\n",
        "\n"
      ],
      "metadata": {
        "id": "Ff59fpNor1v4"
      },
      "execution_count": 30,
      "outputs": []
    },
    {
      "cell_type": "code",
      "source": [
        "# Criando o Gráfico de valores Homologados que mais participaram de licitações.\n",
        "graf_valor_homolog = px.bar(freq_val_homologados,x=\"valor_totalhomologadolicitacao\", y=\"count\", labels={\n",
        "                     \"valor_totalhomologadolicitacao\": \"Valores Homologados\",\n",
        "                     \"count\": \"Quantidade\"}, barmode=\"group\", title=\"Frequência de valores homologados.\")\n"
      ],
      "metadata": {
        "id": "DiafwbXzu_Hb"
      },
      "execution_count": 31,
      "outputs": []
    },
    {
      "cell_type": "code",
      "source": [
        "# Transformando a filtragem sobre os 5 valores por lote que mais participaram de licitações em dataframe.\n",
        "freq_val_lote=pd.DataFrame(base[\"valor_licitacao_lote\"].value_counts().head(5))\n",
        "freq_val_lote.reset_index(inplace=True)\n",
        "freq_val_lote.columns = ['valor_licitacao_lote', 'count']\n",
        "\n"
      ],
      "metadata": {
        "id": "Sn8QPSwM1TjM"
      },
      "execution_count": 32,
      "outputs": []
    },
    {
      "cell_type": "code",
      "source": [
        "# Criando o Gráfico de licitações por lote.\n",
        "graf_valor_lote = px.bar(freq_val_lote,x=\"valor_licitacao_lote\", y=\"count\", labels={\n",
        "                     \"valor_licitacao_lote\": \"Valor por lote\",\n",
        "                     \"count\": \"Quantidade\"}, barmode=\"group\", title=\"Frequência de valores de licitação por lote.\" )"
      ],
      "metadata": {
        "id": "8cQmkzPW2EO8"
      },
      "execution_count": 33,
      "outputs": []
    },
    {
      "cell_type": "code",
      "source": [],
      "metadata": {
        "id": "CBqVd-x32vhp"
      },
      "execution_count": 33,
      "outputs": []
    },
    {
      "cell_type": "code",
      "source": [
        "app= Dash(__name__)\n",
        "\n",
        "app.layout=html.Div(children=[\n",
        "    html.A([\n",
        "        html.Button(\"Graficos\"),\n",
        "    ],href=\"#graficos\",target=\"_self\"),\n",
        "    html.A([\n",
        "        html.Button(\"Fim\"),\n",
        "    ],href=\"#fim\",target=\"_self\"),\n",
        "    html.A([\n",
        "        html.Button(\"Processos\"),\n",
        "    ],href=\"#texto_principal\",target=\"_self\"),\n",
        "\n",
        "    html.Title(id=\"texto_principal\", children=\"Processos de Licitação no Estado de Pernambuco\"),\n",
        "    html.H2(children=\"Quantidade de processos por cidade\"),\n",
        "    html.Div(children=\"teste\",id=\"test\"),\n",
        "\n",
        "    dcc.Dropdown(['NYC', 'MTL', 'SF'], 'NYC', id='demo-dropdown'),\n",
        "\n",
        "    html.Div([\n",
        "    dcc.Graph(id= \"gráfico-processos-pe-por-cidade\", figure=graf_process_cidade),\n",
        "    dcc.Graph(id= \"gráfico-comissao-licitacao\", figure=graf_comissoes_licitantes),\n",
        "    dcc.Graph(id= \"gráfico-orgao-licitante\", figure=graf_orgao_licitantes),\n",
        "    dcc.Graph(id= \"gráfico-objeto\", figure=graf_objeto),\n",
        "    dcc.Graph(id= \"gráfico-valor-homologado\", figure=graf_valor_homolog),\n",
        "    dcc.Graph(id= \"gráfico-valor-lote\", figure=graf_valor_lote),\n",
        "    ],id=\"graficos\"),\n",
        "  html.Div(children=\"fim da pagina\",id=\"fim\"),\n",
        "\n",
        "\n",
        "])\n",
        "\n",
        "\n",
        "@app.callback(\n",
        "    Output('test', 'children'),\n",
        "    Input('demo-dropdown', 'value')\n",
        ")\n",
        "def update_output(value):\n",
        "    return f'You have selected {value}'\n",
        "\n",
        "\n",
        "if __name__=='__main__':\n",
        "    app.run_server(debug=True, jupyter_mode=\"external\")\n",
        "\n"
      ],
      "metadata": {
        "id": "fDA0aYffR3sD"
      },
      "execution_count": null,
      "outputs": []
    }
  ]
}
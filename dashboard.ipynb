{
  "cells": [
    {
      "cell_type": "markdown",
      "metadata": {
        "colab_type": "text",
        "id": "view-in-github"
      },
      "source": [
        "<a href=\"https://colab.research.google.com/github/dayviddouglas/ciencia_de_dados_licitacoes_prefeitura_do_recife/blob/main/dashboard.ipynb\" target=\"_parent\"><img src=\"https://colab.research.google.com/assets/colab-badge.svg\" alt=\"Open In Colab\"/></a>"
      ]
    },
    {
      "cell_type": "code",
      "execution_count": 1,
      "metadata": {
        "id": "Gc9DznByI81V"
      },
      "outputs": [],
      "source": [
        "import pandas as pd\n",
        "import requests as req\n",
        "from io import StringIO\n",
        "\n",
        "import matplotlib.pyplot as plt\n",
        "import plotly.subplots as sp\n",
        "from plotly.subplots import make_subplots\n",
        "import plotly.graph_objects as go\n",
        "import dash as dsh\n",
        "from dash import Dash, html,dcc,Input,Output\n",
        "import plotly.express as px\n",
        "\n",
        "file_id= \"1-0_rPre-v9jjAg1hwdK_mbfYUQqfCvYS\"\n",
        "url =  f\"https://drive.google.com/uc?id={file_id}\"\n",
        "\n",
        "\n",
        "try:\n",
        "    response = req.get(url)\n",
        "    response.encoding = 'utf-8'\n",
        "    response.raise_for_status()  # Lança um erro para respostas não-sucedidas\n",
        "    # Usando StringIO para converter o texto em um arquivo em memória e, então, lendo com o Pandas\n",
        "    csv_raw = StringIO(response.text)\n",
        "    base = pd.read_csv(csv_raw, encoding='utf-8')\n",
        "\n",
        "\n",
        "\n",
        "except req.RequestException as e:\n",
        "    print(f\"Erro ao acessar o arquivo: {e}\")\n",
        "\n",
        "\n"
      ]
    },
    {
      "cell_type": "code",
      "execution_count": 2,
      "metadata": {
        "id": "-yq3Eis9JV1Q"
      },
      "outputs": [
        {
          "data": {
            "text/html": [
              "<div>\n",
              "<style scoped>\n",
              "    .dataframe tbody tr th:only-of-type {\n",
              "        vertical-align: middle;\n",
              "    }\n",
              "\n",
              "    .dataframe tbody tr th {\n",
              "        vertical-align: top;\n",
              "    }\n",
              "\n",
              "    .dataframe thead th {\n",
              "        text-align: right;\n",
              "    }\n",
              "</style>\n",
              "<table border=\"1\" class=\"dataframe\">\n",
              "  <thead>\n",
              "    <tr style=\"text-align: right;\">\n",
              "      <th></th>\n",
              "      <th>comissao_licitacao</th>\n",
              "      <th>ano_processolicitatorio</th>\n",
              "      <th>num_processolicitatorio</th>\n",
              "      <th>numero_lote</th>\n",
              "      <th>modalidadeprocessolicitatorio</th>\n",
              "      <th>numerolicitacaomodalidade</th>\n",
              "      <th>anolicitacaomodalidade</th>\n",
              "      <th>orgao_licitante</th>\n",
              "      <th>objeto</th>\n",
              "      <th>cnpj_contratado</th>\n",
              "      <th>...</th>\n",
              "      <th>num_endcontratado</th>\n",
              "      <th>comp_endcontratado</th>\n",
              "      <th>bairro_endcontratado</th>\n",
              "      <th>cidade_endcontratado</th>\n",
              "      <th>uf_endcontratado</th>\n",
              "      <th>valor_total_estimado</th>\n",
              "      <th>valor_totalhomologadolicitacao</th>\n",
              "      <th>valor_licitacao_lote</th>\n",
              "      <th>data_aberturaproposta</th>\n",
              "      <th>data_ultimafaseprocesso</th>\n",
              "    </tr>\n",
              "  </thead>\n",
              "  <tbody>\n",
              "    <tr>\n",
              "      <th>0</th>\n",
              "      <td>COMISSÃO PERMANENTE DE LICITAÇÃO DE EDUCAÇÃO -...</td>\n",
              "      <td>2012</td>\n",
              "      <td>29</td>\n",
              "      <td>1</td>\n",
              "      <td>PREGÃO ELETRÔNICO</td>\n",
              "      <td>27</td>\n",
              "      <td>2012</td>\n",
              "      <td>SECRETARIA DE EDUCAÇÃO</td>\n",
              "      <td>MATERIAL GRÁFICO</td>\n",
              "      <td>758606000190.0</td>\n",
              "      <td>...</td>\n",
              "      <td>301.0</td>\n",
              "      <td>NaN</td>\n",
              "      <td>BULTRINS</td>\n",
              "      <td>OLINDA</td>\n",
              "      <td>PE</td>\n",
              "      <td>333750.00</td>\n",
              "      <td>66358.00</td>\n",
              "      <td>15210.00</td>\n",
              "      <td>2012-12-20 10:00:00</td>\n",
              "      <td>2013-01-07</td>\n",
              "    </tr>\n",
              "    <tr>\n",
              "      <th>1</th>\n",
              "      <td>COMISSÃO PERMANENTE DE LICITAÇÃO DE EDUCAÇÃO -...</td>\n",
              "      <td>2012</td>\n",
              "      <td>29</td>\n",
              "      <td>2</td>\n",
              "      <td>PREGÃO ELETRÔNICO</td>\n",
              "      <td>27</td>\n",
              "      <td>2012</td>\n",
              "      <td>SECRETARIA DE EDUCAÇÃO</td>\n",
              "      <td>MATERIAL GRÁFICO</td>\n",
              "      <td>7211171000109.0</td>\n",
              "      <td>...</td>\n",
              "      <td>5327.0</td>\n",
              "      <td>NaN</td>\n",
              "      <td>CANDEIAS</td>\n",
              "      <td>JABOATAO DOS GUARARAPES</td>\n",
              "      <td>PE</td>\n",
              "      <td>333750.00</td>\n",
              "      <td>66358.00</td>\n",
              "      <td>51148.00</td>\n",
              "      <td>2012-12-20 10:00:00</td>\n",
              "      <td>2013-01-07</td>\n",
              "    </tr>\n",
              "    <tr>\n",
              "      <th>2</th>\n",
              "      <td>COMISSÃO PERMANENTE DE LICITAÇÃO DE EDUCAÇÃO -...</td>\n",
              "      <td>2012</td>\n",
              "      <td>30</td>\n",
              "      <td>1</td>\n",
              "      <td>PREGÃO ELETRÔNICO</td>\n",
              "      <td>28</td>\n",
              "      <td>2012</td>\n",
              "      <td>SECRETARIA DE EDUCAÇÃO</td>\n",
              "      <td>AGENDA ESCOLAR 2013</td>\n",
              "      <td>13898993000102.0</td>\n",
              "      <td>...</td>\n",
              "      <td>0.0</td>\n",
              "      <td>LOJA 005</td>\n",
              "      <td>CIDADE UNIVERSITARIA</td>\n",
              "      <td>MACEIO</td>\n",
              "      <td>AL</td>\n",
              "      <td>530469.54</td>\n",
              "      <td>357895.02</td>\n",
              "      <td>357895.02</td>\n",
              "      <td>2013-01-02 10:00:00</td>\n",
              "      <td>2013-01-09</td>\n",
              "    </tr>\n",
              "    <tr>\n",
              "      <th>3</th>\n",
              "      <td>COMISSÃO PERMANENTE DE LICITAÇÃO DE MATERIAIS ...</td>\n",
              "      <td>2012</td>\n",
              "      <td>23</td>\n",
              "      <td>4</td>\n",
              "      <td>PREGÃO ELETRÔNICO</td>\n",
              "      <td>23</td>\n",
              "      <td>2012</td>\n",
              "      <td>FUNDO MUNICIPAL DE SAUDE</td>\n",
              "      <td>AQUISIÇÃO DE PNEUS, PARA ATENDER AS NECESSIDAD...</td>\n",
              "      <td>10511406000192.0</td>\n",
              "      <td>...</td>\n",
              "      <td>810.0</td>\n",
              "      <td>LOJA 01</td>\n",
              "      <td>PRAZERES</td>\n",
              "      <td>JABOATAO DOS GUARARAPES</td>\n",
              "      <td>PE</td>\n",
              "      <td>16870.35</td>\n",
              "      <td>1518.00</td>\n",
              "      <td>800.00</td>\n",
              "      <td>2012-12-19 11:00:00</td>\n",
              "      <td>2013-03-01</td>\n",
              "    </tr>\n",
              "    <tr>\n",
              "      <th>4</th>\n",
              "      <td>COMISSÃO PERMANENTE DE LICITAÇÃO DE MATERIAIS ...</td>\n",
              "      <td>2012</td>\n",
              "      <td>23</td>\n",
              "      <td>5</td>\n",
              "      <td>PREGÃO ELETRÔNICO</td>\n",
              "      <td>23</td>\n",
              "      <td>2012</td>\n",
              "      <td>FUNDO MUNICIPAL DE SAUDE</td>\n",
              "      <td>AQUISIÇÃO DE PNEUS, PARA ATENDER AS NECESSIDAD...</td>\n",
              "      <td>10511406000192.0</td>\n",
              "      <td>...</td>\n",
              "      <td>810.0</td>\n",
              "      <td>LOJA 01</td>\n",
              "      <td>PRAZERES</td>\n",
              "      <td>JABOATAO DOS GUARARAPES</td>\n",
              "      <td>PE</td>\n",
              "      <td>16870.35</td>\n",
              "      <td>1518.00</td>\n",
              "      <td>718.00</td>\n",
              "      <td>2012-12-19 11:00:00</td>\n",
              "      <td>2013-03-01</td>\n",
              "    </tr>\n",
              "    <tr>\n",
              "      <th>...</th>\n",
              "      <td>...</td>\n",
              "      <td>...</td>\n",
              "      <td>...</td>\n",
              "      <td>...</td>\n",
              "      <td>...</td>\n",
              "      <td>...</td>\n",
              "      <td>...</td>\n",
              "      <td>...</td>\n",
              "      <td>...</td>\n",
              "      <td>...</td>\n",
              "      <td>...</td>\n",
              "      <td>...</td>\n",
              "      <td>...</td>\n",
              "      <td>...</td>\n",
              "      <td>...</td>\n",
              "      <td>...</td>\n",
              "      <td>...</td>\n",
              "      <td>...</td>\n",
              "      <td>...</td>\n",
              "      <td>...</td>\n",
              "      <td>...</td>\n",
              "    </tr>\n",
              "    <tr>\n",
              "      <th>19103</th>\n",
              "      <td>GC-SEPLAGTD-003</td>\n",
              "      <td>2024</td>\n",
              "      <td>4</td>\n",
              "      <td>7</td>\n",
              "      <td>PREGÃO ELETRÔNICO</td>\n",
              "      <td>4</td>\n",
              "      <td>2024</td>\n",
              "      <td>FUNDO MUNICIPAL DE SAUDE</td>\n",
              "      <td>REGISTRO DE PREÇOS, COM VALIDADE DE 12 (DOZE) ...</td>\n",
              "      <td>29868059000188.0</td>\n",
              "      <td>...</td>\n",
              "      <td>215.0</td>\n",
              "      <td>ANDAR 1  SL 103</td>\n",
              "      <td>CENTRO</td>\n",
              "      <td>AFOGADOS DA INGAZEIRA</td>\n",
              "      <td>PE</td>\n",
              "      <td>139923.19</td>\n",
              "      <td>110275.52</td>\n",
              "      <td>26000.00</td>\n",
              "      <td>2024-04-18 09:00:00</td>\n",
              "      <td>2024-05-15</td>\n",
              "    </tr>\n",
              "    <tr>\n",
              "      <th>19104</th>\n",
              "      <td>GC-SEPLAGTD-003</td>\n",
              "      <td>2024</td>\n",
              "      <td>4</td>\n",
              "      <td>8</td>\n",
              "      <td>PREGÃO ELETRÔNICO</td>\n",
              "      <td>4</td>\n",
              "      <td>2024</td>\n",
              "      <td>FUNDO MUNICIPAL DE SAUDE</td>\n",
              "      <td>REGISTRO DE PREÇOS, COM VALIDADE DE 12 (DOZE) ...</td>\n",
              "      <td>29868059000188.0</td>\n",
              "      <td>...</td>\n",
              "      <td>215.0</td>\n",
              "      <td>ANDAR 1  SL 103</td>\n",
              "      <td>CENTRO</td>\n",
              "      <td>AFOGADOS DA INGAZEIRA</td>\n",
              "      <td>PE</td>\n",
              "      <td>139923.19</td>\n",
              "      <td>110275.52</td>\n",
              "      <td>28080.00</td>\n",
              "      <td>2024-04-18 09:00:00</td>\n",
              "      <td>2024-05-15</td>\n",
              "    </tr>\n",
              "    <tr>\n",
              "      <th>19105</th>\n",
              "      <td>GC-SEPLAGTD-008</td>\n",
              "      <td>2024</td>\n",
              "      <td>9</td>\n",
              "      <td>1</td>\n",
              "      <td>PREGÃO ELETRÔNICO</td>\n",
              "      <td>1</td>\n",
              "      <td>2024</td>\n",
              "      <td>SECRETARIA DE INFRAESTRUTURA</td>\n",
              "      <td>CONTRATAÇÃO PARCELADA DOS SERVIÇOS DE DEMOLIÇÃ...</td>\n",
              "      <td>70215447000163.0</td>\n",
              "      <td>...</td>\n",
              "      <td>537.0</td>\n",
              "      <td>NaN</td>\n",
              "      <td>CURADO</td>\n",
              "      <td>RECIFE</td>\n",
              "      <td>PE</td>\n",
              "      <td>12472497.12</td>\n",
              "      <td>10048265.12</td>\n",
              "      <td>10048265.12</td>\n",
              "      <td>2024-04-18 14:00:00</td>\n",
              "      <td>2024-05-28</td>\n",
              "    </tr>\n",
              "    <tr>\n",
              "      <th>19106</th>\n",
              "      <td>GC-SEPLAGTD-008</td>\n",
              "      <td>2024</td>\n",
              "      <td>13</td>\n",
              "      <td>1</td>\n",
              "      <td>PREGÃO ELETRÔNICO</td>\n",
              "      <td>2</td>\n",
              "      <td>2024</td>\n",
              "      <td>SECRETARIA DE INFRAESTRUTURA</td>\n",
              "      <td>CAÇAMBA ESTACIONÁRIA, COM CAPACIDADE DE NO MÍN...</td>\n",
              "      <td>10811370000162.0</td>\n",
              "      <td>...</td>\n",
              "      <td>550.0</td>\n",
              "      <td>NaN</td>\n",
              "      <td>CANDEIAS</td>\n",
              "      <td>JABOATAO DOS GUARARAPES</td>\n",
              "      <td>PE</td>\n",
              "      <td>2985899.18</td>\n",
              "      <td>2449956.60</td>\n",
              "      <td>2449956.60</td>\n",
              "      <td>2024-05-06 14:00:00</td>\n",
              "      <td>2024-06-03</td>\n",
              "    </tr>\n",
              "    <tr>\n",
              "      <th>19107</th>\n",
              "      <td>GC-SEPLAGTD-009</td>\n",
              "      <td>2024</td>\n",
              "      <td>1</td>\n",
              "      <td>1</td>\n",
              "      <td>CONCORRÊNCIA - ELETRÔNICA</td>\n",
              "      <td>1</td>\n",
              "      <td>2024</td>\n",
              "      <td>SECRETARIA DE EDUCAÇÃO</td>\n",
              "      <td>CONTRATACAO DE EMPRESA NA PRESTACAO DE SERVICO...</td>\n",
              "      <td>4856454000110.0</td>\n",
              "      <td>...</td>\n",
              "      <td>900.0</td>\n",
              "      <td>SL 1807 E 1808</td>\n",
              "      <td>CASA CAIADA</td>\n",
              "      <td>OLINDA</td>\n",
              "      <td>PE</td>\n",
              "      <td>5723810.57</td>\n",
              "      <td>4540843.76</td>\n",
              "      <td>4540843.76</td>\n",
              "      <td>2024-02-15 09:00:00</td>\n",
              "      <td>2024-06-06</td>\n",
              "    </tr>\n",
              "  </tbody>\n",
              "</table>\n",
              "<p>19108 rows × 23 columns</p>\n",
              "</div>"
            ],
            "text/plain": [
              "                                      comissao_licitacao  \\\n",
              "0      COMISSÃO PERMANENTE DE LICITAÇÃO DE EDUCAÇÃO -...   \n",
              "1      COMISSÃO PERMANENTE DE LICITAÇÃO DE EDUCAÇÃO -...   \n",
              "2      COMISSÃO PERMANENTE DE LICITAÇÃO DE EDUCAÇÃO -...   \n",
              "3      COMISSÃO PERMANENTE DE LICITAÇÃO DE MATERIAIS ...   \n",
              "4      COMISSÃO PERMANENTE DE LICITAÇÃO DE MATERIAIS ...   \n",
              "...                                                  ...   \n",
              "19103                                    GC-SEPLAGTD-003   \n",
              "19104                                    GC-SEPLAGTD-003   \n",
              "19105                                    GC-SEPLAGTD-008   \n",
              "19106                                    GC-SEPLAGTD-008   \n",
              "19107                                    GC-SEPLAGTD-009   \n",
              "\n",
              "       ano_processolicitatorio  num_processolicitatorio  numero_lote  \\\n",
              "0                         2012                       29            1   \n",
              "1                         2012                       29            2   \n",
              "2                         2012                       30            1   \n",
              "3                         2012                       23            4   \n",
              "4                         2012                       23            5   \n",
              "...                        ...                      ...          ...   \n",
              "19103                     2024                        4            7   \n",
              "19104                     2024                        4            8   \n",
              "19105                     2024                        9            1   \n",
              "19106                     2024                       13            1   \n",
              "19107                     2024                        1            1   \n",
              "\n",
              "      modalidadeprocessolicitatorio  numerolicitacaomodalidade  \\\n",
              "0                 PREGÃO ELETRÔNICO                         27   \n",
              "1                 PREGÃO ELETRÔNICO                         27   \n",
              "2                 PREGÃO ELETRÔNICO                         28   \n",
              "3                 PREGÃO ELETRÔNICO                         23   \n",
              "4                 PREGÃO ELETRÔNICO                         23   \n",
              "...                             ...                        ...   \n",
              "19103             PREGÃO ELETRÔNICO                          4   \n",
              "19104             PREGÃO ELETRÔNICO                          4   \n",
              "19105             PREGÃO ELETRÔNICO                          1   \n",
              "19106             PREGÃO ELETRÔNICO                          2   \n",
              "19107     CONCORRÊNCIA - ELETRÔNICA                          1   \n",
              "\n",
              "       anolicitacaomodalidade               orgao_licitante  \\\n",
              "0                        2012        SECRETARIA DE EDUCAÇÃO   \n",
              "1                        2012        SECRETARIA DE EDUCAÇÃO   \n",
              "2                        2012        SECRETARIA DE EDUCAÇÃO   \n",
              "3                        2012      FUNDO MUNICIPAL DE SAUDE   \n",
              "4                        2012      FUNDO MUNICIPAL DE SAUDE   \n",
              "...                       ...                           ...   \n",
              "19103                    2024      FUNDO MUNICIPAL DE SAUDE   \n",
              "19104                    2024      FUNDO MUNICIPAL DE SAUDE   \n",
              "19105                    2024  SECRETARIA DE INFRAESTRUTURA   \n",
              "19106                    2024  SECRETARIA DE INFRAESTRUTURA   \n",
              "19107                    2024        SECRETARIA DE EDUCAÇÃO   \n",
              "\n",
              "                                                  objeto   cnpj_contratado  \\\n",
              "0                                       MATERIAL GRÁFICO    758606000190.0   \n",
              "1                                       MATERIAL GRÁFICO   7211171000109.0   \n",
              "2                                    AGENDA ESCOLAR 2013  13898993000102.0   \n",
              "3      AQUISIÇÃO DE PNEUS, PARA ATENDER AS NECESSIDAD...  10511406000192.0   \n",
              "4      AQUISIÇÃO DE PNEUS, PARA ATENDER AS NECESSIDAD...  10511406000192.0   \n",
              "...                                                  ...               ...   \n",
              "19103  REGISTRO DE PREÇOS, COM VALIDADE DE 12 (DOZE) ...  29868059000188.0   \n",
              "19104  REGISTRO DE PREÇOS, COM VALIDADE DE 12 (DOZE) ...  29868059000188.0   \n",
              "19105  CONTRATAÇÃO PARCELADA DOS SERVIÇOS DE DEMOLIÇÃ...  70215447000163.0   \n",
              "19106  CAÇAMBA ESTACIONÁRIA, COM CAPACIDADE DE NO MÍN...  10811370000162.0   \n",
              "19107  CONTRATACAO DE EMPRESA NA PRESTACAO DE SERVICO...   4856454000110.0   \n",
              "\n",
              "       ... num_endcontratado comp_endcontratado  bairro_endcontratado  \\\n",
              "0      ...             301.0                NaN              BULTRINS   \n",
              "1      ...            5327.0                NaN              CANDEIAS   \n",
              "2      ...               0.0           LOJA 005  CIDADE UNIVERSITARIA   \n",
              "3      ...             810.0            LOJA 01              PRAZERES   \n",
              "4      ...             810.0            LOJA 01              PRAZERES   \n",
              "...    ...               ...                ...                   ...   \n",
              "19103  ...             215.0    ANDAR 1  SL 103                CENTRO   \n",
              "19104  ...             215.0    ANDAR 1  SL 103                CENTRO   \n",
              "19105  ...             537.0                NaN                CURADO   \n",
              "19106  ...             550.0                NaN              CANDEIAS   \n",
              "19107  ...             900.0     SL 1807 E 1808           CASA CAIADA   \n",
              "\n",
              "          cidade_endcontratado uf_endcontratado valor_total_estimado  \\\n",
              "0                       OLINDA               PE            333750.00   \n",
              "1      JABOATAO DOS GUARARAPES               PE            333750.00   \n",
              "2                       MACEIO               AL            530469.54   \n",
              "3      JABOATAO DOS GUARARAPES               PE             16870.35   \n",
              "4      JABOATAO DOS GUARARAPES               PE             16870.35   \n",
              "...                        ...              ...                  ...   \n",
              "19103    AFOGADOS DA INGAZEIRA               PE            139923.19   \n",
              "19104    AFOGADOS DA INGAZEIRA               PE            139923.19   \n",
              "19105                   RECIFE               PE          12472497.12   \n",
              "19106  JABOATAO DOS GUARARAPES               PE           2985899.18   \n",
              "19107                   OLINDA               PE           5723810.57   \n",
              "\n",
              "      valor_totalhomologadolicitacao valor_licitacao_lote  \\\n",
              "0                           66358.00             15210.00   \n",
              "1                           66358.00             51148.00   \n",
              "2                          357895.02            357895.02   \n",
              "3                            1518.00               800.00   \n",
              "4                            1518.00               718.00   \n",
              "...                              ...                  ...   \n",
              "19103                      110275.52             26000.00   \n",
              "19104                      110275.52             28080.00   \n",
              "19105                    10048265.12          10048265.12   \n",
              "19106                     2449956.60           2449956.60   \n",
              "19107                     4540843.76           4540843.76   \n",
              "\n",
              "       data_aberturaproposta  data_ultimafaseprocesso  \n",
              "0        2012-12-20 10:00:00               2013-01-07  \n",
              "1        2012-12-20 10:00:00               2013-01-07  \n",
              "2        2013-01-02 10:00:00               2013-01-09  \n",
              "3        2012-12-19 11:00:00               2013-03-01  \n",
              "4        2012-12-19 11:00:00               2013-03-01  \n",
              "...                      ...                      ...  \n",
              "19103    2024-04-18 09:00:00               2024-05-15  \n",
              "19104    2024-04-18 09:00:00               2024-05-15  \n",
              "19105    2024-04-18 14:00:00               2024-05-28  \n",
              "19106    2024-05-06 14:00:00               2024-06-03  \n",
              "19107    2024-02-15 09:00:00               2024-06-06  \n",
              "\n",
              "[19108 rows x 23 columns]"
            ]
          },
          "execution_count": 2,
          "metadata": {},
          "output_type": "execute_result"
        }
      ],
      "source": [
        "base"
      ]
    },
    {
      "cell_type": "code",
      "execution_count": 3,
      "metadata": {
        "id": "GSXH2Vo0Jrd3"
      },
      "outputs": [
        {
          "data": {
            "text/html": [
              "<div>\n",
              "<style scoped>\n",
              "    .dataframe tbody tr th:only-of-type {\n",
              "        vertical-align: middle;\n",
              "    }\n",
              "\n",
              "    .dataframe tbody tr th {\n",
              "        vertical-align: top;\n",
              "    }\n",
              "\n",
              "    .dataframe thead th {\n",
              "        text-align: right;\n",
              "    }\n",
              "</style>\n",
              "<table border=\"1\" class=\"dataframe\">\n",
              "  <thead>\n",
              "    <tr style=\"text-align: right;\">\n",
              "      <th></th>\n",
              "      <th>comissao_licitacao</th>\n",
              "      <th>ano_processolicitatorio</th>\n",
              "      <th>num_processolicitatorio</th>\n",
              "      <th>numero_lote</th>\n",
              "      <th>modalidadeprocessolicitatorio</th>\n",
              "      <th>numerolicitacaomodalidade</th>\n",
              "      <th>anolicitacaomodalidade</th>\n",
              "      <th>orgao_licitante</th>\n",
              "      <th>objeto</th>\n",
              "      <th>cnpj_contratado</th>\n",
              "      <th>...</th>\n",
              "      <th>cidade_endcontratado</th>\n",
              "      <th>uf_endcontratado</th>\n",
              "      <th>valor_total_estimado</th>\n",
              "      <th>valor_totalhomologadolicitacao</th>\n",
              "      <th>valor_licitacao_lote</th>\n",
              "      <th>data_aberturaproposta</th>\n",
              "      <th>data_ultimafaseprocesso</th>\n",
              "      <th>orgao_abreviado</th>\n",
              "      <th>comissao_abreviado</th>\n",
              "      <th>objeto_abreviado</th>\n",
              "    </tr>\n",
              "  </thead>\n",
              "  <tbody>\n",
              "    <tr>\n",
              "      <th>0</th>\n",
              "      <td>COMISSÃO PERMANENTE DE LICITAÇÃO DE EDUCAÇÃO -...</td>\n",
              "      <td>2012</td>\n",
              "      <td>29</td>\n",
              "      <td>1</td>\n",
              "      <td>PREGÃO ELETRÔNICO</td>\n",
              "      <td>27</td>\n",
              "      <td>2012</td>\n",
              "      <td>SECRETARIA DE EDUCAÇÃO</td>\n",
              "      <td>MATERIAL GRÁFICO</td>\n",
              "      <td>758606000190.0</td>\n",
              "      <td>...</td>\n",
              "      <td>OLINDA</td>\n",
              "      <td>PE</td>\n",
              "      <td>333750.00</td>\n",
              "      <td>66358.00</td>\n",
              "      <td>15210.00</td>\n",
              "      <td>2012-12-20 10:00:00</td>\n",
              "      <td>2013-01-07</td>\n",
              "      <td>SECRETARIA DE EDU</td>\n",
              "      <td>COMISSÃO PER DE LIC DE EDU - CPL (GG</td>\n",
              "      <td>MATERIAL GRÁ</td>\n",
              "    </tr>\n",
              "    <tr>\n",
              "      <th>1</th>\n",
              "      <td>COMISSÃO PERMANENTE DE LICITAÇÃO DE EDUCAÇÃO -...</td>\n",
              "      <td>2012</td>\n",
              "      <td>29</td>\n",
              "      <td>2</td>\n",
              "      <td>PREGÃO ELETRÔNICO</td>\n",
              "      <td>27</td>\n",
              "      <td>2012</td>\n",
              "      <td>SECRETARIA DE EDUCAÇÃO</td>\n",
              "      <td>MATERIAL GRÁFICO</td>\n",
              "      <td>7211171000109.0</td>\n",
              "      <td>...</td>\n",
              "      <td>JABOATAO DOS GUARARAPES</td>\n",
              "      <td>PE</td>\n",
              "      <td>333750.00</td>\n",
              "      <td>66358.00</td>\n",
              "      <td>51148.00</td>\n",
              "      <td>2012-12-20 10:00:00</td>\n",
              "      <td>2013-01-07</td>\n",
              "      <td>SECRETARIA DE EDU</td>\n",
              "      <td>COMISSÃO PER DE LIC DE EDU - CPL (GG</td>\n",
              "      <td>MATERIAL GRÁ</td>\n",
              "    </tr>\n",
              "    <tr>\n",
              "      <th>2</th>\n",
              "      <td>COMISSÃO PERMANENTE DE LICITAÇÃO DE EDUCAÇÃO -...</td>\n",
              "      <td>2012</td>\n",
              "      <td>30</td>\n",
              "      <td>1</td>\n",
              "      <td>PREGÃO ELETRÔNICO</td>\n",
              "      <td>28</td>\n",
              "      <td>2012</td>\n",
              "      <td>SECRETARIA DE EDUCAÇÃO</td>\n",
              "      <td>AGENDA ESCOLAR 2013</td>\n",
              "      <td>13898993000102.0</td>\n",
              "      <td>...</td>\n",
              "      <td>MACEIO</td>\n",
              "      <td>AL</td>\n",
              "      <td>530469.54</td>\n",
              "      <td>357895.02</td>\n",
              "      <td>357895.02</td>\n",
              "      <td>2013-01-02 10:00:00</td>\n",
              "      <td>2013-01-09</td>\n",
              "      <td>SECRETARIA DE EDU</td>\n",
              "      <td>COMISSÃO PER DE LIC DE EDU - CPL (GG</td>\n",
              "      <td>AGENDA ESC 201</td>\n",
              "    </tr>\n",
              "    <tr>\n",
              "      <th>3</th>\n",
              "      <td>COMISSÃO PERMANENTE DE LICITAÇÃO DE MATERIAIS ...</td>\n",
              "      <td>2012</td>\n",
              "      <td>23</td>\n",
              "      <td>4</td>\n",
              "      <td>PREGÃO ELETRÔNICO</td>\n",
              "      <td>23</td>\n",
              "      <td>2012</td>\n",
              "      <td>FUNDO MUNICIPAL DE SAUDE</td>\n",
              "      <td>AQUISIÇÃO DE PNEUS, PARA ATENDER AS NECESSIDAD...</td>\n",
              "      <td>10511406000192.0</td>\n",
              "      <td>...</td>\n",
              "      <td>JABOATAO DOS GUARARAPES</td>\n",
              "      <td>PE</td>\n",
              "      <td>16870.35</td>\n",
              "      <td>1518.00</td>\n",
              "      <td>800.00</td>\n",
              "      <td>2012-12-19 11:00:00</td>\n",
              "      <td>2013-03-01</td>\n",
              "      <td>FUNDO MUN DE SAU</td>\n",
              "      <td>COMISSÃO PER DE LIC DE MAT - CPL (GG</td>\n",
              "      <td>AQUISIÇÃO DE PNE PAR ATE AS NEC DA GER DE TRA ...</td>\n",
              "    </tr>\n",
              "    <tr>\n",
              "      <th>4</th>\n",
              "      <td>COMISSÃO PERMANENTE DE LICITAÇÃO DE MATERIAIS ...</td>\n",
              "      <td>2012</td>\n",
              "      <td>23</td>\n",
              "      <td>5</td>\n",
              "      <td>PREGÃO ELETRÔNICO</td>\n",
              "      <td>23</td>\n",
              "      <td>2012</td>\n",
              "      <td>FUNDO MUNICIPAL DE SAUDE</td>\n",
              "      <td>AQUISIÇÃO DE PNEUS, PARA ATENDER AS NECESSIDAD...</td>\n",
              "      <td>10511406000192.0</td>\n",
              "      <td>...</td>\n",
              "      <td>JABOATAO DOS GUARARAPES</td>\n",
              "      <td>PE</td>\n",
              "      <td>16870.35</td>\n",
              "      <td>1518.00</td>\n",
              "      <td>718.00</td>\n",
              "      <td>2012-12-19 11:00:00</td>\n",
              "      <td>2013-03-01</td>\n",
              "      <td>FUNDO MUN DE SAU</td>\n",
              "      <td>COMISSÃO PER DE LIC DE MAT - CPL (GG</td>\n",
              "      <td>AQUISIÇÃO DE PNE PAR ATE AS NEC DA GER DE TRA ...</td>\n",
              "    </tr>\n",
              "  </tbody>\n",
              "</table>\n",
              "<p>5 rows × 26 columns</p>\n",
              "</div>"
            ],
            "text/plain": [
              "                                  comissao_licitacao  ano_processolicitatorio  \\\n",
              "0  COMISSÃO PERMANENTE DE LICITAÇÃO DE EDUCAÇÃO -...                     2012   \n",
              "1  COMISSÃO PERMANENTE DE LICITAÇÃO DE EDUCAÇÃO -...                     2012   \n",
              "2  COMISSÃO PERMANENTE DE LICITAÇÃO DE EDUCAÇÃO -...                     2012   \n",
              "3  COMISSÃO PERMANENTE DE LICITAÇÃO DE MATERIAIS ...                     2012   \n",
              "4  COMISSÃO PERMANENTE DE LICITAÇÃO DE MATERIAIS ...                     2012   \n",
              "\n",
              "   num_processolicitatorio  numero_lote modalidadeprocessolicitatorio  \\\n",
              "0                       29            1             PREGÃO ELETRÔNICO   \n",
              "1                       29            2             PREGÃO ELETRÔNICO   \n",
              "2                       30            1             PREGÃO ELETRÔNICO   \n",
              "3                       23            4             PREGÃO ELETRÔNICO   \n",
              "4                       23            5             PREGÃO ELETRÔNICO   \n",
              "\n",
              "   numerolicitacaomodalidade  anolicitacaomodalidade  \\\n",
              "0                         27                    2012   \n",
              "1                         27                    2012   \n",
              "2                         28                    2012   \n",
              "3                         23                    2012   \n",
              "4                         23                    2012   \n",
              "\n",
              "            orgao_licitante  \\\n",
              "0    SECRETARIA DE EDUCAÇÃO   \n",
              "1    SECRETARIA DE EDUCAÇÃO   \n",
              "2    SECRETARIA DE EDUCAÇÃO   \n",
              "3  FUNDO MUNICIPAL DE SAUDE   \n",
              "4  FUNDO MUNICIPAL DE SAUDE   \n",
              "\n",
              "                                              objeto   cnpj_contratado  ...  \\\n",
              "0                                   MATERIAL GRÁFICO    758606000190.0  ...   \n",
              "1                                   MATERIAL GRÁFICO   7211171000109.0  ...   \n",
              "2                                AGENDA ESCOLAR 2013  13898993000102.0  ...   \n",
              "3  AQUISIÇÃO DE PNEUS, PARA ATENDER AS NECESSIDAD...  10511406000192.0  ...   \n",
              "4  AQUISIÇÃO DE PNEUS, PARA ATENDER AS NECESSIDAD...  10511406000192.0  ...   \n",
              "\n",
              "      cidade_endcontratado uf_endcontratado valor_total_estimado  \\\n",
              "0                   OLINDA               PE            333750.00   \n",
              "1  JABOATAO DOS GUARARAPES               PE            333750.00   \n",
              "2                   MACEIO               AL            530469.54   \n",
              "3  JABOATAO DOS GUARARAPES               PE             16870.35   \n",
              "4  JABOATAO DOS GUARARAPES               PE             16870.35   \n",
              "\n",
              "  valor_totalhomologadolicitacao valor_licitacao_lote data_aberturaproposta  \\\n",
              "0                       66358.00             15210.00   2012-12-20 10:00:00   \n",
              "1                       66358.00             51148.00   2012-12-20 10:00:00   \n",
              "2                      357895.02            357895.02   2013-01-02 10:00:00   \n",
              "3                        1518.00               800.00   2012-12-19 11:00:00   \n",
              "4                        1518.00               718.00   2012-12-19 11:00:00   \n",
              "\n",
              "  data_ultimafaseprocesso    orgao_abreviado  \\\n",
              "0              2013-01-07  SECRETARIA DE EDU   \n",
              "1              2013-01-07  SECRETARIA DE EDU   \n",
              "2              2013-01-09  SECRETARIA DE EDU   \n",
              "3              2013-03-01   FUNDO MUN DE SAU   \n",
              "4              2013-03-01   FUNDO MUN DE SAU   \n",
              "\n",
              "                     comissao_abreviado  \\\n",
              "0  COMISSÃO PER DE LIC DE EDU - CPL (GG   \n",
              "1  COMISSÃO PER DE LIC DE EDU - CPL (GG   \n",
              "2  COMISSÃO PER DE LIC DE EDU - CPL (GG   \n",
              "3  COMISSÃO PER DE LIC DE MAT - CPL (GG   \n",
              "4  COMISSÃO PER DE LIC DE MAT - CPL (GG   \n",
              "\n",
              "                                    objeto_abreviado  \n",
              "0                                       MATERIAL GRÁ  \n",
              "1                                       MATERIAL GRÁ  \n",
              "2                                     AGENDA ESC 201  \n",
              "3  AQUISIÇÃO DE PNE PAR ATE AS NEC DA GER DE TRA ...  \n",
              "4  AQUISIÇÃO DE PNE PAR ATE AS NEC DA GER DE TRA ...  \n",
              "\n",
              "[5 rows x 26 columns]"
            ]
          },
          "execution_count": 3,
          "metadata": {},
          "output_type": "execute_result"
        }
      ],
      "source": [
        "base2 = base.copy()\n",
        "\n",
        "def abreviar_coluna_especifica(base2, coluna_especifica):\n",
        "    # Verifica se a coluna especificada existe no DataFrame\n",
        "    if coluna_especifica in base2.columns:\n",
        "        # Aplica a função de abreviação somente na coluna especificada\n",
        "        base2[coluna_especifica] = base2[coluna_especifica].apply(lambda x: abreviar_apos_primeiro_nome(x) if isinstance(x, str) else x)\n",
        "    return base2\n",
        "\n",
        "def abreviar_apos_primeiro_nome(s):\n",
        "    partes = s.split(maxsplit=1)\n",
        "    # Mantém o primeiro nome e abrevia o restante das palavras em grupos de 3 caracteres\n",
        "    if len(partes) > 1:\n",
        "        # Abrevia cada palavra do restante da string em grupos de 3 caracteres\n",
        "        abreviacao = ' '.join([palavra[:3] for palavra in partes[1].split()])\n",
        "        return partes[0] + ' ' + abreviacao\n",
        "    else:\n",
        "        return s\n",
        "\n",
        "# Supondo que base2 seja um DataFrame do pandas, a função agora será aplicada somente na coluna 'orgao_licitante'.\n",
        "# O código a seguir é apenas para demonstração e não será executado aqui.\n",
        "base2['orgao_abreviado'] = base2['orgao_licitante']\n",
        "base2['comissao_abreviado'] = base2['comissao_licitacao']\n",
        "base2['objeto_abreviado'] = base2['objeto']\n",
        "\n",
        "base2 = abreviar_coluna_especifica(base2, 'orgao_abreviado')\n",
        "base2 = abreviar_coluna_especifica(base2, 'comissao_abreviado')\n",
        "base2 = abreviar_coluna_especifica(base2, 'objeto_abreviado')\n",
        "base2.head()"
      ]
    },
    {
      "cell_type": "markdown",
      "metadata": {
        "id": "lDy6kBLl7NEG"
      },
      "source": [
        "<h2> Criando Dataframe de Processos Licitatórios por Estado.</h2>"
      ]
    },
    {
      "cell_type": "code",
      "execution_count": 4,
      "metadata": {
        "id": "Xv2-dhgs57tM"
      },
      "outputs": [],
      "source": [
        "process_uf= pd.DataFrame(base[\"uf_endcontratado\"].value_counts())\n",
        "process_uf.reset_index(inplace=True)\n",
        "process_uf.columns = ['uf_endcontratado', 'count']\n",
        "cinco_mais_estados=process_uf.head(5)\n",
        "\n",
        "\n",
        "\n"
      ]
    },
    {
      "cell_type": "markdown",
      "metadata": {
        "id": "Y3LC2g1P7yfa"
      },
      "source": [
        "<h2> Criando gráfico de licitações por estado.</h2>"
      ]
    },
    {
      "cell_type": "code",
      "execution_count": 5,
      "metadata": {
        "id": "Rb0eiESC7o-C"
      },
      "outputs": [],
      "source": [
        "# graf_process_uf= go.Figure(data=[go.Pie(labels=cinco_mais_estados['uf_endcontratado'], values=cinco_mais_estados['count'], name=\"Licitações por estado\")])\n",
        "# graf_process_uf\n",
        "\n"
      ]
    },
    {
      "cell_type": "code",
      "execution_count": 6,
      "metadata": {
        "id": "u-OvCznkvp7a"
      },
      "outputs": [],
      "source": [
        "\n",
        "process_pe=base[base[\"uf_endcontratado\"]== \"PE\"]\n",
        "process_pe[\"cidade_endcontratado\"].value_counts()\n",
        "\n",
        "# Criando o dataframe Quantidade de processos por cidade\n",
        "\n",
        "df_process_cidade = pd.DataFrame(process_pe[\"cidade_endcontratado\"].value_counts())\n",
        "df_process_cidade.reset_index(inplace=True)\n",
        "df_process_cidade.columns = ['cidade_endcontratado', 'count']\n",
        "\n",
        "\n",
        "\n",
        "\n"
      ]
    },
    {
      "cell_type": "code",
      "execution_count": 7,
      "metadata": {
        "id": "EMqu7J8IUPve"
      },
      "outputs": [],
      "source": [
        "# Transformando a filtragem cidades cujos os produtos ou serviços participaram de licitações em dataframe.\n",
        "df_process_cidade = pd.DataFrame(process_pe[\"cidade_endcontratado\"].value_counts())\n",
        "df_process_cidade.reset_index(inplace=True)\n",
        "df_process_cidade.columns = ['cidade_endcontratado', 'count']\n",
        "cincos_cidades_com_mais_process=df_process_cidade.iloc[0:5]\n"
      ]
    },
    {
      "cell_type": "code",
      "execution_count": 8,
      "metadata": {
        "id": "rETJozYdQRCA"
      },
      "outputs": [
        {
          "ename": "ValueError",
          "evalue": "Mime type rendering requires nbformat>=4.2.0 but it is not installed",
          "output_type": "error",
          "traceback": [
            "\u001b[1;31m---------------------------------------------------------------------------\u001b[0m",
            "\u001b[1;31mValueError\u001b[0m                                Traceback (most recent call last)",
            "File \u001b[1;32mc:\\Users\\dayvi\\Documents\\ciencia_de_dados_licitacoes_prefeitura_do_recife\\venv\\Lib\\site-packages\\IPython\\core\\formatters.py:925\u001b[0m, in \u001b[0;36mIPythonDisplayFormatter.__call__\u001b[1;34m(self, obj)\u001b[0m\n\u001b[0;32m    923\u001b[0m method \u001b[38;5;241m=\u001b[39m get_real_method(obj, \u001b[38;5;28mself\u001b[39m\u001b[38;5;241m.\u001b[39mprint_method)\n\u001b[0;32m    924\u001b[0m \u001b[38;5;28;01mif\u001b[39;00m method \u001b[38;5;129;01mis\u001b[39;00m \u001b[38;5;129;01mnot\u001b[39;00m \u001b[38;5;28;01mNone\u001b[39;00m:\n\u001b[1;32m--> 925\u001b[0m     \u001b[43mmethod\u001b[49m\u001b[43m(\u001b[49m\u001b[43m)\u001b[49m\n\u001b[0;32m    926\u001b[0m     \u001b[38;5;28;01mreturn\u001b[39;00m \u001b[38;5;28;01mTrue\u001b[39;00m\n",
            "File \u001b[1;32mc:\\Users\\dayvi\\Documents\\ciencia_de_dados_licitacoes_prefeitura_do_recife\\venv\\Lib\\site-packages\\plotly\\basedatatypes.py:832\u001b[0m, in \u001b[0;36mBaseFigure._ipython_display_\u001b[1;34m(self)\u001b[0m\n\u001b[0;32m    829\u001b[0m \u001b[38;5;28;01mimport\u001b[39;00m \u001b[38;5;21;01mplotly\u001b[39;00m\u001b[38;5;21;01m.\u001b[39;00m\u001b[38;5;21;01mio\u001b[39;00m \u001b[38;5;28;01mas\u001b[39;00m \u001b[38;5;21;01mpio\u001b[39;00m\n\u001b[0;32m    831\u001b[0m \u001b[38;5;28;01mif\u001b[39;00m pio\u001b[38;5;241m.\u001b[39mrenderers\u001b[38;5;241m.\u001b[39mrender_on_display \u001b[38;5;129;01mand\u001b[39;00m pio\u001b[38;5;241m.\u001b[39mrenderers\u001b[38;5;241m.\u001b[39mdefault:\n\u001b[1;32m--> 832\u001b[0m     \u001b[43mpio\u001b[49m\u001b[38;5;241;43m.\u001b[39;49m\u001b[43mshow\u001b[49m\u001b[43m(\u001b[49m\u001b[38;5;28;43mself\u001b[39;49m\u001b[43m)\u001b[49m\n\u001b[0;32m    833\u001b[0m \u001b[38;5;28;01melse\u001b[39;00m:\n\u001b[0;32m    834\u001b[0m     \u001b[38;5;28mprint\u001b[39m(\u001b[38;5;28mrepr\u001b[39m(\u001b[38;5;28mself\u001b[39m))\n",
            "File \u001b[1;32mc:\\Users\\dayvi\\Documents\\ciencia_de_dados_licitacoes_prefeitura_do_recife\\venv\\Lib\\site-packages\\plotly\\io\\_renderers.py:394\u001b[0m, in \u001b[0;36mshow\u001b[1;34m(fig, renderer, validate, **kwargs)\u001b[0m\n\u001b[0;32m    389\u001b[0m         \u001b[38;5;28;01mraise\u001b[39;00m \u001b[38;5;167;01mValueError\u001b[39;00m(\n\u001b[0;32m    390\u001b[0m             \u001b[38;5;124m\"\u001b[39m\u001b[38;5;124mMime type rendering requires ipython but it is not installed\u001b[39m\u001b[38;5;124m\"\u001b[39m\n\u001b[0;32m    391\u001b[0m         )\n\u001b[0;32m    393\u001b[0m     \u001b[38;5;28;01mif\u001b[39;00m \u001b[38;5;129;01mnot\u001b[39;00m nbformat \u001b[38;5;129;01mor\u001b[39;00m Version(nbformat\u001b[38;5;241m.\u001b[39m__version__) \u001b[38;5;241m<\u001b[39m Version(\u001b[38;5;124m\"\u001b[39m\u001b[38;5;124m4.2.0\u001b[39m\u001b[38;5;124m\"\u001b[39m):\n\u001b[1;32m--> 394\u001b[0m         \u001b[38;5;28;01mraise\u001b[39;00m \u001b[38;5;167;01mValueError\u001b[39;00m(\n\u001b[0;32m    395\u001b[0m             \u001b[38;5;124m\"\u001b[39m\u001b[38;5;124mMime type rendering requires nbformat>=4.2.0 but it is not installed\u001b[39m\u001b[38;5;124m\"\u001b[39m\n\u001b[0;32m    396\u001b[0m         )\n\u001b[0;32m    398\u001b[0m     ipython_display\u001b[38;5;241m.\u001b[39mdisplay(bundle, raw\u001b[38;5;241m=\u001b[39m\u001b[38;5;28;01mTrue\u001b[39;00m)\n\u001b[0;32m    400\u001b[0m \u001b[38;5;66;03m# external renderers\u001b[39;00m\n",
            "\u001b[1;31mValueError\u001b[0m: Mime type rendering requires nbformat>=4.2.0 but it is not installed"
          ]
        },
        {
          "data": {
            "application/vnd.plotly.v1+json": {
              "config": {
                "plotlyServerURL": "https://plot.ly"
              },
              "data": [
                {
                  "labels": [
                    "RECIFE",
                    "PAULISTA",
                    "JABOATAO DOS GUARARAPES",
                    "OLINDA",
                    "MORENO"
                  ],
                  "name": "Licitações por cidade",
                  "type": "pie",
                  "values": [
                    7037,
                    1075,
                    749,
                    575,
                    214
                  ]
                }
              ],
              "layout": {
                "template": {
                  "data": {
                    "bar": [
                      {
                        "error_x": {
                          "color": "#2a3f5f"
                        },
                        "error_y": {
                          "color": "#2a3f5f"
                        },
                        "marker": {
                          "line": {
                            "color": "#E5ECF6",
                            "width": 0.5
                          },
                          "pattern": {
                            "fillmode": "overlay",
                            "size": 10,
                            "solidity": 0.2
                          }
                        },
                        "type": "bar"
                      }
                    ],
                    "barpolar": [
                      {
                        "marker": {
                          "line": {
                            "color": "#E5ECF6",
                            "width": 0.5
                          },
                          "pattern": {
                            "fillmode": "overlay",
                            "size": 10,
                            "solidity": 0.2
                          }
                        },
                        "type": "barpolar"
                      }
                    ],
                    "carpet": [
                      {
                        "aaxis": {
                          "endlinecolor": "#2a3f5f",
                          "gridcolor": "white",
                          "linecolor": "white",
                          "minorgridcolor": "white",
                          "startlinecolor": "#2a3f5f"
                        },
                        "baxis": {
                          "endlinecolor": "#2a3f5f",
                          "gridcolor": "white",
                          "linecolor": "white",
                          "minorgridcolor": "white",
                          "startlinecolor": "#2a3f5f"
                        },
                        "type": "carpet"
                      }
                    ],
                    "choropleth": [
                      {
                        "colorbar": {
                          "outlinewidth": 0,
                          "ticks": ""
                        },
                        "type": "choropleth"
                      }
                    ],
                    "contour": [
                      {
                        "colorbar": {
                          "outlinewidth": 0,
                          "ticks": ""
                        },
                        "colorscale": [
                          [
                            0,
                            "#0d0887"
                          ],
                          [
                            0.1111111111111111,
                            "#46039f"
                          ],
                          [
                            0.2222222222222222,
                            "#7201a8"
                          ],
                          [
                            0.3333333333333333,
                            "#9c179e"
                          ],
                          [
                            0.4444444444444444,
                            "#bd3786"
                          ],
                          [
                            0.5555555555555556,
                            "#d8576b"
                          ],
                          [
                            0.6666666666666666,
                            "#ed7953"
                          ],
                          [
                            0.7777777777777778,
                            "#fb9f3a"
                          ],
                          [
                            0.8888888888888888,
                            "#fdca26"
                          ],
                          [
                            1,
                            "#f0f921"
                          ]
                        ],
                        "type": "contour"
                      }
                    ],
                    "contourcarpet": [
                      {
                        "colorbar": {
                          "outlinewidth": 0,
                          "ticks": ""
                        },
                        "type": "contourcarpet"
                      }
                    ],
                    "heatmap": [
                      {
                        "colorbar": {
                          "outlinewidth": 0,
                          "ticks": ""
                        },
                        "colorscale": [
                          [
                            0,
                            "#0d0887"
                          ],
                          [
                            0.1111111111111111,
                            "#46039f"
                          ],
                          [
                            0.2222222222222222,
                            "#7201a8"
                          ],
                          [
                            0.3333333333333333,
                            "#9c179e"
                          ],
                          [
                            0.4444444444444444,
                            "#bd3786"
                          ],
                          [
                            0.5555555555555556,
                            "#d8576b"
                          ],
                          [
                            0.6666666666666666,
                            "#ed7953"
                          ],
                          [
                            0.7777777777777778,
                            "#fb9f3a"
                          ],
                          [
                            0.8888888888888888,
                            "#fdca26"
                          ],
                          [
                            1,
                            "#f0f921"
                          ]
                        ],
                        "type": "heatmap"
                      }
                    ],
                    "heatmapgl": [
                      {
                        "colorbar": {
                          "outlinewidth": 0,
                          "ticks": ""
                        },
                        "colorscale": [
                          [
                            0,
                            "#0d0887"
                          ],
                          [
                            0.1111111111111111,
                            "#46039f"
                          ],
                          [
                            0.2222222222222222,
                            "#7201a8"
                          ],
                          [
                            0.3333333333333333,
                            "#9c179e"
                          ],
                          [
                            0.4444444444444444,
                            "#bd3786"
                          ],
                          [
                            0.5555555555555556,
                            "#d8576b"
                          ],
                          [
                            0.6666666666666666,
                            "#ed7953"
                          ],
                          [
                            0.7777777777777778,
                            "#fb9f3a"
                          ],
                          [
                            0.8888888888888888,
                            "#fdca26"
                          ],
                          [
                            1,
                            "#f0f921"
                          ]
                        ],
                        "type": "heatmapgl"
                      }
                    ],
                    "histogram": [
                      {
                        "marker": {
                          "pattern": {
                            "fillmode": "overlay",
                            "size": 10,
                            "solidity": 0.2
                          }
                        },
                        "type": "histogram"
                      }
                    ],
                    "histogram2d": [
                      {
                        "colorbar": {
                          "outlinewidth": 0,
                          "ticks": ""
                        },
                        "colorscale": [
                          [
                            0,
                            "#0d0887"
                          ],
                          [
                            0.1111111111111111,
                            "#46039f"
                          ],
                          [
                            0.2222222222222222,
                            "#7201a8"
                          ],
                          [
                            0.3333333333333333,
                            "#9c179e"
                          ],
                          [
                            0.4444444444444444,
                            "#bd3786"
                          ],
                          [
                            0.5555555555555556,
                            "#d8576b"
                          ],
                          [
                            0.6666666666666666,
                            "#ed7953"
                          ],
                          [
                            0.7777777777777778,
                            "#fb9f3a"
                          ],
                          [
                            0.8888888888888888,
                            "#fdca26"
                          ],
                          [
                            1,
                            "#f0f921"
                          ]
                        ],
                        "type": "histogram2d"
                      }
                    ],
                    "histogram2dcontour": [
                      {
                        "colorbar": {
                          "outlinewidth": 0,
                          "ticks": ""
                        },
                        "colorscale": [
                          [
                            0,
                            "#0d0887"
                          ],
                          [
                            0.1111111111111111,
                            "#46039f"
                          ],
                          [
                            0.2222222222222222,
                            "#7201a8"
                          ],
                          [
                            0.3333333333333333,
                            "#9c179e"
                          ],
                          [
                            0.4444444444444444,
                            "#bd3786"
                          ],
                          [
                            0.5555555555555556,
                            "#d8576b"
                          ],
                          [
                            0.6666666666666666,
                            "#ed7953"
                          ],
                          [
                            0.7777777777777778,
                            "#fb9f3a"
                          ],
                          [
                            0.8888888888888888,
                            "#fdca26"
                          ],
                          [
                            1,
                            "#f0f921"
                          ]
                        ],
                        "type": "histogram2dcontour"
                      }
                    ],
                    "mesh3d": [
                      {
                        "colorbar": {
                          "outlinewidth": 0,
                          "ticks": ""
                        },
                        "type": "mesh3d"
                      }
                    ],
                    "parcoords": [
                      {
                        "line": {
                          "colorbar": {
                            "outlinewidth": 0,
                            "ticks": ""
                          }
                        },
                        "type": "parcoords"
                      }
                    ],
                    "pie": [
                      {
                        "automargin": true,
                        "type": "pie"
                      }
                    ],
                    "scatter": [
                      {
                        "fillpattern": {
                          "fillmode": "overlay",
                          "size": 10,
                          "solidity": 0.2
                        },
                        "type": "scatter"
                      }
                    ],
                    "scatter3d": [
                      {
                        "line": {
                          "colorbar": {
                            "outlinewidth": 0,
                            "ticks": ""
                          }
                        },
                        "marker": {
                          "colorbar": {
                            "outlinewidth": 0,
                            "ticks": ""
                          }
                        },
                        "type": "scatter3d"
                      }
                    ],
                    "scattercarpet": [
                      {
                        "marker": {
                          "colorbar": {
                            "outlinewidth": 0,
                            "ticks": ""
                          }
                        },
                        "type": "scattercarpet"
                      }
                    ],
                    "scattergeo": [
                      {
                        "marker": {
                          "colorbar": {
                            "outlinewidth": 0,
                            "ticks": ""
                          }
                        },
                        "type": "scattergeo"
                      }
                    ],
                    "scattergl": [
                      {
                        "marker": {
                          "colorbar": {
                            "outlinewidth": 0,
                            "ticks": ""
                          }
                        },
                        "type": "scattergl"
                      }
                    ],
                    "scattermapbox": [
                      {
                        "marker": {
                          "colorbar": {
                            "outlinewidth": 0,
                            "ticks": ""
                          }
                        },
                        "type": "scattermapbox"
                      }
                    ],
                    "scatterpolar": [
                      {
                        "marker": {
                          "colorbar": {
                            "outlinewidth": 0,
                            "ticks": ""
                          }
                        },
                        "type": "scatterpolar"
                      }
                    ],
                    "scatterpolargl": [
                      {
                        "marker": {
                          "colorbar": {
                            "outlinewidth": 0,
                            "ticks": ""
                          }
                        },
                        "type": "scatterpolargl"
                      }
                    ],
                    "scatterternary": [
                      {
                        "marker": {
                          "colorbar": {
                            "outlinewidth": 0,
                            "ticks": ""
                          }
                        },
                        "type": "scatterternary"
                      }
                    ],
                    "surface": [
                      {
                        "colorbar": {
                          "outlinewidth": 0,
                          "ticks": ""
                        },
                        "colorscale": [
                          [
                            0,
                            "#0d0887"
                          ],
                          [
                            0.1111111111111111,
                            "#46039f"
                          ],
                          [
                            0.2222222222222222,
                            "#7201a8"
                          ],
                          [
                            0.3333333333333333,
                            "#9c179e"
                          ],
                          [
                            0.4444444444444444,
                            "#bd3786"
                          ],
                          [
                            0.5555555555555556,
                            "#d8576b"
                          ],
                          [
                            0.6666666666666666,
                            "#ed7953"
                          ],
                          [
                            0.7777777777777778,
                            "#fb9f3a"
                          ],
                          [
                            0.8888888888888888,
                            "#fdca26"
                          ],
                          [
                            1,
                            "#f0f921"
                          ]
                        ],
                        "type": "surface"
                      }
                    ],
                    "table": [
                      {
                        "cells": {
                          "fill": {
                            "color": "#EBF0F8"
                          },
                          "line": {
                            "color": "white"
                          }
                        },
                        "header": {
                          "fill": {
                            "color": "#C8D4E3"
                          },
                          "line": {
                            "color": "white"
                          }
                        },
                        "type": "table"
                      }
                    ]
                  },
                  "layout": {
                    "annotationdefaults": {
                      "arrowcolor": "#2a3f5f",
                      "arrowhead": 0,
                      "arrowwidth": 1
                    },
                    "autotypenumbers": "strict",
                    "coloraxis": {
                      "colorbar": {
                        "outlinewidth": 0,
                        "ticks": ""
                      }
                    },
                    "colorscale": {
                      "diverging": [
                        [
                          0,
                          "#8e0152"
                        ],
                        [
                          0.1,
                          "#c51b7d"
                        ],
                        [
                          0.2,
                          "#de77ae"
                        ],
                        [
                          0.3,
                          "#f1b6da"
                        ],
                        [
                          0.4,
                          "#fde0ef"
                        ],
                        [
                          0.5,
                          "#f7f7f7"
                        ],
                        [
                          0.6,
                          "#e6f5d0"
                        ],
                        [
                          0.7,
                          "#b8e186"
                        ],
                        [
                          0.8,
                          "#7fbc41"
                        ],
                        [
                          0.9,
                          "#4d9221"
                        ],
                        [
                          1,
                          "#276419"
                        ]
                      ],
                      "sequential": [
                        [
                          0,
                          "#0d0887"
                        ],
                        [
                          0.1111111111111111,
                          "#46039f"
                        ],
                        [
                          0.2222222222222222,
                          "#7201a8"
                        ],
                        [
                          0.3333333333333333,
                          "#9c179e"
                        ],
                        [
                          0.4444444444444444,
                          "#bd3786"
                        ],
                        [
                          0.5555555555555556,
                          "#d8576b"
                        ],
                        [
                          0.6666666666666666,
                          "#ed7953"
                        ],
                        [
                          0.7777777777777778,
                          "#fb9f3a"
                        ],
                        [
                          0.8888888888888888,
                          "#fdca26"
                        ],
                        [
                          1,
                          "#f0f921"
                        ]
                      ],
                      "sequentialminus": [
                        [
                          0,
                          "#0d0887"
                        ],
                        [
                          0.1111111111111111,
                          "#46039f"
                        ],
                        [
                          0.2222222222222222,
                          "#7201a8"
                        ],
                        [
                          0.3333333333333333,
                          "#9c179e"
                        ],
                        [
                          0.4444444444444444,
                          "#bd3786"
                        ],
                        [
                          0.5555555555555556,
                          "#d8576b"
                        ],
                        [
                          0.6666666666666666,
                          "#ed7953"
                        ],
                        [
                          0.7777777777777778,
                          "#fb9f3a"
                        ],
                        [
                          0.8888888888888888,
                          "#fdca26"
                        ],
                        [
                          1,
                          "#f0f921"
                        ]
                      ]
                    },
                    "colorway": [
                      "#636efa",
                      "#EF553B",
                      "#00cc96",
                      "#ab63fa",
                      "#FFA15A",
                      "#19d3f3",
                      "#FF6692",
                      "#B6E880",
                      "#FF97FF",
                      "#FECB52"
                    ],
                    "font": {
                      "color": "#2a3f5f"
                    },
                    "geo": {
                      "bgcolor": "white",
                      "lakecolor": "white",
                      "landcolor": "#E5ECF6",
                      "showlakes": true,
                      "showland": true,
                      "subunitcolor": "white"
                    },
                    "hoverlabel": {
                      "align": "left"
                    },
                    "hovermode": "closest",
                    "mapbox": {
                      "style": "light"
                    },
                    "paper_bgcolor": "white",
                    "plot_bgcolor": "#E5ECF6",
                    "polar": {
                      "angularaxis": {
                        "gridcolor": "white",
                        "linecolor": "white",
                        "ticks": ""
                      },
                      "bgcolor": "#E5ECF6",
                      "radialaxis": {
                        "gridcolor": "white",
                        "linecolor": "white",
                        "ticks": ""
                      }
                    },
                    "scene": {
                      "xaxis": {
                        "backgroundcolor": "#E5ECF6",
                        "gridcolor": "white",
                        "gridwidth": 2,
                        "linecolor": "white",
                        "showbackground": true,
                        "ticks": "",
                        "zerolinecolor": "white"
                      },
                      "yaxis": {
                        "backgroundcolor": "#E5ECF6",
                        "gridcolor": "white",
                        "gridwidth": 2,
                        "linecolor": "white",
                        "showbackground": true,
                        "ticks": "",
                        "zerolinecolor": "white"
                      },
                      "zaxis": {
                        "backgroundcolor": "#E5ECF6",
                        "gridcolor": "white",
                        "gridwidth": 2,
                        "linecolor": "white",
                        "showbackground": true,
                        "ticks": "",
                        "zerolinecolor": "white"
                      }
                    },
                    "shapedefaults": {
                      "line": {
                        "color": "#2a3f5f"
                      }
                    },
                    "ternary": {
                      "aaxis": {
                        "gridcolor": "white",
                        "linecolor": "white",
                        "ticks": ""
                      },
                      "baxis": {
                        "gridcolor": "white",
                        "linecolor": "white",
                        "ticks": ""
                      },
                      "bgcolor": "#E5ECF6",
                      "caxis": {
                        "gridcolor": "white",
                        "linecolor": "white",
                        "ticks": ""
                      }
                    },
                    "title": {
                      "x": 0.05
                    },
                    "xaxis": {
                      "automargin": true,
                      "gridcolor": "white",
                      "linecolor": "white",
                      "ticks": "",
                      "title": {
                        "standoff": 15
                      },
                      "zerolinecolor": "white",
                      "zerolinewidth": 2
                    },
                    "yaxis": {
                      "automargin": true,
                      "gridcolor": "white",
                      "linecolor": "white",
                      "ticks": "",
                      "title": {
                        "standoff": 15
                      },
                      "zerolinecolor": "white",
                      "zerolinewidth": 2
                    }
                  }
                }
              }
            },
            "text/html": [
              "<div>                        <script type=\"text/javascript\">window.PlotlyConfig = {MathJaxConfig: 'local'};</script>\n",
              "        <script charset=\"utf-8\" src=\"https://cdn.plot.ly/plotly-2.32.0.min.js\"></script>                <div id=\"23c9a445-2380-4983-90cf-d14e06e79e3b\" class=\"plotly-graph-div\" style=\"height:100%; width:100%;\"></div>            <script type=\"text/javascript\">                                    window.PLOTLYENV=window.PLOTLYENV || {};                                    if (document.getElementById(\"23c9a445-2380-4983-90cf-d14e06e79e3b\")) {                    Plotly.newPlot(                        \"23c9a445-2380-4983-90cf-d14e06e79e3b\",                        [{\"labels\":[\"RECIFE\",\"PAULISTA\",\"JABOATAO DOS GUARARAPES\",\"OLINDA\",\"MORENO\"],\"name\":\"Licita\\u00e7\\u00f5es por cidade\",\"values\":[7037,1075,749,575,214],\"type\":\"pie\"}],                        {\"template\":{\"data\":{\"histogram2dcontour\":[{\"type\":\"histogram2dcontour\",\"colorbar\":{\"outlinewidth\":0,\"ticks\":\"\"},\"colorscale\":[[0.0,\"#0d0887\"],[0.1111111111111111,\"#46039f\"],[0.2222222222222222,\"#7201a8\"],[0.3333333333333333,\"#9c179e\"],[0.4444444444444444,\"#bd3786\"],[0.5555555555555556,\"#d8576b\"],[0.6666666666666666,\"#ed7953\"],[0.7777777777777778,\"#fb9f3a\"],[0.8888888888888888,\"#fdca26\"],[1.0,\"#f0f921\"]]}],\"choropleth\":[{\"type\":\"choropleth\",\"colorbar\":{\"outlinewidth\":0,\"ticks\":\"\"}}],\"histogram2d\":[{\"type\":\"histogram2d\",\"colorbar\":{\"outlinewidth\":0,\"ticks\":\"\"},\"colorscale\":[[0.0,\"#0d0887\"],[0.1111111111111111,\"#46039f\"],[0.2222222222222222,\"#7201a8\"],[0.3333333333333333,\"#9c179e\"],[0.4444444444444444,\"#bd3786\"],[0.5555555555555556,\"#d8576b\"],[0.6666666666666666,\"#ed7953\"],[0.7777777777777778,\"#fb9f3a\"],[0.8888888888888888,\"#fdca26\"],[1.0,\"#f0f921\"]]}],\"heatmap\":[{\"type\":\"heatmap\",\"colorbar\":{\"outlinewidth\":0,\"ticks\":\"\"},\"colorscale\":[[0.0,\"#0d0887\"],[0.1111111111111111,\"#46039f\"],[0.2222222222222222,\"#7201a8\"],[0.3333333333333333,\"#9c179e\"],[0.4444444444444444,\"#bd3786\"],[0.5555555555555556,\"#d8576b\"],[0.6666666666666666,\"#ed7953\"],[0.7777777777777778,\"#fb9f3a\"],[0.8888888888888888,\"#fdca26\"],[1.0,\"#f0f921\"]]}],\"heatmapgl\":[{\"type\":\"heatmapgl\",\"colorbar\":{\"outlinewidth\":0,\"ticks\":\"\"},\"colorscale\":[[0.0,\"#0d0887\"],[0.1111111111111111,\"#46039f\"],[0.2222222222222222,\"#7201a8\"],[0.3333333333333333,\"#9c179e\"],[0.4444444444444444,\"#bd3786\"],[0.5555555555555556,\"#d8576b\"],[0.6666666666666666,\"#ed7953\"],[0.7777777777777778,\"#fb9f3a\"],[0.8888888888888888,\"#fdca26\"],[1.0,\"#f0f921\"]]}],\"contourcarpet\":[{\"type\":\"contourcarpet\",\"colorbar\":{\"outlinewidth\":0,\"ticks\":\"\"}}],\"contour\":[{\"type\":\"contour\",\"colorbar\":{\"outlinewidth\":0,\"ticks\":\"\"},\"colorscale\":[[0.0,\"#0d0887\"],[0.1111111111111111,\"#46039f\"],[0.2222222222222222,\"#7201a8\"],[0.3333333333333333,\"#9c179e\"],[0.4444444444444444,\"#bd3786\"],[0.5555555555555556,\"#d8576b\"],[0.6666666666666666,\"#ed7953\"],[0.7777777777777778,\"#fb9f3a\"],[0.8888888888888888,\"#fdca26\"],[1.0,\"#f0f921\"]]}],\"surface\":[{\"type\":\"surface\",\"colorbar\":{\"outlinewidth\":0,\"ticks\":\"\"},\"colorscale\":[[0.0,\"#0d0887\"],[0.1111111111111111,\"#46039f\"],[0.2222222222222222,\"#7201a8\"],[0.3333333333333333,\"#9c179e\"],[0.4444444444444444,\"#bd3786\"],[0.5555555555555556,\"#d8576b\"],[0.6666666666666666,\"#ed7953\"],[0.7777777777777778,\"#fb9f3a\"],[0.8888888888888888,\"#fdca26\"],[1.0,\"#f0f921\"]]}],\"mesh3d\":[{\"type\":\"mesh3d\",\"colorbar\":{\"outlinewidth\":0,\"ticks\":\"\"}}],\"scatter\":[{\"fillpattern\":{\"fillmode\":\"overlay\",\"size\":10,\"solidity\":0.2},\"type\":\"scatter\"}],\"parcoords\":[{\"type\":\"parcoords\",\"line\":{\"colorbar\":{\"outlinewidth\":0,\"ticks\":\"\"}}}],\"scatterpolargl\":[{\"type\":\"scatterpolargl\",\"marker\":{\"colorbar\":{\"outlinewidth\":0,\"ticks\":\"\"}}}],\"bar\":[{\"error_x\":{\"color\":\"#2a3f5f\"},\"error_y\":{\"color\":\"#2a3f5f\"},\"marker\":{\"line\":{\"color\":\"#E5ECF6\",\"width\":0.5},\"pattern\":{\"fillmode\":\"overlay\",\"size\":10,\"solidity\":0.2}},\"type\":\"bar\"}],\"scattergeo\":[{\"type\":\"scattergeo\",\"marker\":{\"colorbar\":{\"outlinewidth\":0,\"ticks\":\"\"}}}],\"scatterpolar\":[{\"type\":\"scatterpolar\",\"marker\":{\"colorbar\":{\"outlinewidth\":0,\"ticks\":\"\"}}}],\"histogram\":[{\"marker\":{\"pattern\":{\"fillmode\":\"overlay\",\"size\":10,\"solidity\":0.2}},\"type\":\"histogram\"}],\"scattergl\":[{\"type\":\"scattergl\",\"marker\":{\"colorbar\":{\"outlinewidth\":0,\"ticks\":\"\"}}}],\"scatter3d\":[{\"type\":\"scatter3d\",\"line\":{\"colorbar\":{\"outlinewidth\":0,\"ticks\":\"\"}},\"marker\":{\"colorbar\":{\"outlinewidth\":0,\"ticks\":\"\"}}}],\"scattermapbox\":[{\"type\":\"scattermapbox\",\"marker\":{\"colorbar\":{\"outlinewidth\":0,\"ticks\":\"\"}}}],\"scatterternary\":[{\"type\":\"scatterternary\",\"marker\":{\"colorbar\":{\"outlinewidth\":0,\"ticks\":\"\"}}}],\"scattercarpet\":[{\"type\":\"scattercarpet\",\"marker\":{\"colorbar\":{\"outlinewidth\":0,\"ticks\":\"\"}}}],\"carpet\":[{\"aaxis\":{\"endlinecolor\":\"#2a3f5f\",\"gridcolor\":\"white\",\"linecolor\":\"white\",\"minorgridcolor\":\"white\",\"startlinecolor\":\"#2a3f5f\"},\"baxis\":{\"endlinecolor\":\"#2a3f5f\",\"gridcolor\":\"white\",\"linecolor\":\"white\",\"minorgridcolor\":\"white\",\"startlinecolor\":\"#2a3f5f\"},\"type\":\"carpet\"}],\"table\":[{\"cells\":{\"fill\":{\"color\":\"#EBF0F8\"},\"line\":{\"color\":\"white\"}},\"header\":{\"fill\":{\"color\":\"#C8D4E3\"},\"line\":{\"color\":\"white\"}},\"type\":\"table\"}],\"barpolar\":[{\"marker\":{\"line\":{\"color\":\"#E5ECF6\",\"width\":0.5},\"pattern\":{\"fillmode\":\"overlay\",\"size\":10,\"solidity\":0.2}},\"type\":\"barpolar\"}],\"pie\":[{\"automargin\":true,\"type\":\"pie\"}]},\"layout\":{\"autotypenumbers\":\"strict\",\"colorway\":[\"#636efa\",\"#EF553B\",\"#00cc96\",\"#ab63fa\",\"#FFA15A\",\"#19d3f3\",\"#FF6692\",\"#B6E880\",\"#FF97FF\",\"#FECB52\"],\"font\":{\"color\":\"#2a3f5f\"},\"hovermode\":\"closest\",\"hoverlabel\":{\"align\":\"left\"},\"paper_bgcolor\":\"white\",\"plot_bgcolor\":\"#E5ECF6\",\"polar\":{\"bgcolor\":\"#E5ECF6\",\"angularaxis\":{\"gridcolor\":\"white\",\"linecolor\":\"white\",\"ticks\":\"\"},\"radialaxis\":{\"gridcolor\":\"white\",\"linecolor\":\"white\",\"ticks\":\"\"}},\"ternary\":{\"bgcolor\":\"#E5ECF6\",\"aaxis\":{\"gridcolor\":\"white\",\"linecolor\":\"white\",\"ticks\":\"\"},\"baxis\":{\"gridcolor\":\"white\",\"linecolor\":\"white\",\"ticks\":\"\"},\"caxis\":{\"gridcolor\":\"white\",\"linecolor\":\"white\",\"ticks\":\"\"}},\"coloraxis\":{\"colorbar\":{\"outlinewidth\":0,\"ticks\":\"\"}},\"colorscale\":{\"sequential\":[[0.0,\"#0d0887\"],[0.1111111111111111,\"#46039f\"],[0.2222222222222222,\"#7201a8\"],[0.3333333333333333,\"#9c179e\"],[0.4444444444444444,\"#bd3786\"],[0.5555555555555556,\"#d8576b\"],[0.6666666666666666,\"#ed7953\"],[0.7777777777777778,\"#fb9f3a\"],[0.8888888888888888,\"#fdca26\"],[1.0,\"#f0f921\"]],\"sequentialminus\":[[0.0,\"#0d0887\"],[0.1111111111111111,\"#46039f\"],[0.2222222222222222,\"#7201a8\"],[0.3333333333333333,\"#9c179e\"],[0.4444444444444444,\"#bd3786\"],[0.5555555555555556,\"#d8576b\"],[0.6666666666666666,\"#ed7953\"],[0.7777777777777778,\"#fb9f3a\"],[0.8888888888888888,\"#fdca26\"],[1.0,\"#f0f921\"]],\"diverging\":[[0,\"#8e0152\"],[0.1,\"#c51b7d\"],[0.2,\"#de77ae\"],[0.3,\"#f1b6da\"],[0.4,\"#fde0ef\"],[0.5,\"#f7f7f7\"],[0.6,\"#e6f5d0\"],[0.7,\"#b8e186\"],[0.8,\"#7fbc41\"],[0.9,\"#4d9221\"],[1,\"#276419\"]]},\"xaxis\":{\"gridcolor\":\"white\",\"linecolor\":\"white\",\"ticks\":\"\",\"title\":{\"standoff\":15},\"zerolinecolor\":\"white\",\"automargin\":true,\"zerolinewidth\":2},\"yaxis\":{\"gridcolor\":\"white\",\"linecolor\":\"white\",\"ticks\":\"\",\"title\":{\"standoff\":15},\"zerolinecolor\":\"white\",\"automargin\":true,\"zerolinewidth\":2},\"scene\":{\"xaxis\":{\"backgroundcolor\":\"#E5ECF6\",\"gridcolor\":\"white\",\"linecolor\":\"white\",\"showbackground\":true,\"ticks\":\"\",\"zerolinecolor\":\"white\",\"gridwidth\":2},\"yaxis\":{\"backgroundcolor\":\"#E5ECF6\",\"gridcolor\":\"white\",\"linecolor\":\"white\",\"showbackground\":true,\"ticks\":\"\",\"zerolinecolor\":\"white\",\"gridwidth\":2},\"zaxis\":{\"backgroundcolor\":\"#E5ECF6\",\"gridcolor\":\"white\",\"linecolor\":\"white\",\"showbackground\":true,\"ticks\":\"\",\"zerolinecolor\":\"white\",\"gridwidth\":2}},\"shapedefaults\":{\"line\":{\"color\":\"#2a3f5f\"}},\"annotationdefaults\":{\"arrowcolor\":\"#2a3f5f\",\"arrowhead\":0,\"arrowwidth\":1},\"geo\":{\"bgcolor\":\"white\",\"landcolor\":\"#E5ECF6\",\"subunitcolor\":\"white\",\"showland\":true,\"showlakes\":true,\"lakecolor\":\"white\"},\"title\":{\"x\":0.05},\"mapbox\":{\"style\":\"light\"}}}},                        {\"responsive\": true}                    )                };                            </script>        </div>"
            ],
            "text/plain": [
              "Figure({\n",
              "    'data': [{'labels': array(['RECIFE', 'PAULISTA', 'JABOATAO DOS GUARARAPES', 'OLINDA', 'MORENO'],\n",
              "                              dtype=object),\n",
              "              'name': 'Licitações por cidade',\n",
              "              'type': 'pie',\n",
              "              'values': array([7037, 1075,  749,  575,  214])}],\n",
              "    'layout': {'template': '...'}\n",
              "})"
            ]
          },
          "execution_count": 8,
          "metadata": {},
          "output_type": "execute_result"
        }
      ],
      "source": [
        "# Criando o gráfico dos processos por cidade.\n",
        "graf_process_cidade2 = go.Figure(data=[go.Pie(labels=cincos_cidades_com_mais_process['cidade_endcontratado'], values=cincos_cidades_com_mais_process['count'], name=\"Licitações por cidade\")])\n",
        "graf_process_cidade2"
      ]
    },
    {
      "cell_type": "code",
      "execution_count": 9,
      "metadata": {
        "id": "QLViXxBJa6sz"
      },
      "outputs": [
        {
          "name": "stderr",
          "output_type": "stream",
          "text": [
            "C:\\Users\\dayvi\\AppData\\Local\\Temp\\ipykernel_21800\\1271465608.py:13: SettingWithCopyWarning:\n",
            "\n",
            "\n",
            "A value is trying to be set on a copy of a slice from a DataFrame.\n",
            "Try using .loc[row_indexer,col_indexer] = value instead\n",
            "\n",
            "See the caveats in the documentation: https://pandas.pydata.org/pandas-docs/stable/user_guide/indexing.html#returning-a-view-versus-a-copy\n",
            "\n"
          ]
        },
        {
          "data": {
            "text/html": [
              "<div>\n",
              "<style scoped>\n",
              "    .dataframe tbody tr th:only-of-type {\n",
              "        vertical-align: middle;\n",
              "    }\n",
              "\n",
              "    .dataframe tbody tr th {\n",
              "        vertical-align: top;\n",
              "    }\n",
              "\n",
              "    .dataframe thead th {\n",
              "        text-align: right;\n",
              "    }\n",
              "</style>\n",
              "<table border=\"1\" class=\"dataframe\">\n",
              "  <thead>\n",
              "    <tr style=\"text-align: right;\">\n",
              "      <th></th>\n",
              "      <th>comissao_licitacao</th>\n",
              "      <th>count</th>\n",
              "    </tr>\n",
              "  </thead>\n",
              "  <tbody>\n",
              "    <tr>\n",
              "      <th>0</th>\n",
              "      <td>CPLMSA</td>\n",
              "      <td>5850</td>\n",
              "    </tr>\n",
              "    <tr>\n",
              "      <th>1</th>\n",
              "      <td>CPLSSA</td>\n",
              "      <td>3129</td>\n",
              "    </tr>\n",
              "    <tr>\n",
              "      <th>2</th>\n",
              "      <td>CPLM</td>\n",
              "      <td>1459</td>\n",
              "    </tr>\n",
              "    <tr>\n",
              "      <th>3</th>\n",
              "      <td>EQUIPE DE PREGÃO - EMLURB</td>\n",
              "      <td>1272</td>\n",
              "    </tr>\n",
              "    <tr>\n",
              "      <th>4</th>\n",
              "      <td>COMISSÃO DE LICITAÇÃO - EMLURB</td>\n",
              "      <td>1147</td>\n",
              "    </tr>\n",
              "  </tbody>\n",
              "</table>\n",
              "</div>"
            ],
            "text/plain": [
              "               comissao_licitacao  count\n",
              "0                          CPLMSA   5850\n",
              "1                          CPLSSA   3129\n",
              "2                            CPLM   1459\n",
              "3       EQUIPE DE PREGÃO - EMLURB   1272\n",
              "4  COMISSÃO DE LICITAÇÃO - EMLURB   1147"
            ]
          },
          "execution_count": 9,
          "metadata": {},
          "output_type": "execute_result"
        }
      ],
      "source": [
        "# Transformando a filtragem sobre as 5 comissões que mais participaram de solicitações em dataframe.\n",
        "comissoes_licitantes= pd.DataFrame(base2[\"comissao_abreviado\"].value_counts())\n",
        "comissoes_licitantes.reset_index(inplace=True)\n",
        "comissoes_licitantes.columns = ['comissao_licitacao', 'count']\n",
        "comissoes_value=[\n",
        "    \"CPLMSA\",\n",
        "    \"CPLSSA\",\n",
        "    \"CPLM\",\n",
        "    \"EQUIPE DE PREGÃO - EMLURB\",\n",
        "    \"COMISSÃO DE LICITAÇÃO - EMLURB\"\n",
        "]\n",
        "cinco_mais_comissoes=comissoes_licitantes.iloc[0:5]\n",
        "cinco_mais_comissoes['comissao_licitacao'] = comissoes_value\n",
        "cinco_mais_comissoes\n",
        "\n"
      ]
    },
    {
      "cell_type": "code",
      "execution_count": 10,
      "metadata": {
        "id": "w5npbPQheV4I"
      },
      "outputs": [],
      "source": [
        "# Criando gráfico das 5 comissões que mais participaram de licitações.\n",
        "graf_comissoes_licitantes=px.bar(cinco_mais_comissoes, x=\"comissao_licitacao\", y=\"count\", labels={\n",
        "                     \"comissao_licitacao\": \"Comissão\",\n",
        "                     \"count\": \"Quantidade\"}, barmode=\"group\", title=\"Quantidade de processos por comissão.\")"
      ]
    },
    {
      "cell_type": "code",
      "execution_count": 11,
      "metadata": {
        "id": "MnNCPFOojEQ2"
      },
      "outputs": [
        {
          "name": "stderr",
          "output_type": "stream",
          "text": [
            "C:\\Users\\dayvi\\AppData\\Local\\Temp\\ipykernel_21800\\1032816369.py:12: SettingWithCopyWarning:\n",
            "\n",
            "\n",
            "A value is trying to be set on a copy of a slice from a DataFrame.\n",
            "Try using .loc[row_indexer,col_indexer] = value instead\n",
            "\n",
            "See the caveats in the documentation: https://pandas.pydata.org/pandas-docs/stable/user_guide/indexing.html#returning-a-view-versus-a-copy\n",
            "\n"
          ]
        },
        {
          "data": {
            "text/html": [
              "<div>\n",
              "<style scoped>\n",
              "    .dataframe tbody tr th:only-of-type {\n",
              "        vertical-align: middle;\n",
              "    }\n",
              "\n",
              "    .dataframe tbody tr th {\n",
              "        vertical-align: top;\n",
              "    }\n",
              "\n",
              "    .dataframe thead th {\n",
              "        text-align: right;\n",
              "    }\n",
              "</style>\n",
              "<table border=\"1\" class=\"dataframe\">\n",
              "  <thead>\n",
              "    <tr style=\"text-align: right;\">\n",
              "      <th></th>\n",
              "      <th>orgao_licitante</th>\n",
              "      <th>count</th>\n",
              "    </tr>\n",
              "  </thead>\n",
              "  <tbody>\n",
              "    <tr>\n",
              "      <th>0</th>\n",
              "      <td>FUNDO MUN. DE SAÚDE</td>\n",
              "      <td>10284</td>\n",
              "    </tr>\n",
              "    <tr>\n",
              "      <th>1</th>\n",
              "      <td>EMLURB</td>\n",
              "      <td>2425</td>\n",
              "    </tr>\n",
              "    <tr>\n",
              "      <th>2</th>\n",
              "      <td>FUNDAÇÃO DE CULTURA</td>\n",
              "      <td>1139</td>\n",
              "    </tr>\n",
              "    <tr>\n",
              "      <th>3</th>\n",
              "      <td>SEC. DE EDUCAÇÃO</td>\n",
              "      <td>966</td>\n",
              "    </tr>\n",
              "    <tr>\n",
              "      <th>4</th>\n",
              "      <td>FMAS</td>\n",
              "      <td>862</td>\n",
              "    </tr>\n",
              "  </tbody>\n",
              "</table>\n",
              "</div>"
            ],
            "text/plain": [
              "       orgao_licitante  count\n",
              "0  FUNDO MUN. DE SAÚDE  10284\n",
              "1               EMLURB   2425\n",
              "2  FUNDAÇÃO DE CULTURA   1139\n",
              "3     SEC. DE EDUCAÇÃO    966\n",
              "4                 FMAS    862"
            ]
          },
          "execution_count": 11,
          "metadata": {},
          "output_type": "execute_result"
        }
      ],
      "source": [
        "freq_orgao_licitantes=pd.DataFrame(base2['orgao_abreviado'].value_counts())\n",
        "freq_orgao_licitantes.reset_index(inplace=True)\n",
        "freq_orgao_licitantes.columns = ['orgao_licitante', 'count']\n",
        "orgao_values = [\n",
        "    \"FUNDO MUN. DE SAÚDE\",\n",
        "    \"EMLURB\",\n",
        "    \"FUNDAÇÃO DE CULTURA\",\n",
        "    \"SEC. DE EDUCAÇÃO\",\n",
        "    \"FMAS\"\n",
        "]\n",
        "cinco_mais_orgaos=freq_orgao_licitantes.iloc[0:5]\n",
        "cinco_mais_orgaos['orgao_licitante'] = orgao_values\n",
        "cinco_mais_orgaos"
      ]
    },
    {
      "cell_type": "code",
      "execution_count": 12,
      "metadata": {
        "id": "HLnkk2h4l7Ah"
      },
      "outputs": [],
      "source": [
        "# Criando gráfico dos 5 orgãos que mais participaram de licitações.\n",
        "graf_orgao_licitantes=px.bar(cinco_mais_orgaos, x=\"orgao_licitante\", y=\"count\", labels={\n",
        "                     \"orgao_licitante\": \"Orgão\",\n",
        "                     \"count\": \"Quantidade\"}, barmode=\"group\", title=\"Quantidade de processos por orgão.\")"
      ]
    },
    {
      "cell_type": "code",
      "execution_count": 13,
      "metadata": {
        "id": "2EsmvAuD0eXp"
      },
      "outputs": [],
      "source": [
        "# Transformando a filtragem sobre os 5 objetos que mais participaram de solicitações em dataframe.\n",
        "freq_objeto=pd.DataFrame(base2[\"objeto_abreviado\"].value_counts().head(5))\n",
        "freq_objeto.reset_index(inplace=True)\n",
        "freq_objeto.columns = ['objeto', 'count']\n",
        "\n",
        "objeto_values = [\n",
        "    \"AQUISICAO DE MATERIAL HOSPITALAR\",\n",
        "    \"AQUISIÇÃO DE MEDICAMENTOS\",\n",
        "    \"REGISTRO DE PREÇO DE MATERIAL HOSPITALAR\",\n",
        "    \"REGISTRO DE PREÇO DE MATERIAIS ELÉTRICOS\",\n",
        "    \"REGISTRO DE PREÇOS PARA AQUISIÇÃO DE MEDICAMENTOS\"\n",
        "]\n",
        "\n",
        "\n",
        "freq_objeto['objeto'] = objeto_values\n",
        "freq_objeto['contador'] = freq_objeto.index"
      ]
    },
    {
      "cell_type": "code",
      "execution_count": 14,
      "metadata": {
        "id": "ny6gW-5P54L8"
      },
      "outputs": [],
      "source": [
        "# Criando o Gráfico de objetos que mais participaram de licitações.\n",
        "graf_objeto=px.bar(freq_objeto, x=\"objeto\", y=\"count\", labels={\n",
        "                     \"objeto\": \"Objeto\",\n",
        "                     \"count\": \"Quantidade\"}, barmode=\"group\", title=\"Quantidade de licitações por objeto.\")"
      ]
    },
    {
      "cell_type": "code",
      "execution_count": 15,
      "metadata": {
        "id": "Ff59fpNor1v4"
      },
      "outputs": [],
      "source": [
        "# Transformando a filtragem sobre os 5 valores homologados que mais participaram de solicitações em dataframe.\n",
        "freq_val_homologados=pd.DataFrame(base[\"valor_totalhomologadolicitacao\"].value_counts().head(5))\n",
        "freq_val_homologados.reset_index(inplace=True)\n",
        "freq_val_homologados.columns = ['valor_totalhomologadolicitacao', 'count']\n",
        "\n"
      ]
    },
    {
      "cell_type": "code",
      "execution_count": null,
      "metadata": {
        "id": "DiafwbXzu_Hb"
      },
      "outputs": [],
      "source": [
        "# Criando o Gráfico de valores Homologados que mais participaram de licitações.\n",
        "graf_valor_homolog = go.Figure(data=[go.Bar(x=freq_val_homologados[\"valor_totalhomologadolicitacao\"], y=freq_val_homologados[\"count\"], name='Quantidade de licitações homologadas')])\n",
        "graf_valor_homolog.update_layout(title='Frequência de valores homologados', xaxis_title='Valor homologado', yaxis_title='Quantidade',template=\"plotly_dark\")\n",
        "\n",
        "\n",
        "\n"
      ]
    },
    {
      "cell_type": "code",
      "execution_count": 17,
      "metadata": {
        "id": "Sn8QPSwM1TjM"
      },
      "outputs": [],
      "source": [
        "# Transformando a filtragem sobre os 5 valores por lote que mais participaram de licitações em dataframe.\n",
        "freq_val_lote=pd.DataFrame(base[\"valor_licitacao_lote\"].value_counts().head(5))\n",
        "freq_val_lote.reset_index(inplace=True)\n",
        "freq_val_lote.columns = ['valor_licitacao_lote', 'count']\n",
        "\n"
      ]
    },
    {
      "cell_type": "code",
      "execution_count": null,
      "metadata": {
        "id": "8cQmkzPW2EO8"
      },
      "outputs": [],
      "source": [
        "# Criando o Gráfico de licitações por lote.\n",
        "graf_valor_lote = go.Figure(data=[go.Bar(x=freq_val_lote[\"valor_licitacao_lote\"], y=freq_val_lote[\"count\"], name='Quantidade de licitações por lote')])\n",
        "\n",
        "\n",
        "graf_valor_lote.update_layout(title='Frequência de valores de licitação por lote', xaxis_title='Valor por lote', yaxis_title='Quantidade',template=\"plotly_dark\")"
      ]
    },
    {
      "cell_type": "code",
      "execution_count": 19,
      "metadata": {
        "id": "a3cV_2zQx3oe"
      },
      "outputs": [],
      "source": [
        "lista_grafico = [{'id_grafico':'grafico-processos-por-estado','df':cinco_mais_estados, 'x_grafico':'uf_endcontratado',\n",
        "             'y_grafico':'count', 'label1':'Estado', 'label2':'Quantidade','titulo':\"Processos licitatórios por estado.\"},\n",
        "             {'id_grafico':'grafico-processos-pe-por-cidade','df':cincos_cidades_com_mais_process, 'x_grafico':'cidade_endcontratado',\n",
        "             'y_grafico':'count', 'label1':'Cidade', 'label2':'Quantidade','titulo':\"Processos licitatórios por cidade.\"},\n",
        "\n",
        "            {'id_grafico':'grafico-comissao-licitacao','df':cinco_mais_comissoes, 'x_grafico':'comissao_licitacao',\n",
        "             'y_grafico':'count', 'label1':'Comissão', 'label2':'Quantidade','titulo':\"Processos licitatórios por comissão.\"},\n",
        "\n",
        "            {'id_grafico':'grafico-orgao-licitante','df':cinco_mais_orgaos,'x_grafico':'orgao_licitante','y_grafico':'count',\n",
        "             'label1':'Orgão','label2':'Quantidade','titulo':\"Processos licitatórios por orgão.\"},\n",
        "\n",
        "             {'id_grafico':'grafico-objeto','df':freq_objeto,'x_grafico':'objeto',\n",
        "             'y_grafico':'count', 'label1':'objeto', 'label2':'Quantidade','titulo':\"Processos licitatórios por objeto.\"},\n",
        "           ]"
      ]
    },
    {
      "cell_type": "code",
      "execution_count": 20,
      "metadata": {
        "colab": {
          "base_uri": "https://localhost:8080/",
          "height": 53
        },
        "id": "fDA0aYffR3sD",
        "outputId": "393401ee-197b-4374-aab0-131ce149d874"
      },
      "outputs": [
        {
          "name": "stdout",
          "output_type": "stream",
          "text": [
            "Dash app running on http://127.0.0.1:8050/\n"
          ]
        }
      ],
      "source": [
        "\n",
        "app= Dash(__name__)\n",
        "\n",
        "opcoes=[{'label': 'Processos de Licitação por Estado', 'value': 'grafico-processos-por-estado'},\n",
        "        {'label': 'Processos de Licitação em Pernambuco', 'value': 'grafico-processos-pe-por-cidade'},\n",
        "        {'label': 'Comissões que participaram de Licitação', 'value': 'grafico-comissao-licitacao'},\n",
        "        {'label': 'Orgãos que participaram de licitação', 'value': 'grafico-orgao-licitante'},\n",
        "        {'label': 'Objetos que participaram de licitação', 'value': 'grafico-objeto'},]\n",
        "\n",
        "\n",
        "\n",
        "opcoes.append({'label': 'Análise das Licitações.', 'value': 'todos_os_graficos'})\n",
        "\n",
        "\n",
        "app.layout=html.Div(children=[\n",
        "\n",
        "        html.Div([\n",
        "            html.H1(id=\"texto_principal\", children=\"Processos de Licitação no Estado de Pernambuco\"),\n",
        "        html.A([\n",
        "      html.Button(\"analise de dados\",style={'border':'none','border':'solid','cursor':'pointer','color':'white','padding':'1rem','backgroundColor':'rgb( 63 63 70)'}),\n",
        "   ],href=\"#grafico_s\",target=\"_self\"),\n",
        "    html.A([\n",
        "        html.Button(\"valores por lote\",style={'border':'none','border':'solid','cursor':'pointer','color':'white','padding':'1rem','backgroundColor':'rgb( 63 63 70)'}),\n",
        "    ],href=\"#valor_lote\",target=\"_self\"),\n",
        "    html.A([\n",
        "        html.Button(\"valores homologados\",style={'border':'none','border':'solid','cursor':'pointer','color':'white','padding':'1rem','backgroundColor':'rgb( 63 63 70)'}),\n",
        "    ],href=\"#valor_homolog\",target=\"_self\"),\n",
        "    ],style={'display':'flex','flex':'column','alignItems':'center','justifyContent':'space-around'}),\n",
        "    html.Div([\n",
        "      html.H3(children=\"O presente dashboard faz uma análise dos processos licitatórios, visto que as licitações ocorrem em sua maioria no seu próprio estado.\"),\n",
        "      html.H3(children=\"Foram abordados os seguintes pontos: a quantidade de licitações por cidades, comissão, orgãos e objetos.\"),\n",
        "    ],style={'textAlign':'center','marginTop':'5rem'}),\n",
        "\n",
        "    dcc.Dropdown(opcoes,'todos_os_graficos', id='drop_down',style={'width':'50vw','color':'black','margin':'auto','marginTop':'5rem'}),\n",
        "\n",
        "        dcc.Graph(id= \"grafico_s\"),\n",
        "\n",
        "        html.H3(children=\"Outro tópico abordado, foi os processos licitátorios por lote, observando a frequência foi constatado os valores que tiveram maior constância sendo assim, entende-se os padrões de comportamento das licitações por lote\",style={'textAlign':'center','marginTop':'5rem'}),\n",
        "\n",
        "        dcc.Graph(id=\"valor_lote\",figure=graf_valor_lote),\n",
        "\n",
        "        html.H3(children=\"Análise estátistica dos válores por lote homologados:\"),\n",
        "\n",
        "        html.Div([html.P(children=\"Moda:\"+str(round(base['valor_licitacao_lote'].mode()[0],2)),style={'border':'solid','borderRadius':'15px','padding':'1rem'}),\n",
        "\n",
        "        html.P(children=\"Média:\"+str(round(base['valor_licitacao_lote'].mean(),2)),style={'border':'solid','borderRadius':'15px','padding':'1rem'}),\n",
        "\n",
        "        html.P(children=\"Mediana:\"+str(round(base['valor_licitacao_lote'].median(),2)),style={'border':'solid','borderRadius':'15px','padding':'1rem'}),\n",
        "\n",
        "        html.P(children=\"Desvio Padrão:\"+str(round(base['valor_licitacao_lote'].std(),2)),style={'border':'solid','borderRadius':'15px','padding':'1rem'}),\n",
        "\n",
        "        html.P(children=\"Variância:\"+str(round(base['valor_licitacao_lote'].var(),2)),style={'border':'solid','borderRadius':'15px','padding':'1rem'}),\n",
        "\n",
        "        html.Div([html.P(children=\"Assimetria: Positiva, indicando uma cauda mais longa ou mais espessa à direita.\"),\n",
        "        html.P(children=\"Assimetria:\"+str(round(base['valor_licitacao_lote'].skew(),2)))],style={'border':'solid','borderRadius':'15px','padding':'1rem'}),\n",
        "\n",
        "\n",
        "        html.Div([html.P(children=\"Curtose: Leptocúrtica,pois tem um excesso de curtose positiva.\"),\n",
        "        html.P(children=\"Curtose:\"+str(round(base['valor_licitacao_lote'].kurtosis(),2)))],style={'border':'solid','borderRadius':'15px','padding':'1rem'}),\n",
        "\n",
        "        ],style={'display':'flex','flexDirection':'row','flexWrap':'wrap','justifyContent':'center','alignItems':'center','gap':'1rem'}),\n",
        "\n",
        "\n",
        "        html.H3(children=\"Outro ponto foram os valores totais homologados onde foi analisado que a grande maioria dos valores que foram homologados tinham seus valores entre 47 E 48 milhões de reais.\",style={'textAlign':'center','marginTop':'8rem'}),\n",
        "\n",
        "        dcc.Graph(id=\"valor_homolog\",figure=graf_valor_homolog),\n",
        "\n",
        "        html.H3(children=\"Análise estatistica dos valores totais homologados:\"),\n",
        "\n",
        "        html.Div([\n",
        "\n",
        "\n",
        "        html.P(children=\"Moda:\"+str(round(base['valor_totalhomologadolicitacao'].mode()[0],2)),style={'border':'solid','borderRadius':'15px','padding':'1rem'}),\n",
        "\n",
        "        html.P(children=\"Média:\"+str(round(base['valor_totalhomologadolicitacao'].mean(),2)),style={'border':'solid','borderRadius':'15px','padding':'1rem'}),\n",
        "\n",
        "        html.P(children=\"Mediana:\"+str(round(base['valor_totalhomologadolicitacao'].median(),2)),style={'border':'solid','borderRadius':'15px','padding':'1rem'}),\n",
        "\n",
        "        html.P(children=\"Desvio Padrão:\"+str(round(base['valor_totalhomologadolicitacao'].std(),2)),style={'border':'solid','borderRadius':'15px','padding':'1rem'}),\n",
        "\n",
        "        html.P(children=\"Variância:\"+str(round(base['valor_totalhomologadolicitacao'].var(),2)),style={'border':'solid','borderRadius':'15px','padding':'1rem'}),\n",
        "\n",
        "        html.Div(\n",
        "            [\n",
        "        html.P(children=\"Assimetria: Positiva, indicando uma cauda mais longa ou mais espessa à direita.\"),\n",
        "        html.P(children=\"Assimetria:\"+str(round(base['valor_totalhomologadolicitacao'].skew(),2)))\n",
        "        ],style={'border':'solid','borderRadius':'15px','padding':'1rem'}\n",
        "                 ),\n",
        "\n",
        "        html.Div([\n",
        "        html.P(children=\"Curtose: Leptocúrtica,pois tem um excesso de curtose positiva.\"),\n",
        "        html.P(children=\"Curtose:\"+str(round(base['valor_totalhomologadolicitacao'].kurtosis(),2)))]\n",
        "                 ,style={'border':'solid','borderRadius':'15px','padding':'1rem'})\n",
        "        ],style={'display':'flex','flexDirection':'row','flexWrap':'wrap','justifyContent':'center','alignItems':'center','gap':'1rem','paddingBottom':'2rem'}\n",
        "\n",
        "                 ),\n",
        "\n",
        "\n",
        "],style={'color':'white','backgroundColor':'rgb(24 24 27)'})\n",
        "\n",
        "\n",
        "@app.callback(\n",
        "    Output('grafico_s', 'figure'),\n",
        "    Input('drop_down', 'value')\n",
        ")\n",
        "def update_output(value):\n",
        "    if value == 'todos_os_graficos':\n",
        "        specs = [[{'type':'domain'},{'type':'domain'}],\n",
        "                [{'type':'bar'}, {'type':'bar'}],\n",
        "                [{\"colspan\": 2}, None]]\n",
        "\n",
        "        fig = make_subplots(rows=3, cols=2, specs=specs, horizontal_spacing=0.25,subplot_titles=(\"Porcentagem de processos por Estado:\",\n",
        "                                                                                                 \"Porcentagem de processos por cidade:\",\n",
        "                                                                                                \"Quantidade de processos por comissão:\",\n",
        "                                                                         \"Quantidade de processos por orgão:\",\n",
        "                                                                         \"Quantidade de processos por objeto:\"))\n",
        "        fig.add_trace(go.Pie(labels=cinco_mais_estados['uf_endcontratado'],\n",
        "                             textinfo='label+percent',\n",
        "                             insidetextorientation='radial',\n",
        "                             values=cinco_mais_estados['count'],\n",
        "                             marker=dict(colors=['#1f77b4', '#ff7f0e', '#2ca02c', '#d62728', '#9467bd'],\n",
        "                             line=dict(color='#000000', width=2))),\n",
        "                             row=1,col=1)\n",
        "\n",
        "\n",
        "        fig.add_trace(go.Pie(labels=cincos_cidades_com_mais_process['cidade_endcontratado'],\n",
        "                             textinfo='label+percent',\n",
        "                             insidetextorientation='radial',\n",
        "                             values=cincos_cidades_com_mais_process['count'],\n",
        "                             marker=dict(colors=['#1f77b4', '#ff7f0e', '#2ca02c', '#d62728', '#9467bd'],\n",
        "                                         line=dict(color='#000000', width=2))),\n",
        "                      row=1, col=2)\n",
        "\n",
        "\n",
        "        fig.add_trace(go.Bar(x=cinco_mais_comissoes['count'],\n",
        "                             y=cinco_mais_comissoes['comissao_licitacao'],\n",
        "                             orientation='h',\n",
        "                             name=\"Quantidade de processos por comissão\"),\n",
        "                      row=2, col=1)\n",
        "\n",
        "        fig.add_trace(go.Bar(x=cinco_mais_orgaos['count'],\n",
        "                             y=cinco_mais_orgaos['orgao_licitante'],\n",
        "                             orientation='h',\n",
        "                             name=\"Quantidade de processos por orgão\"),\n",
        "                      row=2, col=2)\n",
        "\n",
        "        fig.add_trace(go.Bar(x=freq_objeto['count'],\n",
        "                             y=freq_objeto['objeto'],\n",
        "                             orientation='h',\n",
        "                             name=\"Quantidade de processos por objeto\"),\n",
        "                      row=3, col=1)\n",
        "\n",
        "\n",
        "        fig.update_layout(showlegend=False,\n",
        "                          title_text=\"Processos Licitatórios:\",\n",
        "                          margin=dict(l=10, r=10, t=70, b=20),\n",
        "                          template=\"plotly_dark\",\n",
        "                          height=1080,\n",
        "                          xaxis1=dict(autorange='reversed'),\n",
        "                          xaxis2=dict(autorange='reversed'),\n",
        "                          xaxis3=dict(autorange='reversed'),\n",
        "                          xaxis4=dict(autorange='reversed'),\n",
        "                          xaxis5=dict(autorange='reversed'),\n",
        "                          yaxis1=dict(side='right'),\n",
        "                          yaxis2=dict(side='right'),\n",
        "                          yaxis3=dict(side='right'),\n",
        "                          yaxis4=dict(side='right'),\n",
        "                          yaxis5=dict(side='right')\n",
        "                          )\n",
        "\n",
        "\n",
        "        return fig\n",
        "\n",
        "    else:\n",
        "        for i in lista_grafico:\n",
        "            if i['id_grafico'] == value:\n",
        "                fig = go.Figure(data=[\n",
        "                    go.Bar(x=i['df'][i['x_grafico']], y=i['df'][i['y_grafico']],\n",
        "                           )\n",
        "                ])\n",
        "                fig.update_layout(title=i['titulo'],\n",
        "                                  xaxis_title=i['label1'],\n",
        "                                  yaxis_title=i['label2'],\n",
        "                                  template=\"plotly_dark\",\n",
        "                                  height=400,\n",
        "                                  )\n",
        "                return fig\n",
        "\n",
        "\n",
        "if __name__=='__main__':\n",
        "    app.run(jupyter_mode=\"external\")"
      ]
    }
  ],
  "metadata": {
    "colab": {
      "include_colab_link": true,
      "provenance": []
    },
    "kernelspec": {
      "display_name": "Python 3",
      "name": "python3"
    },
    "language_info": {
      "codemirror_mode": {
        "name": "ipython",
        "version": 3
      },
      "file_extension": ".py",
      "mimetype": "text/x-python",
      "name": "python",
      "nbconvert_exporter": "python",
      "pygments_lexer": "ipython3",
      "version": "3.11.5"
    }
  },
  "nbformat": 4,
  "nbformat_minor": 0
}

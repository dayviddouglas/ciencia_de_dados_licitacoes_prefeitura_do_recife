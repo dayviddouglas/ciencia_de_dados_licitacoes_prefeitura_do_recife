{
  "cells": [
    {
      "cell_type": "markdown",
      "metadata": {
        "id": "view-in-github",
        "colab_type": "text"
      },
      "source": [
        "<a href=\"https://colab.research.google.com/github/dayviddouglas/ciencia_de_dados_licitacoes_prefeitura_do_recife/blob/test/Licita%C3%A7%C3%B5es.ipynb\" target=\"_parent\"><img src=\"https://colab.research.google.com/assets/colab-badge.svg\" alt=\"Open In Colab\"/></a>"
      ]
    },
    {
      "cell_type": "markdown",
      "metadata": {
        "id": "Lri5UtolB2E_"
      },
      "source": [
        "# Importa as bibliotecas faz uma requisição do dataset e define o encoding para utf-8 case não consiga executar a requisição retorna um erro"
      ]
    },
    {
      "cell_type": "code",
      "execution_count": 1,
      "metadata": {
        "id": "PltFerwTbRTV",
        "metadata": {},
        "outputId": "d9176f93-5c28-40e8-be58-0be827644808",
        "colab": {
          "base_uri": "https://localhost:8080/",
          "height": 373
        }
      },
      "outputs": [
        {
          "output_type": "error",
          "ename": "ValueError",
          "evalue": "mount failed",
          "traceback": [
            "\u001b[0;31m---------------------------------------------------------------------------\u001b[0m",
            "\u001b[0;31mValueError\u001b[0m                                Traceback (most recent call last)",
            "\u001b[0;32m<ipython-input-1-12b69b1036c1>\u001b[0m in \u001b[0;36m<cell line: 7>\u001b[0;34m()\u001b[0m\n\u001b[1;32m      5\u001b[0m \u001b[0;32mimport\u001b[0m \u001b[0mmatplotlib\u001b[0m\u001b[0;34m.\u001b[0m\u001b[0mpyplot\u001b[0m \u001b[0;32mas\u001b[0m \u001b[0mplt\u001b[0m\u001b[0;34m\u001b[0m\u001b[0;34m\u001b[0m\u001b[0m\n\u001b[1;32m      6\u001b[0m \u001b[0;32mfrom\u001b[0m \u001b[0mgoogle\u001b[0m\u001b[0;34m.\u001b[0m\u001b[0mcolab\u001b[0m \u001b[0;32mimport\u001b[0m \u001b[0mdrive\u001b[0m\u001b[0;34m\u001b[0m\u001b[0;34m\u001b[0m\u001b[0m\n\u001b[0;32m----> 7\u001b[0;31m \u001b[0mdrive\u001b[0m\u001b[0;34m.\u001b[0m\u001b[0mmount\u001b[0m\u001b[0;34m(\u001b[0m\u001b[0;34m'/content/drive'\u001b[0m\u001b[0;34m)\u001b[0m\u001b[0;34m\u001b[0m\u001b[0;34m\u001b[0m\u001b[0m\n\u001b[0m\u001b[1;32m      8\u001b[0m \u001b[0;34m\u001b[0m\u001b[0m\n\u001b[1;32m      9\u001b[0m \u001b[0murl\u001b[0m \u001b[0;34m=\u001b[0m  \u001b[0;34m\"http://dados.recife.pe.gov.br/dataset/591a6ed4-7beb-4304-a2a1-2af521517a06/resource/c5d7505c-381c-4670-a0c2-1fbf56df50b1/download/dados_abertos_licitacao_concluida.csv\"\u001b[0m\u001b[0;34m\u001b[0m\u001b[0;34m\u001b[0m\u001b[0m\n",
            "\u001b[0;32m/usr/local/lib/python3.10/dist-packages/google/colab/drive.py\u001b[0m in \u001b[0;36mmount\u001b[0;34m(mountpoint, force_remount, timeout_ms, readonly)\u001b[0m\n\u001b[1;32m     98\u001b[0m \u001b[0;32mdef\u001b[0m \u001b[0mmount\u001b[0m\u001b[0;34m(\u001b[0m\u001b[0mmountpoint\u001b[0m\u001b[0;34m,\u001b[0m \u001b[0mforce_remount\u001b[0m\u001b[0;34m=\u001b[0m\u001b[0;32mFalse\u001b[0m\u001b[0;34m,\u001b[0m \u001b[0mtimeout_ms\u001b[0m\u001b[0;34m=\u001b[0m\u001b[0;36m120000\u001b[0m\u001b[0;34m,\u001b[0m \u001b[0mreadonly\u001b[0m\u001b[0;34m=\u001b[0m\u001b[0;32mFalse\u001b[0m\u001b[0;34m)\u001b[0m\u001b[0;34m:\u001b[0m\u001b[0;34m\u001b[0m\u001b[0;34m\u001b[0m\u001b[0m\n\u001b[1;32m     99\u001b[0m   \u001b[0;34m\"\"\"Mount your Google Drive at the specified mountpoint path.\"\"\"\u001b[0m\u001b[0;34m\u001b[0m\u001b[0;34m\u001b[0m\u001b[0m\n\u001b[0;32m--> 100\u001b[0;31m   return _mount(\n\u001b[0m\u001b[1;32m    101\u001b[0m       \u001b[0mmountpoint\u001b[0m\u001b[0;34m,\u001b[0m\u001b[0;34m\u001b[0m\u001b[0;34m\u001b[0m\u001b[0m\n\u001b[1;32m    102\u001b[0m       \u001b[0mforce_remount\u001b[0m\u001b[0;34m=\u001b[0m\u001b[0mforce_remount\u001b[0m\u001b[0;34m,\u001b[0m\u001b[0;34m\u001b[0m\u001b[0;34m\u001b[0m\u001b[0m\n",
            "\u001b[0;32m/usr/local/lib/python3.10/dist-packages/google/colab/drive.py\u001b[0m in \u001b[0;36m_mount\u001b[0;34m(mountpoint, force_remount, timeout_ms, ephemeral, readonly)\u001b[0m\n\u001b[1;32m    280\u001b[0m             \u001b[0;34m'https://research.google.com/colaboratory/faq.html#drive-timeout'\u001b[0m\u001b[0;34m\u001b[0m\u001b[0;34m\u001b[0m\u001b[0m\n\u001b[1;32m    281\u001b[0m         )\n\u001b[0;32m--> 282\u001b[0;31m       \u001b[0;32mraise\u001b[0m \u001b[0mValueError\u001b[0m\u001b[0;34m(\u001b[0m\u001b[0;34m'mount failed'\u001b[0m \u001b[0;34m+\u001b[0m \u001b[0mextra_reason\u001b[0m\u001b[0;34m)\u001b[0m\u001b[0;34m\u001b[0m\u001b[0;34m\u001b[0m\u001b[0m\n\u001b[0m\u001b[1;32m    283\u001b[0m     \u001b[0;32melif\u001b[0m \u001b[0mcase\u001b[0m \u001b[0;34m==\u001b[0m \u001b[0;36m4\u001b[0m\u001b[0;34m:\u001b[0m\u001b[0;34m\u001b[0m\u001b[0;34m\u001b[0m\u001b[0m\n\u001b[1;32m    284\u001b[0m       \u001b[0;31m# Terminate the DriveFS binary before killing bash.\u001b[0m\u001b[0;34m\u001b[0m\u001b[0;34m\u001b[0m\u001b[0m\n",
            "\u001b[0;31mValueError\u001b[0m: mount failed"
          ]
        }
      ],
      "source": [
        "import pandas as pd\n",
        "import requests as req\n",
        "from io import StringIO\n",
        "import urllib\n",
        "import matplotlib.pyplot as plt\n",
        "from google.colab import drive\n",
        "drive.mount('/content/drive')\n",
        "\n",
        "url =  \"http://dados.recife.pe.gov.br/dataset/591a6ed4-7beb-4304-a2a1-2af521517a06/resource/c5d7505c-381c-4670-a0c2-1fbf56df50b1/download/dados_abertos_licitacao_concluida.csv\"\n",
        "\n",
        "try:\n",
        "    response = req.get(url)\n",
        "    response.encoding = 'utf-8'\n",
        "    response.raise_for_status()  # Lança um erro para respostas não-sucedidas\n",
        "    # Usando StringIO para converter o texto em um arquivo em memória e, então, lendo com o Pandas\n",
        "    csv_raw = StringIO(response.text)\n",
        "    base = pd.read_csv(csv_raw, sep=';', encoding='utf-8')\n",
        "\n",
        "\n",
        "\n",
        "except req.RequestException as e:\n",
        "    print(f\"Erro ao acessar o arquivo: {e}\")\n"
      ]
    },
    {
      "cell_type": "markdown",
      "metadata": {
        "id": "5tv5y8KxbnFE"
      },
      "source": [
        "# Lê o cabeçalho"
      ]
    },
    {
      "cell_type": "code",
      "execution_count": null,
      "metadata": {
        "id": "eD5Kier4bZPq"
      },
      "outputs": [],
      "source": [
        "base.head(3)"
      ]
    },
    {
      "cell_type": "markdown",
      "metadata": {
        "id": "s7WwiyHmopay"
      },
      "source": [
        "# Informações da base"
      ]
    },
    {
      "cell_type": "code",
      "execution_count": null,
      "metadata": {
        "id": "bjQDexdTcpWw"
      },
      "outputs": [],
      "source": [
        "base.info()"
      ]
    },
    {
      "cell_type": "markdown",
      "metadata": {
        "id": "DAFaG10pLUtd"
      },
      "source": [
        "# Corrigindo tipos das tabelas"
      ]
    },
    {
      "cell_type": "code",
      "execution_count": null,
      "metadata": {
        "id": "bpaDS7GwMScM"
      },
      "outputs": [],
      "source": [
        "base.num_endcontratado.dtypes"
      ]
    },
    {
      "cell_type": "code",
      "execution_count": null,
      "metadata": {
        "id": "E3L1PLOuK1IW"
      },
      "outputs": [],
      "source": [
        "base.data_ultimafaseprocesso.dtypes"
      ]
    },
    {
      "cell_type": "code",
      "execution_count": null,
      "metadata": {
        "id": "z4pL3BkDX1oF"
      },
      "outputs": [],
      "source": [
        "base.cpf_contratado.dtypes"
      ]
    },
    {
      "cell_type": "code",
      "execution_count": null,
      "metadata": {
        "id": "I_NjLf2ssV-3"
      },
      "outputs": [],
      "source": [
        "base['data_ultimafaseprocesso'] = pd.to_datetime(base['data_ultimafaseprocesso'])\n",
        "base['data_aberturaproposta'] = pd.to_datetime(base['data_aberturaproposta'])"
      ]
    },
    {
      "cell_type": "code",
      "execution_count": null,
      "metadata": {
        "id": "yB-5DDVNLX9e"
      },
      "outputs": [],
      "source": [
        "base['num_endcontratado'] = base['num_endcontratado'].round().astype('object')"
      ]
    },
    {
      "cell_type": "code",
      "execution_count": null,
      "metadata": {
        "id": "Dh-tpM-CYCni"
      },
      "outputs": [],
      "source": [
        "base['cpf_contratado'] = base['cpf_contratado'].astype('object')\n",
        "base['cnpj_contratado'] = base['cnpj_contratado'].astype('object')"
      ]
    },
    {
      "cell_type": "code",
      "execution_count": null,
      "metadata": {
        "id": "ieHp0vqUYh5S"
      },
      "outputs": [],
      "source": [
        "base['valor_total_estimado'] = base['valor_total_estimado'].str.replace(',', '.')\n",
        "base['valor_licitacao_lote'] = base['valor_licitacao_lote'].str.replace(',', '.')\n",
        "base['valor_totalhomologadolicitacao'] = base['valor_totalhomologadolicitacao'].str.replace(',', '.')\n",
        "base['valor_totalhomologadolicitacao'] = base['valor_totalhomologadolicitacao'].fillna(0)\n",
        "base['valor_total_estimado'] = base['valor_total_estimado'].astype('float')\n",
        "base['valor_totalhomologadolicitacao'] = base['valor_totalhomologadolicitacao'].astype('float')\n",
        "base['valor_licitacao_lote'] = base['valor_licitacao_lote'].astype('float')"
      ]
    },
    {
      "cell_type": "markdown",
      "metadata": {
        "id": "nlYb7F12onPB"
      },
      "source": [
        "# Valores nulos"
      ]
    },
    {
      "cell_type": "code",
      "execution_count": null,
      "metadata": {
        "id": "cJK6OUTzoSul"
      },
      "outputs": [],
      "source": [
        "base.isnull().sum()"
      ]
    },
    {
      "cell_type": "code",
      "execution_count": null,
      "metadata": {
        "id": "dDsR2abNIYyC"
      },
      "outputs": [],
      "source": [
        "base.isna().sum()"
      ]
    },
    {
      "cell_type": "code",
      "execution_count": null,
      "metadata": {
        "id": "n8fzqR1XIfmr"
      },
      "outputs": [],
      "source": [
        "base.duplicated()"
      ]
    },
    {
      "cell_type": "markdown",
      "metadata": {
        "id": "hw6nrBduCYi4"
      },
      "source": [
        "# corrigindo valores nulos nos endereços"
      ]
    },
    {
      "cell_type": "code",
      "execution_count": null,
      "metadata": {
        "id": "ughgWIXhTtFc"
      },
      "outputs": [],
      "source": [
        "base[base.logradouro_endcontratado.isnull()]"
      ]
    },
    {
      "cell_type": "code",
      "execution_count": null,
      "metadata": {
        "id": "DVhnmmqgeIHK"
      },
      "outputs": [],
      "source": [
        "base[base.bairro_endcontratado.isnull()]"
      ]
    },
    {
      "cell_type": "code",
      "execution_count": null,
      "metadata": {
        "id": "ZlxF08-kubaI"
      },
      "outputs": [],
      "source": [
        "base[base.uf_endcontratado.isnull()]"
      ]
    },
    {
      "cell_type": "code",
      "execution_count": null,
      "metadata": {
        "id": "mu6CFIcDNH16"
      },
      "outputs": [],
      "source": [
        "base['num_endcontratado'] = base['num_endcontratado'].fillna('S/N')"
      ]
    },
    {
      "cell_type": "code",
      "execution_count": null,
      "metadata": {
        "id": "tBdp6DV0Yc7h"
      },
      "outputs": [],
      "source": [
        "base['cpf_contratado'] = base['cpf_contratado'].fillna('Empresa')"
      ]
    },
    {
      "cell_type": "code",
      "execution_count": null,
      "metadata": {
        "id": "EoFbhsFRYlty"
      },
      "outputs": [],
      "source": [
        "base['cnpj_contratado'] = base['cnpj_contratado'].fillna('PF')"
      ]
    },
    {
      "cell_type": "code",
      "execution_count": null,
      "metadata": {
        "id": "YF_njRBNFpbx"
      },
      "outputs": [],
      "source": [
        "base[base.razao_nomecontratado == 'BECKMAN COULTER DO BRASIL LTDA']"
      ]
    },
    {
      "cell_type": "markdown",
      "metadata": {
        "id": "_bsRYeIfWcTn"
      },
      "source": [
        "Corrigindo empresa BECKMAN COULTER DO BRASIL LTDA"
      ]
    },
    {
      "cell_type": "code",
      "execution_count": null,
      "metadata": {
        "id": "pjBxGDbzJHeg"
      },
      "outputs": [],
      "source": [
        "base.loc[base['razao_nomecontratado'] == 'BECKMAN COULTER DO BRASIL LTDA', 'logradouro_endcontratado'] = 'Al. Rio Negro'"
      ]
    },
    {
      "cell_type": "code",
      "execution_count": null,
      "metadata": {
        "id": "EfV0QuQOKV9S"
      },
      "outputs": [],
      "source": [
        "base.loc[base['razao_nomecontratado'] == 'BECKMAN COULTER DO BRASIL LTDA', 'num_endcontratado'] = 500"
      ]
    },
    {
      "cell_type": "code",
      "execution_count": null,
      "metadata": {
        "id": "tgHgW-1DgbWS"
      },
      "outputs": [],
      "source": [
        "base.loc[base['razao_nomecontratado'] == 'BECKMAN COULTER DO BRASIL LTDA', 'comp_endcontratado'] = '15º andar'"
      ]
    },
    {
      "cell_type": "code",
      "execution_count": null,
      "metadata": {
        "id": "SbINzxF3pLbE"
      },
      "outputs": [],
      "source": [
        "base.loc[base['razao_nomecontratado'] == 'BECKMAN COULTER DO BRASIL LTDA', 'cidade_endcontratado'] = 'Barueri'"
      ]
    },
    {
      "cell_type": "code",
      "execution_count": null,
      "metadata": {
        "id": "zwsGjyWCpRcU"
      },
      "outputs": [],
      "source": [
        "base.loc[base['razao_nomecontratado'] == 'BECKMAN COULTER DO BRASIL LTDA', 'uf_endcontratado'] = 'SP'"
      ]
    },
    {
      "cell_type": "code",
      "execution_count": null,
      "metadata": {
        "id": "bCgmS5nrpahl"
      },
      "outputs": [],
      "source": [
        "base.loc[base['razao_nomecontratado'] == 'BECKMAN COULTER DO BRASIL LTDA', 'bairro_endcontratado'] = 'Alphaville Industrial'"
      ]
    },
    {
      "cell_type": "markdown",
      "metadata": {
        "id": "pjmcaefFWhu8"
      },
      "source": [
        "Corrigindo empresa FICAPOÇOS FIOS E CABOS LTDA."
      ]
    },
    {
      "cell_type": "markdown",
      "metadata": {
        "id": "ozFubTqclI_D"
      },
      "source": [
        "http://cnpj.info/10376365000179"
      ]
    },
    {
      "cell_type": "code",
      "execution_count": null,
      "metadata": {
        "id": "_1hyL3CFUSmY"
      },
      "outputs": [],
      "source": [
        "base[base.razao_nomecontratado == 'FICAPOÇOS FIOS E CABOS LTDA.']"
      ]
    },
    {
      "cell_type": "code",
      "execution_count": null,
      "metadata": {
        "id": "CPlF9A7UUnzf"
      },
      "outputs": [],
      "source": [
        "base.loc[base['razao_nomecontratado'] == 'FICAPOÇOS FIOS E CABOS LTDA.', 'logradouro_endcontratado'] = 'RUA UM'"
      ]
    },
    {
      "cell_type": "code",
      "execution_count": null,
      "metadata": {
        "id": "g7_iTKf9U4S2"
      },
      "outputs": [],
      "source": [
        "base.loc[base['razao_nomecontratado'] == 'FICAPOÇOS FIOS E CABOS LTDA.', 'bairro_endcontratado'] = 'DISTRITO INDUSTRIAL'"
      ]
    },
    {
      "cell_type": "code",
      "execution_count": null,
      "metadata": {
        "id": "5HWUiuTcVBF_"
      },
      "outputs": [],
      "source": [
        "base.loc[base['razao_nomecontratado'] == 'FICAPOÇOS FIOS E CABOS LTDA.', 'cidade_endcontratado'] = 'POCOS DE CALDAS'"
      ]
    },
    {
      "cell_type": "code",
      "execution_count": null,
      "metadata": {
        "id": "UsiVh5txVJFC"
      },
      "outputs": [],
      "source": [
        "base.loc[base['razao_nomecontratado'] == 'FICAPOÇOS FIOS E CABOS LTDA.', 'uf_endcontratado'] = 'MG'"
      ]
    },
    {
      "cell_type": "markdown",
      "metadata": {
        "id": "pYmPKNOxWj48"
      },
      "source": [
        "Corrigindo empresa STEMAC SA GRUPOS GERADORES"
      ]
    },
    {
      "cell_type": "markdown",
      "metadata": {
        "id": "Yw-r9J9fk_dL"
      },
      "source": [
        "http://cnpj.info/Stemac-Sa-Grupos-Geradores-Em-Recuperacao-Judicial-Anchieta-Porto-Alegre\n"
      ]
    },
    {
      "cell_type": "code",
      "execution_count": null,
      "metadata": {
        "id": "jn9KMN8VWWCl"
      },
      "outputs": [],
      "source": [
        "base[base.razao_nomecontratado == 'STEMAC SA GRUPOS GERADORES']"
      ]
    },
    {
      "cell_type": "code",
      "execution_count": null,
      "metadata": {
        "id": "6vnmRrmNWqHu"
      },
      "outputs": [],
      "source": [
        "base.loc[base['razao_nomecontratado'] == 'STEMAC SA GRUPOS GERADORES', 'logradouro_endcontratado'] = 'AVENIDA SEVERO DULLIUS'"
      ]
    },
    {
      "cell_type": "code",
      "execution_count": null,
      "metadata": {
        "id": "-ErOovOvW0rD"
      },
      "outputs": [],
      "source": [
        "base.loc[base['razao_nomecontratado'] == 'STEMAC SA GRUPOS GERADORES', 'bairro_endcontratado'] = 'ANCHIETA'"
      ]
    },
    {
      "cell_type": "code",
      "execution_count": null,
      "metadata": {
        "id": "4_Y2sQheW6vb"
      },
      "outputs": [],
      "source": [
        "base.loc[base['razao_nomecontratado'] == 'STEMAC SA GRUPOS GERADORES', 'cidade_endcontratado'] = 'PORTO ALEGRE'"
      ]
    },
    {
      "cell_type": "code",
      "execution_count": null,
      "metadata": {
        "id": "WVnXV8czXAe7"
      },
      "outputs": [],
      "source": [
        "base.loc[base['razao_nomecontratado'] == 'STEMAC SA GRUPOS GERADORES', 'uf_endcontratado'] = 'RS'"
      ]
    },
    {
      "cell_type": "code",
      "execution_count": null,
      "metadata": {
        "id": "3kuiW0iVXKPb"
      },
      "outputs": [],
      "source": [
        "base.loc[base['razao_nomecontratado'] == 'STEMAC SA GRUPOS GERADORES', 'comp_endcontratado'] = 'Sala 1101-2'"
      ]
    },
    {
      "cell_type": "code",
      "execution_count": null,
      "metadata": {
        "id": "UJVUJILLXTTT"
      },
      "outputs": [],
      "source": [
        "base.loc[base['razao_nomecontratado'] == 'STEMAC SA GRUPOS GERADORES', 'num_endcontratado'] = 1395"
      ]
    },
    {
      "cell_type": "markdown",
      "metadata": {
        "id": "fjgLXDgymX-Y"
      },
      "source": [
        "Corrigindo empresa FML TECNOLOGIA ELETRONICA - EIRELI"
      ]
    },
    {
      "cell_type": "markdown",
      "metadata": {
        "id": "lH9rR77Vmb3i"
      },
      "source": [
        "http://cnpj.info/Fml-Tecnologia-Eletronica-Eireli-Fml-Tecnologia"
      ]
    },
    {
      "cell_type": "code",
      "execution_count": null,
      "metadata": {
        "id": "Z8G8RRBDmgdJ"
      },
      "outputs": [],
      "source": [
        "base[base.razao_nomecontratado == 'FML TECNOLOGIA ELETRONICA - EIRELI']"
      ]
    },
    {
      "cell_type": "code",
      "execution_count": null,
      "metadata": {
        "id": "egNa7Cbtm6d1"
      },
      "outputs": [],
      "source": [
        "base.loc[base['razao_nomecontratado'] == 'FML TECNOLOGIA ELETRONICA - EIRELI', 'bairro_endcontratado'] = 'IBURA'"
      ]
    },
    {
      "cell_type": "markdown",
      "metadata": {
        "id": "vjarO7CUfle2"
      },
      "source": [
        "Corrigindo endereços por cidade"
      ]
    },
    {
      "cell_type": "code",
      "execution_count": null,
      "metadata": {
        "id": "tJkhpAsnhNKp"
      },
      "outputs": [],
      "source": [
        "base.loc[base['logradouro_endcontratado'] == 'RUA DA OLARIA', 'bairro_endcontratado'] = 'TORRÕES'"
      ]
    },
    {
      "cell_type": "code",
      "execution_count": null,
      "metadata": {
        "id": "OPr8gNC8h204"
      },
      "outputs": [],
      "source": [
        "base.loc[base['cidade_endcontratado'] == 'BELO HORIZONTE', 'uf_endcontratado'] = 'MG'"
      ]
    },
    {
      "cell_type": "code",
      "execution_count": null,
      "metadata": {
        "id": "KTD32Ap2iRB4"
      },
      "outputs": [],
      "source": [
        "base.loc[base['logradouro_endcontratado'] == 'RUA LINDOLFO DE AZEVEDO', 'bairro_endcontratado'] = 'JARDIM AMÉRICA'"
      ]
    },
    {
      "cell_type": "code",
      "execution_count": null,
      "metadata": {
        "id": "XWzQy0DvikhX"
      },
      "outputs": [],
      "source": [
        "base.loc[base['logradouro_endcontratado'] == 'RUA CLÉLIA MANFRO, 1843', 'logradouro_endcontratado'] = 'RUA CLÉLIA MANFRO'"
      ]
    },
    {
      "cell_type": "code",
      "execution_count": null,
      "metadata": {
        "id": "3E09wxUXiwOm"
      },
      "outputs": [],
      "source": [
        "base.loc[base['logradouro_endcontratado'] == 'RUA CLÉLIA MANFRO', 'num_endcontratado'] = '1843'"
      ]
    },
    {
      "cell_type": "code",
      "execution_count": null,
      "metadata": {
        "id": "SF5FTIZEjCU-"
      },
      "outputs": [],
      "source": [
        "base.loc[base['logradouro_endcontratado'] == 'RUA BENJAMIN CONSTANT', 'bairro_endcontratado'] = 'LARGO DO BARRADAS'"
      ]
    },
    {
      "cell_type": "code",
      "execution_count": null,
      "metadata": {
        "id": "BQSoHcwxjRlO"
      },
      "outputs": [],
      "source": [
        "base.loc[base['logradouro_endcontratado'] == 'RUA RUTH FRANCO ROCHA', 'bairro_endcontratado'] = 'SÃO LOURENÇO'"
      ]
    },
    {
      "cell_type": "code",
      "execution_count": null,
      "metadata": {
        "id": "gtNXITn1kzvL"
      },
      "outputs": [],
      "source": [
        "base.loc[base['logradouro_endcontratado'] == 'RUA CEL MAURÍCIO GONÇALVES MOREIRA', 'bairro_endcontratado'] = 'CENTRO'"
      ]
    },
    {
      "cell_type": "code",
      "execution_count": null,
      "metadata": {
        "id": "1i3n_CHPvBOO"
      },
      "outputs": [],
      "source": [
        "base.loc[base['cidade_endcontratado'] == 'CAETÉ', 'uf_endcontratado'] = 'MG'"
      ]
    },
    {
      "cell_type": "code",
      "execution_count": null,
      "metadata": {
        "id": "bUM7eCSnvVWi"
      },
      "outputs": [],
      "source": [
        "base.loc[base['cidade_endcontratado'] == 'GOIANA', 'uf_endcontratado'] = 'PE'"
      ]
    },
    {
      "cell_type": "code",
      "execution_count": null,
      "metadata": {
        "id": "FM4LW2EqvVJz"
      },
      "outputs": [],
      "source": [
        "base.loc[base['cidade_endcontratado'] == 'JABOATÃO DOS GUARARAPES', 'uf_endcontratado'] = 'PE'"
      ]
    },
    {
      "cell_type": "code",
      "execution_count": null,
      "metadata": {
        "id": "Pacz1SCCvmd8"
      },
      "outputs": [],
      "source": [
        "base.loc[base['cidade_endcontratado'] == 'SÃO BERNARDO', 'uf_endcontratado'] = 'SP'"
      ]
    },
    {
      "cell_type": "code",
      "execution_count": null,
      "metadata": {
        "id": "oeaTwQCzwDeZ"
      },
      "outputs": [],
      "source": [
        "base.loc[base['cidade_endcontratado'] == 'CAXIAS DO SUL', 'uf_endcontratado'] = 'RS'"
      ]
    },
    {
      "cell_type": "markdown",
      "metadata": {
        "id": "uZj1bUbxrACh"
      },
      "source": [
        "Corrigindo empresa ARINOS COMÉRCIO DE MATERIAIS DE CONSTRUÇÃO LTDA"
      ]
    },
    {
      "cell_type": "markdown",
      "metadata": {
        "id": "EsDQx-ynrYZY"
      },
      "source": [
        "http://cnpj.info/29616156000183"
      ]
    },
    {
      "cell_type": "code",
      "execution_count": null,
      "metadata": {
        "id": "aEy417-TrAxB"
      },
      "outputs": [],
      "source": [
        "base.loc[base['razao_nomecontratado'] == 'ARINOS COMÉRCIO DE MATERIAIS DE CONSTRUÇÃO LTDA', 'bairro_endcontratado'] = 'JARDIM FLORIDA'\n"
      ]
    },
    {
      "cell_type": "markdown",
      "metadata": {
        "id": "_ymv988PralC"
      },
      "source": [
        "Corrigindo empresa FOCO PRODUCOES LTDA"
      ]
    },
    {
      "cell_type": "markdown",
      "metadata": {
        "id": "0jPYnsoWrfao"
      },
      "source": [
        "http://cnpj.info/Foco-Producoes-Foco-3-Producoes"
      ]
    },
    {
      "cell_type": "code",
      "execution_count": null,
      "metadata": {
        "id": "FsPTAhTgr7-1"
      },
      "outputs": [],
      "source": [
        "base.loc[base['razao_nomecontratado'] == 'FOCO PRODUCOES LTDA', 'bairro_endcontratado'] = 'PETROPOLIS'"
      ]
    },
    {
      "cell_type": "markdown",
      "metadata": {
        "id": "SI-RhRj5snhZ"
      },
      "source": [
        "Corrigindo empresa JRIBEIRO COMERCIO ATACADISTA LDTA"
      ]
    },
    {
      "cell_type": "markdown",
      "metadata": {
        "id": "r_aNzKCosq6P"
      },
      "source": [
        "http://cnpj.info/J-Ribeiro-Comercio-Atacadista-Ltda"
      ]
    },
    {
      "cell_type": "code",
      "execution_count": null,
      "metadata": {
        "id": "gyVTeUfgYh5v"
      },
      "outputs": [],
      "source": [
        "base.loc[base['razao_nomecontratado'] == 'JRIBEIRO COMERCIO ATACADISTA LDTA', 'bairro_endcontratado'] = 'JARDIM BELA SUICA'"
      ]
    },
    {
      "cell_type": "markdown",
      "metadata": {
        "id": "-0jgSz-PYh5w"
      },
      "source": [
        "<h3> Filtragem de dados</h3>"
      ]
    },
    {
      "cell_type": "markdown",
      "metadata": {
        "id": "rK8VKIPlYh5w"
      },
      "source": [
        "<h5>Quantidade de processos licitatórios de 2023 até a atualidade.</h5>"
      ]
    },
    {
      "cell_type": "code",
      "execution_count": null,
      "metadata": {
        "id": "RRSelxceYh5w"
      },
      "outputs": [],
      "source": [
        "base[base[\"ano_processolicitatorio\"]>= 2023].shape[0]\n",
        "\n",
        "\n"
      ]
    },
    {
      "cell_type": "code",
      "execution_count": null,
      "metadata": {
        "id": "VEge9rbZYh5x"
      },
      "outputs": [],
      "source": [
        "qtd_process_por_uf=base[\"uf_endcontratado\"].value_counts()\n",
        "qtd_process_por_uf\n",
        "\n",
        "# Quantidade de processo por uf do maior para o menor.\n",
        "\n",
        "\n"
      ]
    },
    {
      "cell_type": "code",
      "execution_count": null,
      "metadata": {
        "id": "MdRECYaDcFbm"
      },
      "outputs": [],
      "source": [
        "qtd_process_por_uf.plot(kind='barh', figsize=(10, 10))\n",
        "plt.title('Quantidade de processos por estado.')\n",
        "plt.xlabel('Processos')\n",
        "plt.ylabel('Cidades')\n",
        "plt.gca().invert_yaxis()\n",
        "plt.xticks(rotation=90, fontsize=8)\n",
        "plt.show()"
      ]
    },
    {
      "cell_type": "code",
      "execution_count": null,
      "metadata": {
        "id": "UhyO1qwXYh5y"
      },
      "outputs": [],
      "source": [
        "process_pe=base[base[\"uf_endcontratado\"]== \"PE\"]\n",
        "process_pe[\"cidade_endcontratado\"].value_counts()\n",
        "# Quantidade de processos em pernambuco por cidades.\n"
      ]
    },
    {
      "cell_type": "code",
      "execution_count": null,
      "metadata": {
        "id": "p38FB3Oda588"
      },
      "outputs": [],
      "source": [
        "process_pe[\"cidade_endcontratado\"].value_counts().plot(kind='barh', figsize=(10, 10))\n",
        "plt.title('Quantidade de processos em pernambuco por cidades.')\n",
        "plt.xlabel('Processos')\n",
        "plt.ylabel('Cidades')\n",
        "plt.gca().invert_yaxis()\n",
        "plt.xticks(rotation=90, fontsize=8)\n",
        "plt.show()"
      ]
    },
    {
      "cell_type": "code",
      "execution_count": null,
      "metadata": {
        "id": "c7zRslfvYh5y"
      },
      "outputs": [],
      "source": [
        "base[base[\"modalidadeprocessolicitatorio\"]!= \"PREGÃO ELETRÔNICO\"]\n",
        "# Os processos que não são da modalidade pregão eletrônico."
      ]
    },
    {
      "cell_type": "code",
      "execution_count": null,
      "metadata": {
        "id": "NwrpJRAmYh5y"
      },
      "outputs": [],
      "source": [
        "base[\"comissao_licitacao\"].value_counts()\n",
        "\n",
        "# Quantidade de processos em relação a sua respectiva comissão.\n"
      ]
    },
    {
      "cell_type": "code",
      "execution_count": null,
      "metadata": {
        "id": "N_KsD9_-Zp0z"
      },
      "outputs": [],
      "source": [
        "base[\"comissao_licitacao\"].value_counts().plot(kind='barh', figsize=(10, 10))\n",
        "plt.title('Frequência de comissões por licitação')\n",
        "plt.xlabel('Frequência')\n",
        "plt.ylabel('Comissões')\n",
        "plt.gca().invert_yaxis()\n",
        "plt.xticks(rotation=90, fontsize=8)\n",
        "plt.show()"
      ]
    },
    {
      "cell_type": "code",
      "execution_count": null,
      "metadata": {
        "id": "F-bTJMb9Yh5z"
      },
      "outputs": [],
      "source": [
        "base[\"orgao_licitante\"].value_counts()\n",
        "# quantidade de licitações por orgãos licitantes.\n",
        "\n"
      ]
    },
    {
      "cell_type": "code",
      "execution_count": null,
      "metadata": {
        "id": "QemIhuebYh5z"
      },
      "outputs": [],
      "source": [
        "base[\"orgao_licitante\"].value_counts().plot(kind='barh', figsize=(10, 10))\n",
        "plt.title('Licitações por orgãos')\n",
        "plt.xlabel('Frequência')\n",
        "plt.ylabel('Licitações')\n",
        "plt.gca().invert_yaxis()\n",
        "plt.xticks(rotation=90, fontsize=8)\n",
        "plt.show()"
      ]
    },
    {
      "cell_type": "code",
      "execution_count": null,
      "metadata": {
        "id": "F5D1vJfjYh50"
      },
      "outputs": [],
      "source": [
        "base[\"objeto\"].value_counts()\n",
        "# Quantidade de licitações para aquisição de materiais."
      ]
    },
    {
      "cell_type": "code",
      "execution_count": null,
      "metadata": {
        "id": "Q5F25vZSYh50"
      },
      "outputs": [],
      "source": [
        "qtd_process_maior_2022=base[base[\"ano_processolicitatorio\"]>= 2022]\n",
        "qtd_process_maior_2022[\"objeto\"].value_counts()\n",
        "\n",
        "# quantidade de objetos mais solicitados de apartir do ano de 2022 até a atualidade."
      ]
    },
    {
      "cell_type": "markdown",
      "metadata": {
        "id": "4NXT2FD2Yh51"
      },
      "source": [
        "<h3> Estrutura do Dataset</h3>"
      ]
    },
    {
      "cell_type": "code",
      "execution_count": null,
      "metadata": {
        "id": "vVKtTulUYh51"
      },
      "outputs": [],
      "source": [
        "base.shape\n",
        "# Quantidade de linhas e colunas do dataset."
      ]
    },
    {
      "cell_type": "markdown",
      "metadata": {
        "id": "Gvbr8KRZYh51"
      },
      "source": [
        "<h3> Análise Estatística</h3>"
      ]
    },
    {
      "cell_type": "markdown",
      "metadata": {
        "id": "k5sSVgWNYh51"
      },
      "source": [
        "<h5> Valor Total Homologado. </h5>"
      ]
    },
    {
      "cell_type": "code",
      "execution_count": null,
      "metadata": {
        "id": "w53o7hGYiMgo"
      },
      "outputs": [],
      "source": [
        "# prompt: Crie um gráfico com os valores do valor total homologado em relação a sua respectiva frequência. Faça uma restrição dos 5 mais frequentes...\n",
        "\n",
        "base[\"valor_totalhomologadolicitacao\"].value_counts().head(5).plot(kind='barh', figsize=(10, 10))\n",
        "plt.title('Valor Total Homologado')\n",
        "plt.xlabel('Frequência')\n",
        "plt.ylabel('Valor')\n",
        "plt.gca().invert_yaxis()\n",
        "plt.xticks(rotation=90, fontsize=8)\n",
        "plt.show()\n"
      ]
    },
    {
      "cell_type": "markdown",
      "metadata": {
        "id": "_0xUAyMFYh52"
      },
      "source": [
        "<h6>  Moda  </h6>"
      ]
    },
    {
      "cell_type": "code",
      "execution_count": null,
      "metadata": {
        "id": "HwOygWVsYh52"
      },
      "outputs": [],
      "source": [
        "base[\"valor_totalhomologadolicitacao\"].mode()"
      ]
    },
    {
      "cell_type": "markdown",
      "metadata": {
        "id": "XFmRbJlFYh52"
      },
      "source": [
        "<h6>  Média  </h6>"
      ]
    },
    {
      "cell_type": "code",
      "execution_count": null,
      "metadata": {
        "id": "G6Jjwt3tYh52"
      },
      "outputs": [],
      "source": [
        "base[\"valor_totalhomologadolicitacao\"].mean()"
      ]
    },
    {
      "cell_type": "markdown",
      "metadata": {
        "id": "J1JULVQqYh53"
      },
      "source": [
        "<h6>  Médiana </h6>"
      ]
    },
    {
      "cell_type": "code",
      "execution_count": null,
      "metadata": {
        "id": "QYhZ2y_MYh53"
      },
      "outputs": [],
      "source": [
        "base[\"valor_totalhomologadolicitacao\"].median()"
      ]
    },
    {
      "cell_type": "markdown",
      "metadata": {
        "id": "qRLzuykQYh53"
      },
      "source": [
        "<h6> Variância </h6>"
      ]
    },
    {
      "cell_type": "code",
      "execution_count": null,
      "metadata": {
        "id": "ARaBQ_43Yh53"
      },
      "outputs": [],
      "source": [
        "base[\"valor_totalhomologadolicitacao\"].var()"
      ]
    },
    {
      "cell_type": "markdown",
      "metadata": {
        "id": "sIHCM3V8Yh53"
      },
      "source": [
        "<h6>Desvio Padrão</h6>"
      ]
    },
    {
      "cell_type": "code",
      "execution_count": null,
      "metadata": {
        "id": "Os6ZQCM_Yh54"
      },
      "outputs": [],
      "source": [
        "base[\"valor_totalhomologadolicitacao\"].std()"
      ]
    },
    {
      "cell_type": "markdown",
      "metadata": {
        "id": "6yA3HrmrYh54"
      },
      "source": [
        "<h6> Assimetria: Sendo ela positiva, indicando uma cauda mais longa ou mais espessa à direita. </h6>"
      ]
    },
    {
      "cell_type": "code",
      "execution_count": null,
      "metadata": {
        "id": "TxX9w9fqYh54"
      },
      "outputs": [],
      "source": [
        "base[\"valor_totalhomologadolicitacao\"].skew()"
      ]
    },
    {
      "cell_type": "markdown",
      "metadata": {
        "id": "KEoANM8dYh55"
      },
      "source": [
        "<h6> Curtose: <strong>Leptocúrtica</strong>,pois tem um excesso de curtose positiva.</h6>"
      ]
    },
    {
      "cell_type": "code",
      "execution_count": null,
      "metadata": {
        "id": "avk8F0POYh55"
      },
      "outputs": [],
      "source": [
        "base[\"valor_totalhomologadolicitacao\"].kurtosis()"
      ]
    },
    {
      "cell_type": "markdown",
      "metadata": {
        "id": "2PnlS6h7Yh55"
      },
      "source": [
        "<h5> Valor de licitação por lote </h5>"
      ]
    },
    {
      "cell_type": "code",
      "execution_count": null,
      "metadata": {
        "id": "hOjY2i4CjmKc"
      },
      "outputs": [],
      "source": [
        "base[\"valor_licitacao_lote\"].value_counts().head(5).plot(kind='barh', figsize=(10, 10))\n",
        "plt.title('Valor de licitação por lote')\n",
        "plt.xlabel('Frequência')\n",
        "plt.ylabel('Valor')\n",
        "plt.gca().invert_yaxis()\n",
        "plt.xticks(rotation=90, fontsize=8)\n",
        "plt.show()"
      ]
    },
    {
      "cell_type": "markdown",
      "metadata": {
        "id": "pBQqY3KWYh56"
      },
      "source": [
        "<h6> Moda</h6>"
      ]
    },
    {
      "cell_type": "code",
      "execution_count": null,
      "metadata": {
        "id": "t48iqxjbYh56"
      },
      "outputs": [],
      "source": [
        "base[\"valor_licitacao_lote\"].mode()"
      ]
    },
    {
      "cell_type": "markdown",
      "metadata": {
        "id": "dcXRlOTrYh56"
      },
      "source": [
        "<h6>  Média  </h6>"
      ]
    },
    {
      "cell_type": "code",
      "execution_count": null,
      "metadata": {
        "id": "w30vWs6CYh56"
      },
      "outputs": [],
      "source": [
        "base[\"valor_licitacao_lote\"].mean()"
      ]
    },
    {
      "cell_type": "markdown",
      "metadata": {
        "id": "nNDN63gXYh57"
      },
      "source": [
        "<h6>  Mediana  </h6>"
      ]
    },
    {
      "cell_type": "code",
      "execution_count": null,
      "metadata": {
        "id": "z4Mfoma0Yh57"
      },
      "outputs": [],
      "source": [
        "base[\"valor_licitacao_lote\"].median()"
      ]
    },
    {
      "cell_type": "markdown",
      "metadata": {
        "id": "RgCSQhklYh58"
      },
      "source": [
        "<h6> Variância </h6>"
      ]
    },
    {
      "cell_type": "code",
      "execution_count": null,
      "metadata": {
        "id": "lqxdCO58Yh58"
      },
      "outputs": [],
      "source": [
        "base[\"valor_licitacao_lote\"].var()"
      ]
    },
    {
      "cell_type": "markdown",
      "metadata": {
        "id": "iM0Bgj_2Yh59"
      },
      "source": [
        "<h6>Desvio Padrão</h6>"
      ]
    },
    {
      "cell_type": "code",
      "execution_count": null,
      "metadata": {
        "id": "iie3VxIIYh59"
      },
      "outputs": [],
      "source": [
        "base[\"valor_licitacao_lote\"].std()"
      ]
    },
    {
      "cell_type": "markdown",
      "metadata": {
        "id": "UXxBeDUCYh5-"
      },
      "source": [
        "<h6> Assimetria: Sendo ela positiva, indicando uma cauda mais longa ou mais espessa à direita. </h6>"
      ]
    },
    {
      "cell_type": "code",
      "execution_count": null,
      "metadata": {
        "id": "fEW4kfbbYh5-"
      },
      "outputs": [],
      "source": [
        "base[\"valor_licitacao_lote\"].skew()"
      ]
    },
    {
      "cell_type": "markdown",
      "metadata": {
        "id": "29ACcPAEYh5-"
      },
      "source": [
        "<h6> Curtose: <strong>Leptocúrtica</strong>,pois tem um excesso de curtose positiva.</h6>"
      ]
    },
    {
      "cell_type": "code",
      "execution_count": null,
      "metadata": {
        "id": "eLn-U7S_Yh5-"
      },
      "outputs": [],
      "source": [
        "base[\"valor_licitacao_lote\"].kurtosis()"
      ]
    },
    {
      "cell_type": "code",
      "source": [
        "\n"
      ],
      "metadata": {
        "id": "LxqbDjMYTJCQ"
      },
      "execution_count": null,
      "outputs": []
    }
  ],
  "metadata": {
    "colab": {
      "provenance": [],
      "include_colab_link": true
    },
    "kernelspec": {
      "display_name": "Python 3",
      "name": "python3"
    },
    "language_info": {
      "codemirror_mode": {
        "name": "ipython",
        "version": 3
      },
      "file_extension": ".py",
      "mimetype": "text/x-python",
      "name": "python",
      "nbconvert_exporter": "python",
      "pygments_lexer": "ipython3",
      "version": "3.11.5"
    }
  },
  "nbformat": 4,
  "nbformat_minor": 0
}
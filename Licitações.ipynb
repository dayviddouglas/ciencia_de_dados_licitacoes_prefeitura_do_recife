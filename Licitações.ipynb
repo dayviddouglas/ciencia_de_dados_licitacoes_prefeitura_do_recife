{
  "cells": [
    {
      "cell_type": "markdown",
      "metadata": {
        "id": "view-in-github",
        "colab_type": "text"
      },
      "source": [
        "<a href=\"https://colab.research.google.com/github/dayviddouglas/ciencia_de_dados_licitacoes_prefeitura_do_recife/blob/main/Licita%C3%A7%C3%B5es.ipynb\" target=\"_parent\"><img src=\"https://colab.research.google.com/assets/colab-badge.svg\" alt=\"Open In Colab\"/></a>"
      ]
    },
    {
      "cell_type": "markdown",
      "metadata": {
        "id": "Lri5UtolB2E_"
      },
      "source": [
        "# Importa as bibliotecas faz uma requisição do dataset e define o encoding para utf-8 case não consiga executar a requisição retorna um erro"
      ]
    },
    {
      "cell_type": "code",
      "execution_count": 1,
      "metadata": {
        "id": "PltFerwTbRTV",
        "metadata": {}
      },
      "outputs": [],
      "source": [
        "import pandas as pd\n",
        "import requests as req\n",
        "from io import StringIO\n",
        "import urllib\n",
        "import matplotlib.pyplot as plt\n",
        "\n",
        "url =  \"http://dados.recife.pe.gov.br/dataset/591a6ed4-7beb-4304-a2a1-2af521517a06/resource/c5d7505c-381c-4670-a0c2-1fbf56df50b1/download/dados_abertos_licitacao_concluida.csv\"\n",
        "\n",
        "try:\n",
        "    response = req.get(url)\n",
        "    response.encoding = 'utf-8'\n",
        "    response.raise_for_status()  # Lança um erro para respostas não-sucedidas\n",
        "    # Usando StringIO para converter o texto em um arquivo em memória e, então, lendo com o Pandas\n",
        "    csv_raw = StringIO(response.text)\n",
        "    base = pd.read_csv(csv_raw, sep=';', encoding='utf-8')\n",
        "\n",
        "\n",
        "\n",
        "except req.RequestException as e:\n",
        "    print(f\"Erro ao acessar o arquivo: {e}\")\n"
      ]
    },
    {
      "cell_type": "markdown",
      "metadata": {
        "id": "5tv5y8KxbnFE"
      },
      "source": [
        "# Lê o cabeçalho"
      ]
    },
    {
      "cell_type": "code",
      "execution_count": null,
      "metadata": {
        "id": "eD5Kier4bZPq"
      },
      "outputs": [],
      "source": [
        "base.head(3)"
      ]
    },
    {
      "cell_type": "markdown",
      "metadata": {
        "id": "s7WwiyHmopay"
      },
      "source": [
        "# Informações da base"
      ]
    },
    {
      "cell_type": "code",
      "execution_count": null,
      "metadata": {
        "id": "bjQDexdTcpWw"
      },
      "outputs": [],
      "source": [
        "base.info()"
      ]
    },
    {
      "cell_type": "markdown",
      "metadata": {
        "id": "DAFaG10pLUtd"
      },
      "source": [
        "# Corrigindo tipos das tabelas"
      ]
    },
    {
      "cell_type": "code",
      "execution_count": 4,
      "metadata": {
        "colab": {
          "base_uri": "https://localhost:8080/"
        },
        "id": "bpaDS7GwMScM",
        "outputId": "2a0be242-170f-408e-fcab-0f2ee9046163"
      },
      "outputs": [
        {
          "output_type": "execute_result",
          "data": {
            "text/plain": [
              "dtype('float64')"
            ]
          },
          "metadata": {},
          "execution_count": 4
        }
      ],
      "source": [
        "base.num_endcontratado.dtypes"
      ]
    },
    {
      "cell_type": "code",
      "execution_count": 5,
      "metadata": {
        "colab": {
          "base_uri": "https://localhost:8080/"
        },
        "id": "E3L1PLOuK1IW",
        "outputId": "ea47cd7d-467b-40c5-ba98-8c719e69fc8a"
      },
      "outputs": [
        {
          "output_type": "execute_result",
          "data": {
            "text/plain": [
              "dtype('O')"
            ]
          },
          "metadata": {},
          "execution_count": 5
        }
      ],
      "source": [
        "base.data_ultimafaseprocesso.dtypes"
      ]
    },
    {
      "cell_type": "code",
      "execution_count": 6,
      "metadata": {
        "colab": {
          "base_uri": "https://localhost:8080/"
        },
        "id": "z4pL3BkDX1oF",
        "outputId": "36db6d3b-16f0-4ac4-85dc-4f1c459c13a4"
      },
      "outputs": [
        {
          "output_type": "execute_result",
          "data": {
            "text/plain": [
              "dtype('float64')"
            ]
          },
          "metadata": {},
          "execution_count": 6
        }
      ],
      "source": [
        "base.cpf_contratado.dtypes"
      ]
    },
    {
      "cell_type": "code",
      "execution_count": 7,
      "metadata": {
        "id": "I_NjLf2ssV-3"
      },
      "outputs": [],
      "source": [
        "base['data_ultimafaseprocesso'] = pd.to_datetime(base['data_ultimafaseprocesso'])\n",
        "base['data_aberturaproposta'] = pd.to_datetime(base['data_aberturaproposta'])"
      ]
    },
    {
      "cell_type": "code",
      "execution_count": 8,
      "metadata": {
        "id": "yB-5DDVNLX9e"
      },
      "outputs": [],
      "source": [
        "base['num_endcontratado'] = base['num_endcontratado'].round().astype('object')"
      ]
    },
    {
      "cell_type": "code",
      "execution_count": 9,
      "metadata": {
        "id": "Dh-tpM-CYCni"
      },
      "outputs": [],
      "source": [
        "base['cpf_contratado'] = base['cpf_contratado'].astype('object')\n",
        "base['cnpj_contratado'] = base['cnpj_contratado'].astype('object')"
      ]
    },
    {
      "cell_type": "code",
      "execution_count": 10,
      "metadata": {
        "id": "ieHp0vqUYh5S"
      },
      "outputs": [],
      "source": [
        "base['valor_total_estimado'] = base['valor_total_estimado'].str.replace(',', '.')\n",
        "base['valor_licitacao_lote'] = base['valor_licitacao_lote'].str.replace(',', '.')\n",
        "base['valor_totalhomologadolicitacao'] = base['valor_totalhomologadolicitacao'].str.replace(',', '.')\n",
        "base['valor_totalhomologadolicitacao'] = base['valor_totalhomologadolicitacao'].fillna(0)\n",
        "base['valor_total_estimado'] = base['valor_total_estimado'].astype('float')\n",
        "base['valor_totalhomologadolicitacao'] = base['valor_totalhomologadolicitacao'].astype('float')\n",
        "base['valor_licitacao_lote'] = base['valor_licitacao_lote'].astype('float')"
      ]
    },
    {
      "cell_type": "markdown",
      "metadata": {
        "id": "nlYb7F12onPB"
      },
      "source": [
        "# Valores nulos"
      ]
    },
    {
      "cell_type": "code",
      "execution_count": null,
      "metadata": {
        "id": "cJK6OUTzoSul"
      },
      "outputs": [],
      "source": [
        "base.isnull().sum()"
      ]
    },
    {
      "cell_type": "code",
      "execution_count": null,
      "metadata": {
        "id": "dDsR2abNIYyC"
      },
      "outputs": [],
      "source": [
        "base.isna().sum()"
      ]
    },
    {
      "cell_type": "code",
      "execution_count": null,
      "metadata": {
        "id": "n8fzqR1XIfmr"
      },
      "outputs": [],
      "source": [
        "base.duplicated()"
      ]
    },
    {
      "cell_type": "markdown",
      "metadata": {
        "id": "hw6nrBduCYi4"
      },
      "source": [
        "# corrigindo valores nulos nos endereços"
      ]
    },
    {
      "cell_type": "code",
      "execution_count": null,
      "metadata": {
        "id": "ughgWIXhTtFc"
      },
      "outputs": [],
      "source": [
        "base[base.logradouro_endcontratado.isnull()]"
      ]
    },
    {
      "cell_type": "code",
      "execution_count": null,
      "metadata": {
        "id": "DVhnmmqgeIHK"
      },
      "outputs": [],
      "source": [
        "base[base.bairro_endcontratado.isnull()]"
      ]
    },
    {
      "cell_type": "code",
      "execution_count": null,
      "metadata": {
        "id": "ZlxF08-kubaI"
      },
      "outputs": [],
      "source": [
        "base[base.uf_endcontratado.isnull()]"
      ]
    },
    {
      "cell_type": "code",
      "execution_count": 17,
      "metadata": {
        "id": "mu6CFIcDNH16"
      },
      "outputs": [],
      "source": [
        "base['num_endcontratado'] = base['num_endcontratado'].fillna('S/N')"
      ]
    },
    {
      "cell_type": "code",
      "execution_count": 18,
      "metadata": {
        "id": "tBdp6DV0Yc7h"
      },
      "outputs": [],
      "source": [
        "base['cpf_contratado'] = base['cpf_contratado'].fillna('Empresa')"
      ]
    },
    {
      "cell_type": "code",
      "execution_count": 19,
      "metadata": {
        "id": "EoFbhsFRYlty"
      },
      "outputs": [],
      "source": [
        "base['cnpj_contratado'] = base['cnpj_contratado'].fillna('PF')"
      ]
    },
    {
      "cell_type": "code",
      "execution_count": null,
      "metadata": {
        "id": "YF_njRBNFpbx"
      },
      "outputs": [],
      "source": [
        "base[base.razao_nomecontratado == 'BECKMAN COULTER DO BRASIL LTDA']"
      ]
    },
    {
      "cell_type": "markdown",
      "metadata": {
        "id": "_bsRYeIfWcTn"
      },
      "source": [
        "Corrigindo empresa BECKMAN COULTER DO BRASIL LTDA"
      ]
    },
    {
      "cell_type": "code",
      "execution_count": 21,
      "metadata": {
        "id": "pjBxGDbzJHeg"
      },
      "outputs": [],
      "source": [
        "base.loc[base['razao_nomecontratado'] == 'BECKMAN COULTER DO BRASIL LTDA', 'logradouro_endcontratado'] = 'Al. Rio Negro'"
      ]
    },
    {
      "cell_type": "code",
      "execution_count": 22,
      "metadata": {
        "id": "EfV0QuQOKV9S"
      },
      "outputs": [],
      "source": [
        "base.loc[base['razao_nomecontratado'] == 'BECKMAN COULTER DO BRASIL LTDA', 'num_endcontratado'] = 500"
      ]
    },
    {
      "cell_type": "code",
      "execution_count": 23,
      "metadata": {
        "id": "tgHgW-1DgbWS"
      },
      "outputs": [],
      "source": [
        "base.loc[base['razao_nomecontratado'] == 'BECKMAN COULTER DO BRASIL LTDA', 'comp_endcontratado'] = '15º andar'"
      ]
    },
    {
      "cell_type": "code",
      "execution_count": 24,
      "metadata": {
        "id": "SbINzxF3pLbE"
      },
      "outputs": [],
      "source": [
        "base.loc[base['razao_nomecontratado'] == 'BECKMAN COULTER DO BRASIL LTDA', 'cidade_endcontratado'] = 'Barueri'"
      ]
    },
    {
      "cell_type": "code",
      "execution_count": 25,
      "metadata": {
        "id": "zwsGjyWCpRcU"
      },
      "outputs": [],
      "source": [
        "base.loc[base['razao_nomecontratado'] == 'BECKMAN COULTER DO BRASIL LTDA', 'uf_endcontratado'] = 'SP'"
      ]
    },
    {
      "cell_type": "code",
      "execution_count": 26,
      "metadata": {
        "id": "bCgmS5nrpahl"
      },
      "outputs": [],
      "source": [
        "base.loc[base['razao_nomecontratado'] == 'BECKMAN COULTER DO BRASIL LTDA', 'bairro_endcontratado'] = 'Alphaville Industrial'"
      ]
    },
    {
      "cell_type": "markdown",
      "metadata": {
        "id": "pjmcaefFWhu8"
      },
      "source": [
        "Corrigindo empresa FICAPOÇOS FIOS E CABOS LTDA."
      ]
    },
    {
      "cell_type": "markdown",
      "metadata": {
        "id": "ozFubTqclI_D"
      },
      "source": [
        "http://cnpj.info/10376365000179"
      ]
    },
    {
      "cell_type": "code",
      "execution_count": null,
      "metadata": {
        "id": "_1hyL3CFUSmY"
      },
      "outputs": [],
      "source": [
        "base[base.razao_nomecontratado == 'FICAPOÇOS FIOS E CABOS LTDA.']"
      ]
    },
    {
      "cell_type": "code",
      "execution_count": 28,
      "metadata": {
        "id": "CPlF9A7UUnzf"
      },
      "outputs": [],
      "source": [
        "base.loc[base['razao_nomecontratado'] == 'FICAPOÇOS FIOS E CABOS LTDA.', 'logradouro_endcontratado'] = 'RUA UM'"
      ]
    },
    {
      "cell_type": "code",
      "execution_count": 29,
      "metadata": {
        "id": "g7_iTKf9U4S2"
      },
      "outputs": [],
      "source": [
        "base.loc[base['razao_nomecontratado'] == 'FICAPOÇOS FIOS E CABOS LTDA.', 'bairro_endcontratado'] = 'DISTRITO INDUSTRIAL'"
      ]
    },
    {
      "cell_type": "code",
      "execution_count": 30,
      "metadata": {
        "id": "5HWUiuTcVBF_"
      },
      "outputs": [],
      "source": [
        "base.loc[base['razao_nomecontratado'] == 'FICAPOÇOS FIOS E CABOS LTDA.', 'cidade_endcontratado'] = 'POCOS DE CALDAS'"
      ]
    },
    {
      "cell_type": "code",
      "execution_count": 31,
      "metadata": {
        "id": "UsiVh5txVJFC"
      },
      "outputs": [],
      "source": [
        "base.loc[base['razao_nomecontratado'] == 'FICAPOÇOS FIOS E CABOS LTDA.', 'uf_endcontratado'] = 'MG'"
      ]
    },
    {
      "cell_type": "markdown",
      "metadata": {
        "id": "pYmPKNOxWj48"
      },
      "source": [
        "Corrigindo empresa STEMAC SA GRUPOS GERADORES"
      ]
    },
    {
      "cell_type": "markdown",
      "metadata": {
        "id": "Yw-r9J9fk_dL"
      },
      "source": [
        "http://cnpj.info/Stemac-Sa-Grupos-Geradores-Em-Recuperacao-Judicial-Anchieta-Porto-Alegre\n"
      ]
    },
    {
      "cell_type": "code",
      "execution_count": null,
      "metadata": {
        "id": "jn9KMN8VWWCl"
      },
      "outputs": [],
      "source": [
        "base[base.razao_nomecontratado == 'STEMAC SA GRUPOS GERADORES']"
      ]
    },
    {
      "cell_type": "code",
      "execution_count": 33,
      "metadata": {
        "id": "6vnmRrmNWqHu"
      },
      "outputs": [],
      "source": [
        "base.loc[base['razao_nomecontratado'] == 'STEMAC SA GRUPOS GERADORES', 'logradouro_endcontratado'] = 'AVENIDA SEVERO DULLIUS'"
      ]
    },
    {
      "cell_type": "code",
      "execution_count": 34,
      "metadata": {
        "id": "-ErOovOvW0rD"
      },
      "outputs": [],
      "source": [
        "base.loc[base['razao_nomecontratado'] == 'STEMAC SA GRUPOS GERADORES', 'bairro_endcontratado'] = 'ANCHIETA'"
      ]
    },
    {
      "cell_type": "code",
      "execution_count": 35,
      "metadata": {
        "id": "4_Y2sQheW6vb"
      },
      "outputs": [],
      "source": [
        "base.loc[base['razao_nomecontratado'] == 'STEMAC SA GRUPOS GERADORES', 'cidade_endcontratado'] = 'PORTO ALEGRE'"
      ]
    },
    {
      "cell_type": "code",
      "execution_count": 36,
      "metadata": {
        "id": "WVnXV8czXAe7"
      },
      "outputs": [],
      "source": [
        "base.loc[base['razao_nomecontratado'] == 'STEMAC SA GRUPOS GERADORES', 'uf_endcontratado'] = 'RS'"
      ]
    },
    {
      "cell_type": "code",
      "execution_count": 37,
      "metadata": {
        "id": "3kuiW0iVXKPb"
      },
      "outputs": [],
      "source": [
        "base.loc[base['razao_nomecontratado'] == 'STEMAC SA GRUPOS GERADORES', 'comp_endcontratado'] = 'Sala 1101-2'"
      ]
    },
    {
      "cell_type": "code",
      "execution_count": 38,
      "metadata": {
        "id": "UJVUJILLXTTT"
      },
      "outputs": [],
      "source": [
        "base.loc[base['razao_nomecontratado'] == 'STEMAC SA GRUPOS GERADORES', 'num_endcontratado'] = 1395"
      ]
    },
    {
      "cell_type": "markdown",
      "metadata": {
        "id": "fjgLXDgymX-Y"
      },
      "source": [
        "Corrigindo empresa FML TECNOLOGIA ELETRONICA - EIRELI"
      ]
    },
    {
      "cell_type": "markdown",
      "metadata": {
        "id": "lH9rR77Vmb3i"
      },
      "source": [
        "http://cnpj.info/Fml-Tecnologia-Eletronica-Eireli-Fml-Tecnologia"
      ]
    },
    {
      "cell_type": "code",
      "execution_count": null,
      "metadata": {
        "id": "Z8G8RRBDmgdJ"
      },
      "outputs": [],
      "source": [
        "base[base.razao_nomecontratado == 'FML TECNOLOGIA ELETRONICA - EIRELI']"
      ]
    },
    {
      "cell_type": "code",
      "execution_count": 40,
      "metadata": {
        "id": "egNa7Cbtm6d1"
      },
      "outputs": [],
      "source": [
        "base.loc[base['razao_nomecontratado'] == 'FML TECNOLOGIA ELETRONICA - EIRELI', 'bairro_endcontratado'] = 'IBURA'"
      ]
    },
    {
      "cell_type": "markdown",
      "metadata": {
        "id": "vjarO7CUfle2"
      },
      "source": [
        "Corrigindo endereços por cidade"
      ]
    },
    {
      "cell_type": "code",
      "execution_count": 41,
      "metadata": {
        "id": "tJkhpAsnhNKp"
      },
      "outputs": [],
      "source": [
        "base.loc[base['logradouro_endcontratado'] == 'RUA DA OLARIA', 'bairro_endcontratado'] = 'TORRÕES'"
      ]
    },
    {
      "cell_type": "code",
      "execution_count": 42,
      "metadata": {
        "id": "OPr8gNC8h204"
      },
      "outputs": [],
      "source": [
        "base.loc[base['cidade_endcontratado'] == 'BELO HORIZONTE', 'uf_endcontratado'] = 'MG'"
      ]
    },
    {
      "cell_type": "code",
      "execution_count": 43,
      "metadata": {
        "id": "KTD32Ap2iRB4"
      },
      "outputs": [],
      "source": [
        "base.loc[base['logradouro_endcontratado'] == 'RUA LINDOLFO DE AZEVEDO', 'bairro_endcontratado'] = 'JARDIM AMÉRICA'"
      ]
    },
    {
      "cell_type": "code",
      "execution_count": 44,
      "metadata": {
        "id": "XWzQy0DvikhX"
      },
      "outputs": [],
      "source": [
        "base.loc[base['logradouro_endcontratado'] == 'RUA CLÉLIA MANFRO, 1843', 'logradouro_endcontratado'] = 'RUA CLÉLIA MANFRO'"
      ]
    },
    {
      "cell_type": "code",
      "execution_count": 45,
      "metadata": {
        "id": "3E09wxUXiwOm"
      },
      "outputs": [],
      "source": [
        "base.loc[base['logradouro_endcontratado'] == 'RUA CLÉLIA MANFRO', 'num_endcontratado'] = '1843'"
      ]
    },
    {
      "cell_type": "code",
      "execution_count": 46,
      "metadata": {
        "id": "SF5FTIZEjCU-"
      },
      "outputs": [],
      "source": [
        "base.loc[base['logradouro_endcontratado'] == 'RUA BENJAMIN CONSTANT', 'bairro_endcontratado'] = 'LARGO DO BARRADAS'"
      ]
    },
    {
      "cell_type": "code",
      "execution_count": 47,
      "metadata": {
        "id": "BQSoHcwxjRlO"
      },
      "outputs": [],
      "source": [
        "base.loc[base['logradouro_endcontratado'] == 'RUA RUTH FRANCO ROCHA', 'bairro_endcontratado'] = 'SÃO LOURENÇO'"
      ]
    },
    {
      "cell_type": "code",
      "execution_count": 48,
      "metadata": {
        "id": "gtNXITn1kzvL"
      },
      "outputs": [],
      "source": [
        "base.loc[base['logradouro_endcontratado'] == 'RUA CEL MAURÍCIO GONÇALVES MOREIRA', 'bairro_endcontratado'] = 'CENTRO'"
      ]
    },
    {
      "cell_type": "code",
      "execution_count": 49,
      "metadata": {
        "id": "1i3n_CHPvBOO"
      },
      "outputs": [],
      "source": [
        "base.loc[base['cidade_endcontratado'] == 'CAETÉ', 'uf_endcontratado'] = 'MG'"
      ]
    },
    {
      "cell_type": "code",
      "execution_count": 50,
      "metadata": {
        "id": "bUM7eCSnvVWi"
      },
      "outputs": [],
      "source": [
        "base.loc[base['cidade_endcontratado'] == 'GOIANA', 'uf_endcontratado'] = 'PE'"
      ]
    },
    {
      "cell_type": "code",
      "execution_count": 51,
      "metadata": {
        "id": "FM4LW2EqvVJz"
      },
      "outputs": [],
      "source": [
        "base.loc[base['cidade_endcontratado'] == 'JABOATÃO DOS GUARARAPES', 'uf_endcontratado'] = 'PE'"
      ]
    },
    {
      "cell_type": "code",
      "execution_count": 52,
      "metadata": {
        "id": "Pacz1SCCvmd8"
      },
      "outputs": [],
      "source": [
        "base.loc[base['cidade_endcontratado'] == 'SÃO BERNARDO', 'uf_endcontratado'] = 'SP'"
      ]
    },
    {
      "cell_type": "code",
      "execution_count": 53,
      "metadata": {
        "id": "oeaTwQCzwDeZ"
      },
      "outputs": [],
      "source": [
        "base.loc[base['cidade_endcontratado'] == 'CAXIAS DO SUL', 'uf_endcontratado'] = 'RS'"
      ]
    },
    {
      "cell_type": "markdown",
      "metadata": {
        "id": "uZj1bUbxrACh"
      },
      "source": [
        "Corrigindo empresa ARINOS COMÉRCIO DE MATERIAIS DE CONSTRUÇÃO LTDA"
      ]
    },
    {
      "cell_type": "markdown",
      "metadata": {
        "id": "EsDQx-ynrYZY"
      },
      "source": [
        "http://cnpj.info/29616156000183"
      ]
    },
    {
      "cell_type": "code",
      "execution_count": 54,
      "metadata": {
        "id": "aEy417-TrAxB"
      },
      "outputs": [],
      "source": [
        "base.loc[base['razao_nomecontratado'] == 'ARINOS COMÉRCIO DE MATERIAIS DE CONSTRUÇÃO LTDA', 'bairro_endcontratado'] = 'JARDIM FLORIDA'\n"
      ]
    },
    {
      "cell_type": "markdown",
      "metadata": {
        "id": "_ymv988PralC"
      },
      "source": [
        "Corrigindo empresa FOCO PRODUCOES LTDA"
      ]
    },
    {
      "cell_type": "markdown",
      "metadata": {
        "id": "0jPYnsoWrfao"
      },
      "source": [
        "http://cnpj.info/Foco-Producoes-Foco-3-Producoes"
      ]
    },
    {
      "cell_type": "code",
      "execution_count": 55,
      "metadata": {
        "id": "FsPTAhTgr7-1"
      },
      "outputs": [],
      "source": [
        "base.loc[base['razao_nomecontratado'] == 'FOCO PRODUCOES LTDA', 'bairro_endcontratado'] = 'PETROPOLIS'"
      ]
    },
    {
      "cell_type": "markdown",
      "metadata": {
        "id": "SI-RhRj5snhZ"
      },
      "source": [
        "Corrigindo empresa JRIBEIRO COMERCIO ATACADISTA LDTA"
      ]
    },
    {
      "cell_type": "markdown",
      "metadata": {
        "id": "r_aNzKCosq6P"
      },
      "source": [
        "http://cnpj.info/J-Ribeiro-Comercio-Atacadista-Ltda"
      ]
    },
    {
      "cell_type": "code",
      "execution_count": 56,
      "metadata": {
        "id": "gyVTeUfgYh5v"
      },
      "outputs": [],
      "source": [
        "base.loc[base['razao_nomecontratado'] == 'JRIBEIRO COMERCIO ATACADISTA LDTA', 'bairro_endcontratado'] = 'JARDIM BELA SUICA'"
      ]
    },
    {
      "cell_type": "markdown",
      "metadata": {
        "id": "-0jgSz-PYh5w"
      },
      "source": [
        "<h3> Filtragem de dados</h3>"
      ]
    },
    {
      "cell_type": "markdown",
      "metadata": {
        "id": "rK8VKIPlYh5w"
      },
      "source": [
        "<h5>Quantidade de processos licitatórios de 2023 até a atualidade.</h5>"
      ]
    },
    {
      "cell_type": "code",
      "execution_count": 57,
      "metadata": {
        "colab": {
          "base_uri": "https://localhost:8080/"
        },
        "id": "RRSelxceYh5w",
        "outputId": "d7f4aeee-ea0d-4fd9-9782-1667918ce9b9"
      },
      "outputs": [
        {
          "output_type": "execute_result",
          "data": {
            "text/plain": [
              "2333"
            ]
          },
          "metadata": {},
          "execution_count": 57
        }
      ],
      "source": [
        "base[base[\"ano_processolicitatorio\"]>= 2023].shape[0]\n",
        "\n",
        "\n"
      ]
    },
    {
      "cell_type": "code",
      "execution_count": null,
      "metadata": {
        "id": "VEge9rbZYh5x"
      },
      "outputs": [],
      "source": [
        "qtd_process_por_uf=base[\"uf_endcontratado\"].value_counts()\n",
        "qtd_process_por_uf\n",
        "\n",
        "# Quantidade de processo por uf do maior para o menor.\n",
        "\n",
        "\n"
      ]
    },
    {
      "cell_type": "code",
      "execution_count": null,
      "metadata": {
        "id": "MdRECYaDcFbm"
      },
      "outputs": [],
      "source": [
        "qtd_process_por_uf.plot(kind='barh', figsize=(10, 10))\n",
        "plt.title('Quantidade de processos por estado.')\n",
        "plt.xlabel('Processos')\n",
        "plt.ylabel('Cidades')\n",
        "plt.gca().invert_yaxis()\n",
        "plt.xticks(rotation=90, fontsize=8)\n",
        "plt.show()"
      ]
    },
    {
      "cell_type": "code",
      "execution_count": null,
      "metadata": {
        "id": "UhyO1qwXYh5y"
      },
      "outputs": [],
      "source": [
        "process_pe=base[base[\"uf_endcontratado\"]== \"PE\"]\n",
        "process_pe[\"cidade_endcontratado\"].value_counts()\n",
        "# Quantidade de processos em pernambuco por cidades.\n"
      ]
    },
    {
      "cell_type": "code",
      "execution_count": null,
      "metadata": {
        "id": "p38FB3Oda588"
      },
      "outputs": [],
      "source": [
        "process_pe[\"cidade_endcontratado\"].value_counts().plot(kind='barh', figsize=(10, 10))\n",
        "plt.title('Quantidade de processos em pernambuco por cidades.')\n",
        "plt.xlabel('Processos')\n",
        "plt.ylabel('Cidades')\n",
        "plt.gca().invert_yaxis()\n",
        "plt.xticks(rotation=90, fontsize=8)\n",
        "plt.show()"
      ]
    },
    {
      "cell_type": "code",
      "execution_count": null,
      "metadata": {
        "id": "c7zRslfvYh5y"
      },
      "outputs": [],
      "source": [
        "base[base[\"modalidadeprocessolicitatorio\"]!= \"PREGÃO ELETRÔNICO\"]\n",
        "# Os processos que não são da modalidade pregão eletrônico."
      ]
    },
    {
      "cell_type": "code",
      "execution_count": null,
      "metadata": {
        "id": "NwrpJRAmYh5y"
      },
      "outputs": [],
      "source": [
        "base[\"comissao_licitacao\"].value_counts()\n",
        "\n",
        "# Quantidade de processos em relação a sua respectiva comissão.\n"
      ]
    },
    {
      "cell_type": "code",
      "execution_count": null,
      "metadata": {
        "id": "N_KsD9_-Zp0z"
      },
      "outputs": [],
      "source": [
        "base[\"comissao_licitacao\"].value_counts().plot(kind='barh', figsize=(10, 10))\n",
        "plt.title('Frequência de comissões por licitação')\n",
        "plt.xlabel('Frequência')\n",
        "plt.ylabel('Comissões')\n",
        "plt.gca().invert_yaxis()\n",
        "plt.xticks(rotation=90, fontsize=8)\n",
        "plt.show()"
      ]
    },
    {
      "cell_type": "code",
      "execution_count": null,
      "metadata": {
        "id": "F-bTJMb9Yh5z"
      },
      "outputs": [],
      "source": [
        "base[\"orgao_licitante\"].value_counts()\n",
        "# quantidade de licitações por orgãos licitantes.\n",
        "\n"
      ]
    },
    {
      "cell_type": "code",
      "execution_count": null,
      "metadata": {
        "id": "QemIhuebYh5z"
      },
      "outputs": [],
      "source": [
        "base[\"orgao_licitante\"].value_counts().plot(kind='barh', figsize=(10, 10))\n",
        "plt.title('Licitações por orgãos')\n",
        "plt.xlabel('Frequência')\n",
        "plt.ylabel('Licitações')\n",
        "plt.gca().invert_yaxis()\n",
        "plt.xticks(rotation=90, fontsize=8)\n",
        "plt.show()"
      ]
    },
    {
      "cell_type": "code",
      "execution_count": null,
      "metadata": {
        "id": "F5D1vJfjYh50"
      },
      "outputs": [],
      "source": [
        "base[\"objeto\"].value_counts()\n",
        "# Quantidade de licitações para aquisição de materiais."
      ]
    },
    {
      "cell_type": "code",
      "execution_count": null,
      "metadata": {
        "id": "Q5F25vZSYh50"
      },
      "outputs": [],
      "source": [
        "qtd_process_maior_2022=base[base[\"ano_processolicitatorio\"]>= 2022]\n",
        "qtd_process_maior_2022[\"objeto\"].value_counts()\n",
        "\n",
        "# quantidade de objetos mais solicitados de apartir do ano de 2022 até a atualidade."
      ]
    },
    {
      "cell_type": "markdown",
      "metadata": {
        "id": "4NXT2FD2Yh51"
      },
      "source": [
        "<h3> Estrutura do Dataset</h3>"
      ]
    },
    {
      "cell_type": "code",
      "execution_count": 69,
      "metadata": {
        "colab": {
          "base_uri": "https://localhost:8080/"
        },
        "id": "vVKtTulUYh51",
        "outputId": "ad8f8f33-8e6e-4806-f61f-378646d1b405"
      },
      "outputs": [
        {
          "output_type": "execute_result",
          "data": {
            "text/plain": [
              "(19131, 23)"
            ]
          },
          "metadata": {},
          "execution_count": 69
        }
      ],
      "source": [
        "base.shape\n",
        "# Quantidade de linhas e colunas do dataset."
      ]
    },
    {
      "cell_type": "markdown",
      "metadata": {
        "id": "Gvbr8KRZYh51"
      },
      "source": [
        "<h3> Análise Estatística</h3>"
      ]
    },
    {
      "cell_type": "markdown",
      "metadata": {
        "id": "k5sSVgWNYh51"
      },
      "source": [
        "<h5> Valor Total Homologado. </h5>"
      ]
    },
    {
      "cell_type": "code",
      "execution_count": null,
      "metadata": {
        "id": "w53o7hGYiMgo"
      },
      "outputs": [],
      "source": [
        "# prompt: Crie um gráfico com os valores do valor total homologado em relação a sua respectiva frequência. Faça uma restrição dos 5 mais frequentes...\n",
        "\n",
        "base[\"valor_totalhomologadolicitacao\"].value_counts().head(5).plot(kind='barh', figsize=(10, 10))\n",
        "plt.title('Valor Total Homologado')\n",
        "plt.xlabel('Frequência')\n",
        "plt.ylabel('Valor')\n",
        "plt.gca().invert_yaxis()\n",
        "plt.xticks(rotation=90, fontsize=8)\n",
        "plt.show()\n"
      ]
    },
    {
      "cell_type": "markdown",
      "metadata": {
        "id": "_0xUAyMFYh52"
      },
      "source": [
        "<h6>  Moda  </h6>"
      ]
    },
    {
      "cell_type": "code",
      "execution_count": 71,
      "metadata": {
        "colab": {
          "base_uri": "https://localhost:8080/"
        },
        "id": "HwOygWVsYh52",
        "outputId": "d47eee59-245d-4bdf-f4d9-04da6f478203"
      },
      "outputs": [
        {
          "output_type": "execute_result",
          "data": {
            "text/plain": [
              "0    48981781.66\n",
              "Name: valor_totalhomologadolicitacao, dtype: float64"
            ]
          },
          "metadata": {},
          "execution_count": 71
        }
      ],
      "source": [
        "base[\"valor_totalhomologadolicitacao\"].mode()"
      ]
    },
    {
      "cell_type": "markdown",
      "metadata": {
        "id": "XFmRbJlFYh52"
      },
      "source": [
        "<h6>  Média  </h6>"
      ]
    },
    {
      "cell_type": "code",
      "execution_count": 72,
      "metadata": {
        "colab": {
          "base_uri": "https://localhost:8080/"
        },
        "id": "G6Jjwt3tYh52",
        "outputId": "ff6c2417-2a60-443a-b173-b981f79ebf07"
      },
      "outputs": [
        {
          "output_type": "execute_result",
          "data": {
            "text/plain": [
              "4949676.153772411"
            ]
          },
          "metadata": {},
          "execution_count": 72
        }
      ],
      "source": [
        "base[\"valor_totalhomologadolicitacao\"].mean()"
      ]
    },
    {
      "cell_type": "markdown",
      "metadata": {
        "id": "J1JULVQqYh53"
      },
      "source": [
        "<h6>  Médiana </h6>"
      ]
    },
    {
      "cell_type": "code",
      "execution_count": 73,
      "metadata": {
        "colab": {
          "base_uri": "https://localhost:8080/"
        },
        "id": "QYhZ2y_MYh53",
        "outputId": "e9444416-67f2-4c3e-ba1b-77fc2ab6d3d7"
      },
      "outputs": [
        {
          "output_type": "execute_result",
          "data": {
            "text/plain": [
              "934045.55"
            ]
          },
          "metadata": {},
          "execution_count": 73
        }
      ],
      "source": [
        "base[\"valor_totalhomologadolicitacao\"].median()"
      ]
    },
    {
      "cell_type": "markdown",
      "metadata": {
        "id": "qRLzuykQYh53"
      },
      "source": [
        "<h6> Variância </h6>"
      ]
    },
    {
      "cell_type": "code",
      "execution_count": 74,
      "metadata": {
        "colab": {
          "base_uri": "https://localhost:8080/"
        },
        "id": "ARaBQ_43Yh53",
        "outputId": "3f887a38-a2f8-40cb-9528-fe8e445c5d86"
      },
      "outputs": [
        {
          "output_type": "execute_result",
          "data": {
            "text/plain": [
              "336869848544124.4"
            ]
          },
          "metadata": {},
          "execution_count": 74
        }
      ],
      "source": [
        "base[\"valor_totalhomologadolicitacao\"].var()"
      ]
    },
    {
      "cell_type": "markdown",
      "metadata": {
        "id": "sIHCM3V8Yh53"
      },
      "source": [
        "<h6>Desvio Padrão</h6>"
      ]
    },
    {
      "cell_type": "code",
      "execution_count": 75,
      "metadata": {
        "colab": {
          "base_uri": "https://localhost:8080/"
        },
        "id": "Os6ZQCM_Yh54",
        "outputId": "84d3ce66-f66a-4561-887b-22fe7d38a5c9"
      },
      "outputs": [
        {
          "output_type": "execute_result",
          "data": {
            "text/plain": [
              "18354014.507570937"
            ]
          },
          "metadata": {},
          "execution_count": 75
        }
      ],
      "source": [
        "base[\"valor_totalhomologadolicitacao\"].std()"
      ]
    },
    {
      "cell_type": "markdown",
      "metadata": {
        "id": "6yA3HrmrYh54"
      },
      "source": [
        "<h6> Assimetria: Sendo ela positiva, indicando uma cauda mais longa ou mais espessa à direita. </h6>"
      ]
    },
    {
      "cell_type": "code",
      "execution_count": 76,
      "metadata": {
        "colab": {
          "base_uri": "https://localhost:8080/"
        },
        "id": "TxX9w9fqYh54",
        "outputId": "5e1e0d84-519d-4532-e9a4-a3e8bd0f7f4a"
      },
      "outputs": [
        {
          "output_type": "execute_result",
          "data": {
            "text/plain": [
              "33.641281184396206"
            ]
          },
          "metadata": {},
          "execution_count": 76
        }
      ],
      "source": [
        "base[\"valor_totalhomologadolicitacao\"].skew()"
      ]
    },
    {
      "cell_type": "markdown",
      "metadata": {
        "id": "KEoANM8dYh55"
      },
      "source": [
        "<h6> Curtose: <strong>Leptocúrtica</strong>,pois tem um excesso de curtose positiva.</h6>"
      ]
    },
    {
      "cell_type": "code",
      "execution_count": 77,
      "metadata": {
        "colab": {
          "base_uri": "https://localhost:8080/"
        },
        "id": "avk8F0POYh55",
        "outputId": "777b4402-1da7-444e-a115-fce25433e8b3"
      },
      "outputs": [
        {
          "output_type": "execute_result",
          "data": {
            "text/plain": [
              "1694.6579564678113"
            ]
          },
          "metadata": {},
          "execution_count": 77
        }
      ],
      "source": [
        "base[\"valor_totalhomologadolicitacao\"].kurtosis()"
      ]
    },
    {
      "cell_type": "markdown",
      "metadata": {
        "id": "2PnlS6h7Yh55"
      },
      "source": [
        "<h5> Valor de licitação por lote </h5>"
      ]
    },
    {
      "cell_type": "code",
      "execution_count": null,
      "metadata": {
        "id": "hOjY2i4CjmKc"
      },
      "outputs": [],
      "source": [
        "base[\"valor_licitacao_lote\"].value_counts().head(5).plot(kind='barh', figsize=(10, 10))\n",
        "plt.title('Valor de licitação por lote')\n",
        "plt.xlabel('Frequência')\n",
        "plt.ylabel('Valor')\n",
        "plt.gca().invert_yaxis()\n",
        "plt.xticks(rotation=90, fontsize=8)\n",
        "plt.show()"
      ]
    },
    {
      "cell_type": "markdown",
      "metadata": {
        "id": "pBQqY3KWYh56"
      },
      "source": [
        "<h6> Moda</h6>"
      ]
    },
    {
      "cell_type": "code",
      "execution_count": null,
      "metadata": {
        "id": "t48iqxjbYh56"
      },
      "outputs": [],
      "source": [
        "base[\"valor_licitacao_lote\"].mode()"
      ]
    },
    {
      "cell_type": "markdown",
      "metadata": {
        "id": "dcXRlOTrYh56"
      },
      "source": [
        "<h6>  Média  </h6>"
      ]
    },
    {
      "cell_type": "code",
      "execution_count": null,
      "metadata": {
        "id": "w30vWs6CYh56"
      },
      "outputs": [],
      "source": [
        "base[\"valor_licitacao_lote\"].mean()"
      ]
    },
    {
      "cell_type": "markdown",
      "metadata": {
        "id": "nNDN63gXYh57"
      },
      "source": [
        "<h6>  Mediana  </h6>"
      ]
    },
    {
      "cell_type": "code",
      "execution_count": null,
      "metadata": {
        "id": "z4Mfoma0Yh57"
      },
      "outputs": [],
      "source": [
        "base[\"valor_licitacao_lote\"].median()"
      ]
    },
    {
      "cell_type": "markdown",
      "metadata": {
        "id": "RgCSQhklYh58"
      },
      "source": [
        "<h6> Variância </h6>"
      ]
    },
    {
      "cell_type": "code",
      "execution_count": 82,
      "metadata": {
        "colab": {
          "base_uri": "https://localhost:8080/"
        },
        "id": "lqxdCO58Yh58",
        "outputId": "a4950019-93a0-4c0f-c038-315c9a2c65c7"
      },
      "outputs": [
        {
          "output_type": "execute_result",
          "data": {
            "text/plain": [
              "89619700094276.73"
            ]
          },
          "metadata": {},
          "execution_count": 82
        }
      ],
      "source": [
        "base[\"valor_licitacao_lote\"].var()"
      ]
    },
    {
      "cell_type": "markdown",
      "metadata": {
        "id": "iM0Bgj_2Yh59"
      },
      "source": [
        "<h6>Desvio Padrão</h6>"
      ]
    },
    {
      "cell_type": "code",
      "execution_count": 83,
      "metadata": {
        "colab": {
          "base_uri": "https://localhost:8080/"
        },
        "id": "iie3VxIIYh59",
        "outputId": "c2fdf77a-803d-47fe-d679-5a148386fb90"
      },
      "outputs": [
        {
          "output_type": "execute_result",
          "data": {
            "text/plain": [
              "9466768.196923211"
            ]
          },
          "metadata": {},
          "execution_count": 83
        }
      ],
      "source": [
        "base[\"valor_licitacao_lote\"].std()"
      ]
    },
    {
      "cell_type": "markdown",
      "metadata": {
        "id": "UXxBeDUCYh5-"
      },
      "source": [
        "<h6> Assimetria: Sendo ela positiva, indicando uma cauda mais longa ou mais espessa à direita. </h6>"
      ]
    },
    {
      "cell_type": "code",
      "execution_count": null,
      "metadata": {
        "id": "fEW4kfbbYh5-"
      },
      "outputs": [],
      "source": [
        "base[\"valor_licitacao_lote\"].skew()"
      ]
    },
    {
      "cell_type": "markdown",
      "metadata": {
        "id": "29ACcPAEYh5-"
      },
      "source": [
        "<h6> Curtose: <strong>Leptocúrtica</strong>,pois tem um excesso de curtose positiva.</h6>"
      ]
    },
    {
      "cell_type": "code",
      "execution_count": null,
      "metadata": {
        "id": "eLn-U7S_Yh5-"
      },
      "outputs": [],
      "source": [
        "base[\"valor_licitacao_lote\"].kurtosis()"
      ]
    }
  ],
  "metadata": {
    "colab": {
      "provenance": [],
      "include_colab_link": true
    },
    "kernelspec": {
      "display_name": "Python 3",
      "name": "python3"
    },
    "language_info": {
      "codemirror_mode": {
        "name": "ipython",
        "version": 3
      },
      "file_extension": ".py",
      "mimetype": "text/x-python",
      "name": "python",
      "nbconvert_exporter": "python",
      "pygments_lexer": "ipython3",
      "version": "3.11.5"
    }
  },
  "nbformat": 4,
  "nbformat_minor": 0
}